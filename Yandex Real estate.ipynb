{
 "cells": [
  {
   "cell_type": "markdown",
   "metadata": {},
   "source": [
    "# Исследование объявлений о продаже квартир\n",
    "\n",
    "В вашем распоряжении данные сервиса Яндекс.Недвижимость — архив объявлений о продаже квартир в Санкт-Петербурге и соседних населённых пунктов за несколько лет. Нужно научиться определять рыночную стоимость объектов недвижимости. Ваша задача — установить параметры. Это позволит построить автоматизированную систему: она отследит аномалии и мошенническую деятельность. \n",
    "\n",
    "По каждой квартире на продажу доступны два вида данных. Первые вписаны пользователем, вторые — получены автоматически на основе картографических данных. Например, расстояние до центра, аэропорта, ближайшего парка и водоёма. "
   ]
  },
  {
   "cell_type": "markdown",
   "metadata": {},
   "source": [
    "### Откройте файл с данными и изучите общую информацию. "
   ]
  },
  {
   "cell_type": "code",
   "execution_count": 1,
   "metadata": {},
   "outputs": [
    {
     "name": "stdout",
     "output_type": "stream",
     "text": [
      "<class 'pandas.core.frame.DataFrame'>\n",
      "RangeIndex: 23699 entries, 0 to 23698\n",
      "Data columns (total 22 columns):\n",
      " #   Column                Non-Null Count  Dtype  \n",
      "---  ------                --------------  -----  \n",
      " 0   total_images          23699 non-null  int64  \n",
      " 1   last_price            23699 non-null  float64\n",
      " 2   total_area            23699 non-null  float64\n",
      " 3   first_day_exposition  23699 non-null  object \n",
      " 4   rooms                 23699 non-null  int64  \n",
      " 5   ceiling_height        14504 non-null  float64\n",
      " 6   floors_total          23613 non-null  float64\n",
      " 7   living_area           21796 non-null  float64\n",
      " 8   floor                 23699 non-null  int64  \n",
      " 9   is_apartment          2775 non-null   object \n",
      " 10  studio                23699 non-null  bool   \n",
      " 11  open_plan             23699 non-null  bool   \n",
      " 12  kitchen_area          21421 non-null  float64\n",
      " 13  balcony               12180 non-null  float64\n",
      " 14  locality_name         23650 non-null  object \n",
      " 15  airports_nearest      18157 non-null  float64\n",
      " 16  cityCenters_nearest   18180 non-null  float64\n",
      " 17  parks_around3000      18181 non-null  float64\n",
      " 18  parks_nearest         8079 non-null   float64\n",
      " 19  ponds_around3000      18181 non-null  float64\n",
      " 20  ponds_nearest         9110 non-null   float64\n",
      " 21  days_exposition       20518 non-null  float64\n",
      "dtypes: bool(2), float64(14), int64(3), object(3)\n",
      "memory usage: 3.7+ MB\n"
     ]
    }
   ],
   "source": [
    "import pandas as pd\n",
    "data = pd.read_csv('/datasets/real_estate_data.csv', sep = '\\t')\n",
    "data.info()\n",
    "#data.describe()\n",
    "#data.hist(figsize=(15, 20))"
   ]
  },
  {
   "cell_type": "markdown",
   "metadata": {},
   "source": [
    "### Предобработка данных"
   ]
  },
  {
   "cell_type": "markdown",
   "metadata": {},
   "source": [
    "**2.1 ПРОПУСКИ:**"
   ]
  },
  {
   "cell_type": "code",
   "execution_count": 2,
   "metadata": {},
   "outputs": [
    {
     "name": "stderr",
     "output_type": "stream",
     "text": [
      "/opt/conda/lib/python3.9/site-packages/numpy/lib/nanfunctions.py:1117: RuntimeWarning: Mean of empty slice\n",
      "  return np.nanmean(a, axis, out=out, keepdims=keepdims)\n"
     ]
    },
    {
     "data": {
      "text/plain": [
       "0"
      ]
     },
     "execution_count": 2,
     "metadata": {},
     "output_type": "execute_result"
    }
   ],
   "source": [
    "# ceiling_height(высота потолков)\n",
    "for row in data['floors_total'].unique():\n",
    "    data.loc[(data['floors_total'] == row) & (data['ceiling_height'].isna()),'ceiling_height'] =\\\n",
    "    data.loc[(data['floors_total'] == row), 'ceiling_height'].median()\n",
    "data['ceiling_height'] = data['ceiling_height'].fillna(data['ceiling_height'].median())\n",
    "data['ceiling_height'].isna().sum()"
   ]
  },
  {
   "cell_type": "markdown",
   "metadata": {},
   "source": [
    "Пропуски заполнила значением медианы с учетом этажности дома через цикл, так как скорей всего в пятиэтажных домах потолки выше (хрущевки, сталинки, брежневки)\n",
    "\n",
    "Причины, которые могли привести к пропускам:\n",
    "\n",
    "1/ Человеческий фактор (забыли/попустили/не считали информацию важной)\n",
    "\n",
    "2/ Технический фактор (сбой при передаче данных на любом этапе)"
   ]
  },
  {
   "cell_type": "code",
   "execution_count": 3,
   "metadata": {},
   "outputs": [
    {
     "data": {
      "text/plain": [
       "0"
      ]
     },
     "execution_count": 3,
     "metadata": {},
     "output_type": "execute_result"
    }
   ],
   "source": [
    "# floors_total(всего этажей в доме)\n",
    "data = data.dropna(subset=['floors_total']).reset_index(drop = True)\n",
    "data['floors_total'].isna().sum()"
   ]
  },
  {
   "cell_type": "code",
   "execution_count": 4,
   "metadata": {},
   "outputs": [
    {
     "data": {
      "text/plain": [
       "0"
      ]
     },
     "execution_count": 4,
     "metadata": {},
     "output_type": "execute_result"
    }
   ],
   "source": [
    "# код ревьюера\n",
    "data[data['floors_total'] < data['floor']].shape[0]"
   ]
  },
  {
   "cell_type": "markdown",
   "metadata": {},
   "source": [
    "Пропуски заполнила значением медианы с учетом локаций через цикл, так как скорей всего этажность построек в одном населенном пункте схожее\n",
    "\n",
    "Причины, которые могли привести к пропускам:\n",
    "\n",
    "1/ Человеческий фактор (забыли/попустили/не считали информацию важной)\n",
    "\n",
    "2/ Технический фактор (сбой при передаче данных на любом этапе)\n"
   ]
  },
  {
   "cell_type": "code",
   "execution_count": 5,
   "metadata": {},
   "outputs": [
    {
     "data": {
      "text/plain": [
       "0"
      ]
     },
     "execution_count": 5,
     "metadata": {},
     "output_type": "execute_result"
    }
   ],
   "source": [
    "#living_area(жилая площадь в квадратных метрах)\n",
    "data['coef_liv'] = data['living_area']/data['total_area']\n",
    "rooms_coeff_living = data.query('living_area > 0').pivot_table(index='rooms', values='coef_liv')\n",
    "for row in data['rooms'].unique():\n",
    "    data.loc[(data['rooms']== row) & (data['living_area'].isna()),'living_area'] =\\\n",
    "    data.loc[(data['rooms']== row) & (data['living_area'].isna()), 'total_area'] * rooms_coeff_living.loc[row, 'coef_liv']\n",
    "data['living_area'].isna().sum()"
   ]
  },
  {
   "cell_type": "markdown",
   "metadata": {},
   "source": [
    "Пропуски заполнила с учетом усредненного коэффициента жилой площади по кол-ву комнат, так как коэффициент более прозрачная величина для определения значения. \n",
    "Жилая плошадь одной комнаты скорее всего будет отличаться от жилой площади с двумя комнатами, при этом коэффициент, умноженный на общую площадь, показывает более реалистичную картину, чем просто вычисление значения медианы жилой площади по кол-ву комнат.\n",
    "\n",
    "Причины, которые могли привести к пропускам:\n",
    "\n",
    "1/ Человеческий фактор (забыли/попустили/не считали информацию важной)\n",
    "\n",
    "2/ Технический фактор (сбой при передаче данных на любом этапе)"
   ]
  },
  {
   "cell_type": "code",
   "execution_count": 6,
   "metadata": {},
   "outputs": [
    {
     "data": {
      "text/plain": [
       "0"
      ]
     },
     "execution_count": 6,
     "metadata": {},
     "output_type": "execute_result"
    }
   ],
   "source": [
    "# is_apartment(апартаменты да/нет)\n",
    "data['is_apartment']= data['is_apartment'].fillna(False)\n",
    "data['is_apartment'].isna().sum()"
   ]
  },
  {
   "cell_type": "code",
   "execution_count": 7,
   "metadata": {},
   "outputs": [
    {
     "data": {
      "text/plain": [
       "True"
      ]
     },
     "execution_count": 7,
     "metadata": {},
     "output_type": "execute_result"
    }
   ],
   "source": [
    "bool('False') #код ревьюера"
   ]
  },
  {
   "cell_type": "markdown",
   "metadata": {},
   "source": [
    "Пропуски заполнила значением False, так как скорей всего пользователь посчитал, что пустота является фактом подтверждения отсутствия признака Апартаменты  "
   ]
  },
  {
   "cell_type": "code",
   "execution_count": 8,
   "metadata": {},
   "outputs": [
    {
     "data": {
      "text/plain": [
       "0"
      ]
     },
     "execution_count": 8,
     "metadata": {},
     "output_type": "execute_result"
    }
   ],
   "source": [
    "# kitchen_area(площадь кухни в квадратных метрах)\n",
    "data['coef_kit'] = data['kitchen_area']/data['total_area']\n",
    "rooms_coeff_kitchen = data.query('kitchen_area > 0').pivot_table(index='rooms', values='coef_kit')\n",
    "for row in rooms_coeff_kitchen.index:\n",
    "    data.loc[(data['rooms'] == row) & (data['kitchen_area'].isna()), 'kitchen_area'] =\\\n",
    "    data.loc[(data['rooms'] == row) & (data['kitchen_area'].isna()), 'total_area'] * rooms_coeff_kitchen.loc[row, 'coef_kit']\n",
    "data['kitchen_area'] = data['kitchen_area'].fillna(data['total_area'] - data['living_area'])\n",
    "data['kitchen_area'].isna().sum()"
   ]
  },
  {
   "cell_type": "markdown",
   "metadata": {},
   "source": [
    "Пропуски заполнила с учетом усредненного коэффициента площади кухни по кол-ву комнат, так как коэффициент более прозрачная величина для определения значения. \n",
    "Площадь кухни одной комнаты скорее всего будет отличаться от площади кухни с двумя комнатами, при этом коэффициент, умноженный на общую площадь, показывает более реалистичную картину, чем просто вычисление значения медианы площади кухни по кол-ву комнат.\n",
    "\n",
    "Причины, которые могли привести к пропускам:\n",
    "\n",
    "1/ Человеческий фактор (забыли/попустили/не считали информацию важной)\n",
    "\n",
    "2/ Технический фактор (сбой при передаче данных на любом этапе)"
   ]
  },
  {
   "cell_type": "code",
   "execution_count": 9,
   "metadata": {},
   "outputs": [
    {
     "data": {
      "text/plain": [
       "0"
      ]
     },
     "execution_count": 9,
     "metadata": {},
     "output_type": "execute_result"
    }
   ],
   "source": [
    "#balcony(число балконов)\n",
    "data['balcony'] = data['balcony'].fillna(0)\n",
    "data['balcony'].isna().sum()"
   ]
  },
  {
   "cell_type": "markdown",
   "metadata": {},
   "source": [
    "Пропуски заполнила значением = 0, так как скорей всего у пользователя отсутствует балкон (не заполнял значение) "
   ]
  },
  {
   "cell_type": "code",
   "execution_count": 10,
   "metadata": {},
   "outputs": [
    {
     "data": {
      "text/plain": [
       "0"
      ]
     },
     "execution_count": 10,
     "metadata": {},
     "output_type": "execute_result"
    }
   ],
   "source": [
    "# locality_name (название населённого пункта)\n",
    "data = data.dropna(subset=['locality_name']).reset_index(drop = True)\n",
    "data['locality_name'].isna().sum()"
   ]
  },
  {
   "cell_type": "markdown",
   "metadata": {},
   "source": [
    "Пропуски удалила, так как локация самый важный показатель для анализа. Его отсутствие невозможно заполнить реалистичным значением"
   ]
  },
  {
   "cell_type": "code",
   "execution_count": 11,
   "metadata": {},
   "outputs": [
    {
     "data": {
      "text/plain": [
       "0"
      ]
     },
     "execution_count": 11,
     "metadata": {},
     "output_type": "execute_result"
    }
   ],
   "source": [
    "#airports_nearest(расстояние до ближайшего аэропорта в метрах)\n",
    "def funmedian (group, name):\n",
    "    air_median = data.groupby(group)[name].median()\n",
    "    for fl in data[group].unique():\n",
    "        data.loc[(data[group] == fl), name] =\\\n",
    "        data.loc[(data[group] == fl), name].fillna (air_median[fl])\n",
    "    return data[name].isna().sum()\n",
    "\n",
    "funmedian ('locality_name', 'airports_nearest')\n",
    "data['airports_nearest'] = data['airports_nearest'].fillna(77777777)\n",
    "data['airports_nearest'].isna().sum()"
   ]
  },
  {
   "cell_type": "markdown",
   "metadata": {},
   "source": [
    "Обратите внимание, в данном решении уже использовала функцию для заполнения пропусков иным методом.\n",
    "Пропуски заполнила значением медианы по локации, так как скорей всего удаленность аэропорта в одном населенном пункте схожее.\n",
    "А также добавила маркер 77777777 для значений, по которым расчет выше не сработал, таким образом в дальнейшем отфильтрую данные при необходимости \n",
    "\n",
    "Причины, которые могли привести к пропускам:\n",
    "\n",
    "1/ Человеческий фактор (забыли/попустили/не считали информацию важной)\n",
    "\n",
    "2/ Технический фактор (сбой при передаче данных на любом этапе)"
   ]
  },
  {
   "cell_type": "code",
   "execution_count": 12,
   "metadata": {},
   "outputs": [
    {
     "data": {
      "text/plain": [
       "0"
      ]
     },
     "execution_count": 12,
     "metadata": {},
     "output_type": "execute_result"
    }
   ],
   "source": [
    "#cityCenters_nearest(расстояние до центра города)\n",
    "funmedian ('locality_name', 'cityCenters_nearest')\n",
    "data['cityCenters_nearest'] = data['cityCenters_nearest'].fillna(77777777)\n",
    "data['cityCenters_nearest'].isna().sum()"
   ]
  },
  {
   "cell_type": "markdown",
   "metadata": {},
   "source": [
    "Пропуски заполнила значением медианы по локации, так как скорей всего удаленность центра в одном населенном пункте схожее.\n",
    "А также добавила маркер 77777777 для значений, по которым расчет выше не сработал, таким образом в дальнейшем отфильтрую данные при необходимости \n",
    "\n",
    "Причины, которые могли привести к пропускам:\n",
    "\n",
    "1/ Человеческий фактор (забыли/попустили/не считали информацию важной)\n",
    "\n",
    "2/ Технический фактор (сбой при передаче данных на любом этапе)"
   ]
  },
  {
   "cell_type": "code",
   "execution_count": 13,
   "metadata": {},
   "outputs": [
    {
     "data": {
      "text/plain": [
       "0"
      ]
     },
     "execution_count": 13,
     "metadata": {},
     "output_type": "execute_result"
    }
   ],
   "source": [
    "#parks_around3000(число парков в радиусе 3 км)\n",
    "data['parks_around3000'] = data['parks_around3000'].fillna(0)\n",
    "data['parks_around3000'].isna().sum()"
   ]
  },
  {
   "cell_type": "markdown",
   "metadata": {},
   "source": [
    "Пропуски заполнила значением = 0\n",
    "\n",
    "Причины, которые могли привести к пропускам:\n",
    "\n",
    "1/ Человеческий фактор (забыли/попустили/не считали информацию важной)\n",
    "\n",
    "2/ Технический фактор (сбой при передаче данных на любом этапе)"
   ]
  },
  {
   "cell_type": "code",
   "execution_count": 14,
   "metadata": {},
   "outputs": [
    {
     "data": {
      "text/plain": [
       "0"
      ]
     },
     "execution_count": 14,
     "metadata": {},
     "output_type": "execute_result"
    }
   ],
   "source": [
    "#parks_nearest(расстояние до ближайшего парка)\n",
    "funmedian ('locality_name', 'parks_nearest')\n",
    "data['parks_nearest'] = data['parks_nearest'].fillna(77777777)\n",
    "data['parks_nearest'].isna().sum()"
   ]
  },
  {
   "cell_type": "markdown",
   "metadata": {},
   "source": [
    "Пропуски заполнила значением медианы по локации, так как скорей всего удаленность парка в одном населенном пункте схожее. А также добавила маркер 77777777 для значений, по которым расчет выше не сработал, таким образом в дальнейшем отфильтрую данные при необходимости\n",
    "\n",
    "Причины, которые могли привести к пропускам:\n",
    "\n",
    "1/ Человеческий фактор (забыли/попустили/не считали информацию важной)\n",
    "\n",
    "2/ Технический фактор (сбой при передаче данных на любом этапе)"
   ]
  },
  {
   "cell_type": "code",
   "execution_count": 15,
   "metadata": {},
   "outputs": [
    {
     "data": {
      "text/plain": [
       "0"
      ]
     },
     "execution_count": 15,
     "metadata": {},
     "output_type": "execute_result"
    }
   ],
   "source": [
    "#ponds_around3000(число водоёмов в радиусе 3 км)\n",
    "data['ponds_around3000'] = data['ponds_around3000'].fillna(0)\n",
    "data['ponds_around3000'].isna().sum()"
   ]
  },
  {
   "cell_type": "markdown",
   "metadata": {},
   "source": [
    "Пропуски заполнила значением = 0\n",
    "\n",
    "Причины, которые могли привести к пропускам:\n",
    "\n",
    "1/ Человеческий фактор (забыли/попустили/не считали информацию важной)\n",
    "\n",
    "2/ Технический фактор (сбой при передаче данных на любом этапе)"
   ]
  },
  {
   "cell_type": "code",
   "execution_count": 16,
   "metadata": {},
   "outputs": [
    {
     "data": {
      "text/plain": [
       "0"
      ]
     },
     "execution_count": 16,
     "metadata": {},
     "output_type": "execute_result"
    }
   ],
   "source": [
    "#ponds_nearest(расстояние до ближайшего водоёма)\n",
    "funmedian ('locality_name', 'ponds_nearest')\n",
    "data['ponds_nearest'] = data['ponds_nearest'].fillna(77777777)\n",
    "data['ponds_nearest'].isna().sum()"
   ]
  },
  {
   "cell_type": "markdown",
   "metadata": {},
   "source": [
    "Пропуски заполнила значением медианы по локации, так как скорей всего удаленность в одном населенном пункте схожее. А также добавила маркер 77777777 для значений, по которым расчет выше не сработал, таким образом в дальнейшем отфильтрую данные при необходимости\n",
    "\n",
    "Причины, которые могли привести к пропускам:\n",
    "\n",
    "1/ Человеческий фактор (забыли/попустили/не считали информацию важной)\n",
    "\n",
    "2/ Технический фактор (сбой при передаче данных на любом этапе)"
   ]
  },
  {
   "cell_type": "code",
   "execution_count": 17,
   "metadata": {},
   "outputs": [
    {
     "data": {
      "text/plain": [
       "0"
      ]
     },
     "execution_count": 17,
     "metadata": {},
     "output_type": "execute_result"
    }
   ],
   "source": [
    "#days_exposition(сколько дней было размещено объявление (от публикации до снятия))\n",
    "data['days_exposition'] = data['days_exposition'].fillna(77777777)\n",
    "data['days_exposition'].isna().sum()"
   ]
  },
  {
   "cell_type": "markdown",
   "metadata": {},
   "source": [
    "Пропуски заполнила маркером 77777777 таким образом в дальнейшем отфильтрую данные при необходимости.\n",
    "Пропуски связаны с тем, что квартиры еще не проданы"
   ]
  },
  {
   "cell_type": "code",
   "execution_count": 18,
   "metadata": {},
   "outputs": [
    {
     "name": "stdout",
     "output_type": "stream",
     "text": [
      "<class 'pandas.core.frame.DataFrame'>\n",
      "RangeIndex: 23565 entries, 0 to 23564\n",
      "Data columns (total 24 columns):\n",
      " #   Column                Non-Null Count  Dtype  \n",
      "---  ------                --------------  -----  \n",
      " 0   total_images          23565 non-null  int64  \n",
      " 1   last_price            23565 non-null  float64\n",
      " 2   total_area            23565 non-null  float64\n",
      " 3   first_day_exposition  23565 non-null  object \n",
      " 4   rooms                 23565 non-null  int64  \n",
      " 5   ceiling_height        23565 non-null  float64\n",
      " 6   floors_total          23565 non-null  float64\n",
      " 7   living_area           23565 non-null  float64\n",
      " 8   floor                 23565 non-null  int64  \n",
      " 9   is_apartment          23565 non-null  bool   \n",
      " 10  studio                23565 non-null  bool   \n",
      " 11  open_plan             23565 non-null  bool   \n",
      " 12  kitchen_area          23565 non-null  float64\n",
      " 13  balcony               23565 non-null  float64\n",
      " 14  locality_name         23565 non-null  object \n",
      " 15  airports_nearest      23565 non-null  float64\n",
      " 16  cityCenters_nearest   23565 non-null  float64\n",
      " 17  parks_around3000      23565 non-null  float64\n",
      " 18  parks_nearest         23565 non-null  float64\n",
      " 19  ponds_around3000      23565 non-null  float64\n",
      " 20  ponds_nearest         23565 non-null  float64\n",
      " 21  days_exposition       23565 non-null  float64\n",
      " 22  coef_liv              21700 non-null  float64\n",
      " 23  coef_kit              21343 non-null  float64\n",
      "dtypes: bool(3), float64(16), int64(3), object(2)\n",
      "memory usage: 3.8+ MB\n"
     ]
    }
   ],
   "source": [
    "#посмотрела на общую ситуацию\n",
    "data.info()"
   ]
  },
  {
   "cell_type": "markdown",
   "metadata": {},
   "source": [
    "**2.2 ИЗМЕНЕНИЕ ТИПА ДАННЫХ**"
   ]
  },
  {
   "cell_type": "code",
   "execution_count": 19,
   "metadata": {},
   "outputs": [],
   "source": [
    "#first_day_exposition(дата публикации)\n",
    "data['first_day_exposition'] = pd.to_datetime(data['first_day_exposition'], format='%Y-%m-%dT%H:%M:%S')"
   ]
  },
  {
   "cell_type": "markdown",
   "metadata": {},
   "source": [
    "Очевидно, что дата должна быть в формате date"
   ]
  },
  {
   "cell_type": "code",
   "execution_count": 20,
   "metadata": {},
   "outputs": [],
   "source": [
    "#last_price(цена)\n",
    "#floors_total(всего этажей в доме)\n",
    "#balcony(число балконов)\n",
    "#parks_around3000(число парков в радиусе 3 км)\n",
    "#ponds_around3000(число водоёмов в радиусе 3 км)\n",
    "#days_exposition(сколько дней было размещено объявление (от публикации до снятия))\n",
    "\n",
    "for i in ['last_price','floors_total', 'balcony', 'parks_around3000','ponds_around3000', 'days_exposition']:\n",
    "    data[i] = data[i].astype('int64')\n",
    "    \n",
    "#total_area(общая площадь квартиры в квадратных метрах)\n",
    "#ceiling_height(высота потолков)\n",
    "#living_area(жилая площадь в квадратных метрах)\n",
    "#kitchen_area(площадь кухни в квадратных метрах)\n",
    "\n",
    "for i in ['total_area','ceiling_height','living_area','kitchen_area']:\n",
    "    data[i] = data[i].round(1)   "
   ]
  },
  {
   "cell_type": "markdown",
   "metadata": {},
   "source": [
    "Через цикл преобразовала числовые значения в int, так как данные  после запятой не несут ценности и  сократила кол-во символов до одного после запятой, где необходимо - для читабельности данных"
   ]
  },
  {
   "cell_type": "markdown",
   "metadata": {},
   "source": [
    "**2.3 ДУБЛИКАТЫ**"
   ]
  },
  {
   "cell_type": "code",
   "execution_count": 21,
   "metadata": {},
   "outputs": [
    {
     "name": "stdout",
     "output_type": "stream",
     "text": [
      "<class 'pandas.core.frame.DataFrame'>\n",
      "RangeIndex: 23565 entries, 0 to 23564\n",
      "Data columns (total 24 columns):\n",
      " #   Column                Non-Null Count  Dtype         \n",
      "---  ------                --------------  -----         \n",
      " 0   total_images          23565 non-null  int64         \n",
      " 1   last_price            23565 non-null  int64         \n",
      " 2   total_area            23565 non-null  float64       \n",
      " 3   first_day_exposition  23565 non-null  datetime64[ns]\n",
      " 4   rooms                 23565 non-null  int64         \n",
      " 5   ceiling_height        23565 non-null  float64       \n",
      " 6   floors_total          23565 non-null  int64         \n",
      " 7   living_area           23565 non-null  float64       \n",
      " 8   floor                 23565 non-null  int64         \n",
      " 9   is_apartment          23565 non-null  bool          \n",
      " 10  studio                23565 non-null  bool          \n",
      " 11  open_plan             23565 non-null  bool          \n",
      " 12  kitchen_area          23565 non-null  float64       \n",
      " 13  balcony               23565 non-null  int64         \n",
      " 14  locality_name         23565 non-null  object        \n",
      " 15  airports_nearest      23565 non-null  float64       \n",
      " 16  cityCenters_nearest   23565 non-null  float64       \n",
      " 17  parks_around3000      23565 non-null  int64         \n",
      " 18  parks_nearest         23565 non-null  float64       \n",
      " 19  ponds_around3000      23565 non-null  int64         \n",
      " 20  ponds_nearest         23565 non-null  float64       \n",
      " 21  days_exposition       23565 non-null  int64         \n",
      " 22  coef_liv              21700 non-null  float64       \n",
      " 23  coef_kit              21343 non-null  float64       \n",
      "dtypes: bool(3), datetime64[ns](1), float64(10), int64(9), object(1)\n",
      "memory usage: 3.8+ MB\n"
     ]
    }
   ],
   "source": [
    "#locality_name(название населённого пункта)\n",
    "data['locality_name'].value_counts()\n",
    "data['locality_name'] = data['locality_name'].str.lower()\n",
    "data['locality_name'] = data['locality_name'].str.replace('ё', 'е', regex = True)\n",
    "data['locality_name'] = data['locality_name'].str.replace('деревня', ' ', regex = True)\n",
    "data['locality_name'] = data['locality_name'].str.replace('поселок', ' ', regex = True)\n",
    "data['locality_name'] = data['locality_name'].str.replace('городского типа', ' ', regex = True)\n",
    "data['locality_name'] = data['locality_name'].str.replace('село', ' ', regex = True)\n",
    "data['locality_name'] = data['locality_name'].str.replace('городской', ' ', regex = True)\n",
    "data['locality_name'] = data['locality_name'].str.replace('садовое товарищество', ' ', regex = True)\n",
    "data['locality_name'] = data['locality_name'].str.strip()\n",
    "data.info()"
   ]
  },
  {
   "cell_type": "markdown",
   "metadata": {},
   "source": [
    "**2.4 ВЫБИВАЮЩИЕСЯ ЗНАЧЕНИЯ**"
   ]
  },
  {
   "cell_type": "code",
   "execution_count": 22,
   "metadata": {},
   "outputs": [
    {
     "data": {
      "text/html": [
       "<div>\n",
       "<style scoped>\n",
       "    .dataframe tbody tr th:only-of-type {\n",
       "        vertical-align: middle;\n",
       "    }\n",
       "\n",
       "    .dataframe tbody tr th {\n",
       "        vertical-align: top;\n",
       "    }\n",
       "\n",
       "    .dataframe thead th {\n",
       "        text-align: right;\n",
       "    }\n",
       "</style>\n",
       "<table border=\"1\" class=\"dataframe\">\n",
       "  <thead>\n",
       "    <tr style=\"text-align: right;\">\n",
       "      <th></th>\n",
       "      <th>total_images</th>\n",
       "      <th>last_price</th>\n",
       "      <th>total_area</th>\n",
       "      <th>rooms</th>\n",
       "      <th>ceiling_height</th>\n",
       "      <th>floors_total</th>\n",
       "      <th>living_area</th>\n",
       "      <th>floor</th>\n",
       "      <th>kitchen_area</th>\n",
       "      <th>balcony</th>\n",
       "      <th>airports_nearest</th>\n",
       "      <th>cityCenters_nearest</th>\n",
       "      <th>parks_around3000</th>\n",
       "      <th>parks_nearest</th>\n",
       "      <th>ponds_around3000</th>\n",
       "      <th>ponds_nearest</th>\n",
       "      <th>days_exposition</th>\n",
       "      <th>coef_liv</th>\n",
       "      <th>coef_kit</th>\n",
       "    </tr>\n",
       "  </thead>\n",
       "  <tbody>\n",
       "    <tr>\n",
       "      <th>count</th>\n",
       "      <td>23565.000000</td>\n",
       "      <td>2.356500e+04</td>\n",
       "      <td>23565.000000</td>\n",
       "      <td>23565.000000</td>\n",
       "      <td>23565.000000</td>\n",
       "      <td>23565.000000</td>\n",
       "      <td>23565.000000</td>\n",
       "      <td>23565.000000</td>\n",
       "      <td>23565.000000</td>\n",
       "      <td>23565.000000</td>\n",
       "      <td>2.356500e+04</td>\n",
       "      <td>2.356500e+04</td>\n",
       "      <td>23565.000000</td>\n",
       "      <td>2.356500e+04</td>\n",
       "      <td>23565.000000</td>\n",
       "      <td>2.356500e+04</td>\n",
       "      <td>2.356500e+04</td>\n",
       "      <td>21700.000000</td>\n",
       "      <td>21343.000000</td>\n",
       "    </tr>\n",
       "    <tr>\n",
       "      <th>mean</th>\n",
       "      <td>9.878421</td>\n",
       "      <td>6.540058e+06</td>\n",
       "      <td>60.322813</td>\n",
       "      <td>2.070656</td>\n",
       "      <td>2.720323</td>\n",
       "      <td>10.675875</td>\n",
       "      <td>34.664210</td>\n",
       "      <td>5.878124</td>\n",
       "      <td>10.521252</td>\n",
       "      <td>0.593677</td>\n",
       "      <td>1.795081e+07</td>\n",
       "      <td>1.793958e+07</td>\n",
       "      <td>0.468831</td>\n",
       "      <td>1.975753e+07</td>\n",
       "      <td>0.589900</td>\n",
       "      <td>1.820960e+07</td>\n",
       "      <td>1.046624e+07</td>\n",
       "      <td>0.564937</td>\n",
       "      <td>0.187340</td>\n",
       "    </tr>\n",
       "    <tr>\n",
       "      <th>std</th>\n",
       "      <td>5.681156</td>\n",
       "      <td>1.091093e+07</td>\n",
       "      <td>35.657072</td>\n",
       "      <td>1.078591</td>\n",
       "      <td>0.248352</td>\n",
       "      <td>6.594823</td>\n",
       "      <td>22.784207</td>\n",
       "      <td>4.871485</td>\n",
       "      <td>5.851021</td>\n",
       "      <td>0.960660</td>\n",
       "      <td>3.274547e+07</td>\n",
       "      <td>3.275162e+07</td>\n",
       "      <td>0.748403</td>\n",
       "      <td>3.385790e+07</td>\n",
       "      <td>0.883966</td>\n",
       "      <td>3.293521e+07</td>\n",
       "      <td>2.654273e+07</td>\n",
       "      <td>0.105310</td>\n",
       "      <td>0.072979</td>\n",
       "    </tr>\n",
       "    <tr>\n",
       "      <th>min</th>\n",
       "      <td>0.000000</td>\n",
       "      <td>1.219000e+04</td>\n",
       "      <td>12.000000</td>\n",
       "      <td>0.000000</td>\n",
       "      <td>1.000000</td>\n",
       "      <td>1.000000</td>\n",
       "      <td>2.000000</td>\n",
       "      <td>1.000000</td>\n",
       "      <td>0.000000</td>\n",
       "      <td>0.000000</td>\n",
       "      <td>0.000000e+00</td>\n",
       "      <td>1.810000e+02</td>\n",
       "      <td>0.000000</td>\n",
       "      <td>1.000000e+00</td>\n",
       "      <td>0.000000</td>\n",
       "      <td>1.300000e+01</td>\n",
       "      <td>1.000000e+00</td>\n",
       "      <td>0.021583</td>\n",
       "      <td>0.025381</td>\n",
       "    </tr>\n",
       "    <tr>\n",
       "      <th>25%</th>\n",
       "      <td>6.000000</td>\n",
       "      <td>3.400000e+06</td>\n",
       "      <td>40.000000</td>\n",
       "      <td>1.000000</td>\n",
       "      <td>2.600000</td>\n",
       "      <td>5.000000</td>\n",
       "      <td>18.800000</td>\n",
       "      <td>2.000000</td>\n",
       "      <td>7.100000</td>\n",
       "      <td>0.000000</td>\n",
       "      <td>2.115600e+04</td>\n",
       "      <td>1.093500e+04</td>\n",
       "      <td>0.000000</td>\n",
       "      <td>4.600000e+02</td>\n",
       "      <td>0.000000</td>\n",
       "      <td>5.040000e+02</td>\n",
       "      <td>4.500000e+01</td>\n",
       "      <td>0.495444</td>\n",
       "      <td>0.133333</td>\n",
       "    </tr>\n",
       "    <tr>\n",
       "      <th>50%</th>\n",
       "      <td>9.000000</td>\n",
       "      <td>4.646000e+06</td>\n",
       "      <td>52.000000</td>\n",
       "      <td>2.000000</td>\n",
       "      <td>2.600000</td>\n",
       "      <td>9.000000</td>\n",
       "      <td>30.000000</td>\n",
       "      <td>4.000000</td>\n",
       "      <td>9.200000</td>\n",
       "      <td>0.000000</td>\n",
       "      <td>3.336700e+04</td>\n",
       "      <td>1.495800e+04</td>\n",
       "      <td>0.000000</td>\n",
       "      <td>4.600000e+02</td>\n",
       "      <td>0.000000</td>\n",
       "      <td>5.040000e+02</td>\n",
       "      <td>1.240000e+02</td>\n",
       "      <td>0.568210</td>\n",
       "      <td>0.172363</td>\n",
       "    </tr>\n",
       "    <tr>\n",
       "      <th>75%</th>\n",
       "      <td>14.000000</td>\n",
       "      <td>6.790000e+06</td>\n",
       "      <td>69.700000</td>\n",
       "      <td>3.000000</td>\n",
       "      <td>2.800000</td>\n",
       "      <td>16.000000</td>\n",
       "      <td>42.300000</td>\n",
       "      <td>8.000000</td>\n",
       "      <td>11.900000</td>\n",
       "      <td>1.000000</td>\n",
       "      <td>5.372400e+04</td>\n",
       "      <td>3.451700e+04</td>\n",
       "      <td>1.000000</td>\n",
       "      <td>7.777778e+07</td>\n",
       "      <td>1.000000</td>\n",
       "      <td>9.930000e+02</td>\n",
       "      <td>3.900000e+02</td>\n",
       "      <td>0.637913</td>\n",
       "      <td>0.232432</td>\n",
       "    </tr>\n",
       "    <tr>\n",
       "      <th>max</th>\n",
       "      <td>50.000000</td>\n",
       "      <td>7.630000e+08</td>\n",
       "      <td>900.000000</td>\n",
       "      <td>19.000000</td>\n",
       "      <td>10.000000</td>\n",
       "      <td>60.000000</td>\n",
       "      <td>415.200000</td>\n",
       "      <td>33.000000</td>\n",
       "      <td>123.500000</td>\n",
       "      <td>5.000000</td>\n",
       "      <td>7.777778e+07</td>\n",
       "      <td>7.777778e+07</td>\n",
       "      <td>3.000000</td>\n",
       "      <td>7.777778e+07</td>\n",
       "      <td>3.000000</td>\n",
       "      <td>7.777778e+07</td>\n",
       "      <td>7.777778e+07</td>\n",
       "      <td>1.000000</td>\n",
       "      <td>0.787879</td>\n",
       "    </tr>\n",
       "  </tbody>\n",
       "</table>\n",
       "</div>"
      ],
      "text/plain": [
       "       total_images    last_price    total_area         rooms  ceiling_height  \\\n",
       "count  23565.000000  2.356500e+04  23565.000000  23565.000000    23565.000000   \n",
       "mean       9.878421  6.540058e+06     60.322813      2.070656        2.720323   \n",
       "std        5.681156  1.091093e+07     35.657072      1.078591        0.248352   \n",
       "min        0.000000  1.219000e+04     12.000000      0.000000        1.000000   \n",
       "25%        6.000000  3.400000e+06     40.000000      1.000000        2.600000   \n",
       "50%        9.000000  4.646000e+06     52.000000      2.000000        2.600000   \n",
       "75%       14.000000  6.790000e+06     69.700000      3.000000        2.800000   \n",
       "max       50.000000  7.630000e+08    900.000000     19.000000       10.000000   \n",
       "\n",
       "       floors_total   living_area         floor  kitchen_area       balcony  \\\n",
       "count  23565.000000  23565.000000  23565.000000  23565.000000  23565.000000   \n",
       "mean      10.675875     34.664210      5.878124     10.521252      0.593677   \n",
       "std        6.594823     22.784207      4.871485      5.851021      0.960660   \n",
       "min        1.000000      2.000000      1.000000      0.000000      0.000000   \n",
       "25%        5.000000     18.800000      2.000000      7.100000      0.000000   \n",
       "50%        9.000000     30.000000      4.000000      9.200000      0.000000   \n",
       "75%       16.000000     42.300000      8.000000     11.900000      1.000000   \n",
       "max       60.000000    415.200000     33.000000    123.500000      5.000000   \n",
       "\n",
       "       airports_nearest  cityCenters_nearest  parks_around3000  parks_nearest  \\\n",
       "count      2.356500e+04         2.356500e+04      23565.000000   2.356500e+04   \n",
       "mean       1.795081e+07         1.793958e+07          0.468831   1.975753e+07   \n",
       "std        3.274547e+07         3.275162e+07          0.748403   3.385790e+07   \n",
       "min        0.000000e+00         1.810000e+02          0.000000   1.000000e+00   \n",
       "25%        2.115600e+04         1.093500e+04          0.000000   4.600000e+02   \n",
       "50%        3.336700e+04         1.495800e+04          0.000000   4.600000e+02   \n",
       "75%        5.372400e+04         3.451700e+04          1.000000   7.777778e+07   \n",
       "max        7.777778e+07         7.777778e+07          3.000000   7.777778e+07   \n",
       "\n",
       "       ponds_around3000  ponds_nearest  days_exposition      coef_liv  \\\n",
       "count      23565.000000   2.356500e+04     2.356500e+04  21700.000000   \n",
       "mean           0.589900   1.820960e+07     1.046624e+07      0.564937   \n",
       "std            0.883966   3.293521e+07     2.654273e+07      0.105310   \n",
       "min            0.000000   1.300000e+01     1.000000e+00      0.021583   \n",
       "25%            0.000000   5.040000e+02     4.500000e+01      0.495444   \n",
       "50%            0.000000   5.040000e+02     1.240000e+02      0.568210   \n",
       "75%            1.000000   9.930000e+02     3.900000e+02      0.637913   \n",
       "max            3.000000   7.777778e+07     7.777778e+07      1.000000   \n",
       "\n",
       "           coef_kit  \n",
       "count  21343.000000  \n",
       "mean       0.187340  \n",
       "std        0.072979  \n",
       "min        0.025381  \n",
       "25%        0.133333  \n",
       "50%        0.172363  \n",
       "75%        0.232432  \n",
       "max        0.787879  "
      ]
     },
     "execution_count": 22,
     "metadata": {},
     "output_type": "execute_result"
    }
   ],
   "source": [
    "# ceiling_height(высота потолков)\n",
    "data.loc[data['ceiling_height'] >= 10.00, 'ceiling_height'] =\\\n",
    "data.loc[data['ceiling_height'] >= 10.00, 'ceiling_height']/10\n",
    "data['ceiling_height'].value_counts().head(10)\n",
    "data.describe()"
   ]
  },
  {
   "cell_type": "markdown",
   "metadata": {},
   "source": [
    "### Посчитайте и добавьте в таблицу новые столбцы"
   ]
  },
  {
   "cell_type": "code",
   "execution_count": 23,
   "metadata": {},
   "outputs": [
    {
     "data": {
      "text/html": [
       "<div>\n",
       "<style scoped>\n",
       "    .dataframe tbody tr th:only-of-type {\n",
       "        vertical-align: middle;\n",
       "    }\n",
       "\n",
       "    .dataframe tbody tr th {\n",
       "        vertical-align: top;\n",
       "    }\n",
       "\n",
       "    .dataframe thead th {\n",
       "        text-align: right;\n",
       "    }\n",
       "</style>\n",
       "<table border=\"1\" class=\"dataframe\">\n",
       "  <thead>\n",
       "    <tr style=\"text-align: right;\">\n",
       "      <th></th>\n",
       "      <th>total_images</th>\n",
       "      <th>last_price</th>\n",
       "      <th>total_area</th>\n",
       "      <th>first_day_exposition</th>\n",
       "      <th>rooms</th>\n",
       "      <th>ceiling_height</th>\n",
       "      <th>floors_total</th>\n",
       "      <th>living_area</th>\n",
       "      <th>floor</th>\n",
       "      <th>is_apartment</th>\n",
       "      <th>...</th>\n",
       "      <th>airports_nearest</th>\n",
       "      <th>cityCenters_nearest</th>\n",
       "      <th>parks_around3000</th>\n",
       "      <th>parks_nearest</th>\n",
       "      <th>ponds_around3000</th>\n",
       "      <th>ponds_nearest</th>\n",
       "      <th>days_exposition</th>\n",
       "      <th>coef_liv</th>\n",
       "      <th>coef_kit</th>\n",
       "      <th>price_one_meter</th>\n",
       "    </tr>\n",
       "  </thead>\n",
       "  <tbody>\n",
       "    <tr>\n",
       "      <th>0</th>\n",
       "      <td>20</td>\n",
       "      <td>13000000</td>\n",
       "      <td>108.0</td>\n",
       "      <td>2019-03-07</td>\n",
       "      <td>3</td>\n",
       "      <td>2.7</td>\n",
       "      <td>16</td>\n",
       "      <td>51.0</td>\n",
       "      <td>8</td>\n",
       "      <td>False</td>\n",
       "      <td>...</td>\n",
       "      <td>18863.0</td>\n",
       "      <td>16028.0</td>\n",
       "      <td>1</td>\n",
       "      <td>482.0</td>\n",
       "      <td>2</td>\n",
       "      <td>755.0</td>\n",
       "      <td>77777777</td>\n",
       "      <td>0.472222</td>\n",
       "      <td>0.231481</td>\n",
       "      <td>120370.4</td>\n",
       "    </tr>\n",
       "    <tr>\n",
       "      <th>1</th>\n",
       "      <td>7</td>\n",
       "      <td>3350000</td>\n",
       "      <td>40.4</td>\n",
       "      <td>2018-12-04</td>\n",
       "      <td>1</td>\n",
       "      <td>2.8</td>\n",
       "      <td>11</td>\n",
       "      <td>18.6</td>\n",
       "      <td>1</td>\n",
       "      <td>False</td>\n",
       "      <td>...</td>\n",
       "      <td>12817.0</td>\n",
       "      <td>18603.0</td>\n",
       "      <td>0</td>\n",
       "      <td>77777777.0</td>\n",
       "      <td>0</td>\n",
       "      <td>584.5</td>\n",
       "      <td>81</td>\n",
       "      <td>0.460396</td>\n",
       "      <td>0.272277</td>\n",
       "      <td>82920.8</td>\n",
       "    </tr>\n",
       "    <tr>\n",
       "      <th>2</th>\n",
       "      <td>10</td>\n",
       "      <td>5196000</td>\n",
       "      <td>56.0</td>\n",
       "      <td>2015-08-20</td>\n",
       "      <td>2</td>\n",
       "      <td>2.6</td>\n",
       "      <td>5</td>\n",
       "      <td>34.3</td>\n",
       "      <td>4</td>\n",
       "      <td>False</td>\n",
       "      <td>...</td>\n",
       "      <td>21741.0</td>\n",
       "      <td>13933.0</td>\n",
       "      <td>1</td>\n",
       "      <td>90.0</td>\n",
       "      <td>2</td>\n",
       "      <td>574.0</td>\n",
       "      <td>558</td>\n",
       "      <td>0.612500</td>\n",
       "      <td>0.148214</td>\n",
       "      <td>92785.7</td>\n",
       "    </tr>\n",
       "    <tr>\n",
       "      <th>3</th>\n",
       "      <td>0</td>\n",
       "      <td>64900000</td>\n",
       "      <td>159.0</td>\n",
       "      <td>2015-07-24</td>\n",
       "      <td>3</td>\n",
       "      <td>2.6</td>\n",
       "      <td>14</td>\n",
       "      <td>99.5</td>\n",
       "      <td>9</td>\n",
       "      <td>False</td>\n",
       "      <td>...</td>\n",
       "      <td>28098.0</td>\n",
       "      <td>6800.0</td>\n",
       "      <td>2</td>\n",
       "      <td>84.0</td>\n",
       "      <td>3</td>\n",
       "      <td>234.0</td>\n",
       "      <td>424</td>\n",
       "      <td>NaN</td>\n",
       "      <td>NaN</td>\n",
       "      <td>408176.1</td>\n",
       "    </tr>\n",
       "    <tr>\n",
       "      <th>4</th>\n",
       "      <td>2</td>\n",
       "      <td>10000000</td>\n",
       "      <td>100.0</td>\n",
       "      <td>2018-06-19</td>\n",
       "      <td>2</td>\n",
       "      <td>3.0</td>\n",
       "      <td>14</td>\n",
       "      <td>32.0</td>\n",
       "      <td>13</td>\n",
       "      <td>False</td>\n",
       "      <td>...</td>\n",
       "      <td>31856.0</td>\n",
       "      <td>8098.0</td>\n",
       "      <td>2</td>\n",
       "      <td>112.0</td>\n",
       "      <td>1</td>\n",
       "      <td>48.0</td>\n",
       "      <td>121</td>\n",
       "      <td>0.320000</td>\n",
       "      <td>0.410000</td>\n",
       "      <td>100000.0</td>\n",
       "    </tr>\n",
       "    <tr>\n",
       "      <th>5</th>\n",
       "      <td>10</td>\n",
       "      <td>2890000</td>\n",
       "      <td>30.4</td>\n",
       "      <td>2018-09-10</td>\n",
       "      <td>1</td>\n",
       "      <td>2.6</td>\n",
       "      <td>12</td>\n",
       "      <td>14.4</td>\n",
       "      <td>5</td>\n",
       "      <td>False</td>\n",
       "      <td>...</td>\n",
       "      <td>77777777.0</td>\n",
       "      <td>77777777.0</td>\n",
       "      <td>0</td>\n",
       "      <td>77777777.0</td>\n",
       "      <td>0</td>\n",
       "      <td>77777777.0</td>\n",
       "      <td>55</td>\n",
       "      <td>0.473684</td>\n",
       "      <td>0.299342</td>\n",
       "      <td>95065.8</td>\n",
       "    </tr>\n",
       "    <tr>\n",
       "      <th>6</th>\n",
       "      <td>6</td>\n",
       "      <td>3700000</td>\n",
       "      <td>37.3</td>\n",
       "      <td>2017-11-02</td>\n",
       "      <td>1</td>\n",
       "      <td>2.7</td>\n",
       "      <td>26</td>\n",
       "      <td>10.6</td>\n",
       "      <td>6</td>\n",
       "      <td>False</td>\n",
       "      <td>...</td>\n",
       "      <td>52996.0</td>\n",
       "      <td>19143.0</td>\n",
       "      <td>0</td>\n",
       "      <td>733.0</td>\n",
       "      <td>0</td>\n",
       "      <td>593.0</td>\n",
       "      <td>155</td>\n",
       "      <td>0.284182</td>\n",
       "      <td>0.386059</td>\n",
       "      <td>99195.7</td>\n",
       "    </tr>\n",
       "    <tr>\n",
       "      <th>7</th>\n",
       "      <td>5</td>\n",
       "      <td>7915000</td>\n",
       "      <td>71.6</td>\n",
       "      <td>2019-04-18</td>\n",
       "      <td>2</td>\n",
       "      <td>2.8</td>\n",
       "      <td>24</td>\n",
       "      <td>41.5</td>\n",
       "      <td>22</td>\n",
       "      <td>False</td>\n",
       "      <td>...</td>\n",
       "      <td>23982.0</td>\n",
       "      <td>11634.0</td>\n",
       "      <td>0</td>\n",
       "      <td>460.0</td>\n",
       "      <td>0</td>\n",
       "      <td>504.0</td>\n",
       "      <td>77777777</td>\n",
       "      <td>NaN</td>\n",
       "      <td>0.263966</td>\n",
       "      <td>110544.7</td>\n",
       "    </tr>\n",
       "    <tr>\n",
       "      <th>8</th>\n",
       "      <td>20</td>\n",
       "      <td>2900000</td>\n",
       "      <td>33.2</td>\n",
       "      <td>2018-05-23</td>\n",
       "      <td>1</td>\n",
       "      <td>2.7</td>\n",
       "      <td>27</td>\n",
       "      <td>15.4</td>\n",
       "      <td>26</td>\n",
       "      <td>False</td>\n",
       "      <td>...</td>\n",
       "      <td>77777777.0</td>\n",
       "      <td>77777777.0</td>\n",
       "      <td>0</td>\n",
       "      <td>77777777.0</td>\n",
       "      <td>0</td>\n",
       "      <td>77777777.0</td>\n",
       "      <td>189</td>\n",
       "      <td>0.465320</td>\n",
       "      <td>0.265682</td>\n",
       "      <td>87349.4</td>\n",
       "    </tr>\n",
       "    <tr>\n",
       "      <th>9</th>\n",
       "      <td>18</td>\n",
       "      <td>5400000</td>\n",
       "      <td>61.0</td>\n",
       "      <td>2017-02-26</td>\n",
       "      <td>3</td>\n",
       "      <td>2.5</td>\n",
       "      <td>9</td>\n",
       "      <td>43.6</td>\n",
       "      <td>7</td>\n",
       "      <td>False</td>\n",
       "      <td>...</td>\n",
       "      <td>50898.0</td>\n",
       "      <td>15008.0</td>\n",
       "      <td>0</td>\n",
       "      <td>460.0</td>\n",
       "      <td>0</td>\n",
       "      <td>504.0</td>\n",
       "      <td>289</td>\n",
       "      <td>0.714754</td>\n",
       "      <td>0.106557</td>\n",
       "      <td>88524.6</td>\n",
       "    </tr>\n",
       "  </tbody>\n",
       "</table>\n",
       "<p>10 rows × 25 columns</p>\n",
       "</div>"
      ],
      "text/plain": [
       "   total_images  last_price  total_area first_day_exposition  rooms  \\\n",
       "0            20    13000000       108.0           2019-03-07      3   \n",
       "1             7     3350000        40.4           2018-12-04      1   \n",
       "2            10     5196000        56.0           2015-08-20      2   \n",
       "3             0    64900000       159.0           2015-07-24      3   \n",
       "4             2    10000000       100.0           2018-06-19      2   \n",
       "5            10     2890000        30.4           2018-09-10      1   \n",
       "6             6     3700000        37.3           2017-11-02      1   \n",
       "7             5     7915000        71.6           2019-04-18      2   \n",
       "8            20     2900000        33.2           2018-05-23      1   \n",
       "9            18     5400000        61.0           2017-02-26      3   \n",
       "\n",
       "   ceiling_height  floors_total  living_area  floor  is_apartment  ...  \\\n",
       "0             2.7            16         51.0      8         False  ...   \n",
       "1             2.8            11         18.6      1         False  ...   \n",
       "2             2.6             5         34.3      4         False  ...   \n",
       "3             2.6            14         99.5      9         False  ...   \n",
       "4             3.0            14         32.0     13         False  ...   \n",
       "5             2.6            12         14.4      5         False  ...   \n",
       "6             2.7            26         10.6      6         False  ...   \n",
       "7             2.8            24         41.5     22         False  ...   \n",
       "8             2.7            27         15.4     26         False  ...   \n",
       "9             2.5             9         43.6      7         False  ...   \n",
       "\n",
       "   airports_nearest  cityCenters_nearest  parks_around3000  parks_nearest  \\\n",
       "0           18863.0              16028.0                 1          482.0   \n",
       "1           12817.0              18603.0                 0     77777777.0   \n",
       "2           21741.0              13933.0                 1           90.0   \n",
       "3           28098.0               6800.0                 2           84.0   \n",
       "4           31856.0               8098.0                 2          112.0   \n",
       "5        77777777.0           77777777.0                 0     77777777.0   \n",
       "6           52996.0              19143.0                 0          733.0   \n",
       "7           23982.0              11634.0                 0          460.0   \n",
       "8        77777777.0           77777777.0                 0     77777777.0   \n",
       "9           50898.0              15008.0                 0          460.0   \n",
       "\n",
       "  ponds_around3000  ponds_nearest  days_exposition  coef_liv  coef_kit  \\\n",
       "0                2          755.0         77777777  0.472222  0.231481   \n",
       "1                0          584.5               81  0.460396  0.272277   \n",
       "2                2          574.0              558  0.612500  0.148214   \n",
       "3                3          234.0              424       NaN       NaN   \n",
       "4                1           48.0              121  0.320000  0.410000   \n",
       "5                0     77777777.0               55  0.473684  0.299342   \n",
       "6                0          593.0              155  0.284182  0.386059   \n",
       "7                0          504.0         77777777       NaN  0.263966   \n",
       "8                0     77777777.0              189  0.465320  0.265682   \n",
       "9                0          504.0              289  0.714754  0.106557   \n",
       "\n",
       "   price_one_meter  \n",
       "0         120370.4  \n",
       "1          82920.8  \n",
       "2          92785.7  \n",
       "3         408176.1  \n",
       "4         100000.0  \n",
       "5          95065.8  \n",
       "6          99195.7  \n",
       "7         110544.7  \n",
       "8          87349.4  \n",
       "9          88524.6  \n",
       "\n",
       "[10 rows x 25 columns]"
      ]
     },
     "execution_count": 23,
     "metadata": {},
     "output_type": "execute_result"
    }
   ],
   "source": [
    "#цена одного квадратного метра\n",
    "data['price_one_meter'] = (data['last_price']/data['total_area']).round(1)\n",
    "data.head(10)"
   ]
  },
  {
   "cell_type": "code",
   "execution_count": 24,
   "metadata": {},
   "outputs": [
    {
     "data": {
      "text/html": [
       "<div>\n",
       "<style scoped>\n",
       "    .dataframe tbody tr th:only-of-type {\n",
       "        vertical-align: middle;\n",
       "    }\n",
       "\n",
       "    .dataframe tbody tr th {\n",
       "        vertical-align: top;\n",
       "    }\n",
       "\n",
       "    .dataframe thead th {\n",
       "        text-align: right;\n",
       "    }\n",
       "</style>\n",
       "<table border=\"1\" class=\"dataframe\">\n",
       "  <thead>\n",
       "    <tr style=\"text-align: right;\">\n",
       "      <th></th>\n",
       "      <th>total_images</th>\n",
       "      <th>last_price</th>\n",
       "      <th>total_area</th>\n",
       "      <th>first_day_exposition</th>\n",
       "      <th>rooms</th>\n",
       "      <th>ceiling_height</th>\n",
       "      <th>floors_total</th>\n",
       "      <th>living_area</th>\n",
       "      <th>floor</th>\n",
       "      <th>is_apartment</th>\n",
       "      <th>...</th>\n",
       "      <th>parks_nearest</th>\n",
       "      <th>ponds_around3000</th>\n",
       "      <th>ponds_nearest</th>\n",
       "      <th>days_exposition</th>\n",
       "      <th>coef_liv</th>\n",
       "      <th>coef_kit</th>\n",
       "      <th>price_one_meter</th>\n",
       "      <th>day_week</th>\n",
       "      <th>month</th>\n",
       "      <th>year</th>\n",
       "    </tr>\n",
       "  </thead>\n",
       "  <tbody>\n",
       "    <tr>\n",
       "      <th>0</th>\n",
       "      <td>20</td>\n",
       "      <td>13000000</td>\n",
       "      <td>108.0</td>\n",
       "      <td>2019-03-07</td>\n",
       "      <td>3</td>\n",
       "      <td>2.7</td>\n",
       "      <td>16</td>\n",
       "      <td>51.0</td>\n",
       "      <td>8</td>\n",
       "      <td>False</td>\n",
       "      <td>...</td>\n",
       "      <td>482.0</td>\n",
       "      <td>2</td>\n",
       "      <td>755.0</td>\n",
       "      <td>77777777</td>\n",
       "      <td>0.472222</td>\n",
       "      <td>0.231481</td>\n",
       "      <td>120370.4</td>\n",
       "      <td>3.четверг</td>\n",
       "      <td>3</td>\n",
       "      <td>2019</td>\n",
       "    </tr>\n",
       "    <tr>\n",
       "      <th>1</th>\n",
       "      <td>7</td>\n",
       "      <td>3350000</td>\n",
       "      <td>40.4</td>\n",
       "      <td>2018-12-04</td>\n",
       "      <td>1</td>\n",
       "      <td>2.8</td>\n",
       "      <td>11</td>\n",
       "      <td>18.6</td>\n",
       "      <td>1</td>\n",
       "      <td>False</td>\n",
       "      <td>...</td>\n",
       "      <td>77777777.0</td>\n",
       "      <td>0</td>\n",
       "      <td>584.5</td>\n",
       "      <td>81</td>\n",
       "      <td>0.460396</td>\n",
       "      <td>0.272277</td>\n",
       "      <td>82920.8</td>\n",
       "      <td>1.вторник</td>\n",
       "      <td>12</td>\n",
       "      <td>2018</td>\n",
       "    </tr>\n",
       "    <tr>\n",
       "      <th>2</th>\n",
       "      <td>10</td>\n",
       "      <td>5196000</td>\n",
       "      <td>56.0</td>\n",
       "      <td>2015-08-20</td>\n",
       "      <td>2</td>\n",
       "      <td>2.6</td>\n",
       "      <td>5</td>\n",
       "      <td>34.3</td>\n",
       "      <td>4</td>\n",
       "      <td>False</td>\n",
       "      <td>...</td>\n",
       "      <td>90.0</td>\n",
       "      <td>2</td>\n",
       "      <td>574.0</td>\n",
       "      <td>558</td>\n",
       "      <td>0.612500</td>\n",
       "      <td>0.148214</td>\n",
       "      <td>92785.7</td>\n",
       "      <td>3.четверг</td>\n",
       "      <td>8</td>\n",
       "      <td>2015</td>\n",
       "    </tr>\n",
       "    <tr>\n",
       "      <th>3</th>\n",
       "      <td>0</td>\n",
       "      <td>64900000</td>\n",
       "      <td>159.0</td>\n",
       "      <td>2015-07-24</td>\n",
       "      <td>3</td>\n",
       "      <td>2.6</td>\n",
       "      <td>14</td>\n",
       "      <td>99.5</td>\n",
       "      <td>9</td>\n",
       "      <td>False</td>\n",
       "      <td>...</td>\n",
       "      <td>84.0</td>\n",
       "      <td>3</td>\n",
       "      <td>234.0</td>\n",
       "      <td>424</td>\n",
       "      <td>NaN</td>\n",
       "      <td>NaN</td>\n",
       "      <td>408176.1</td>\n",
       "      <td>4.пятница</td>\n",
       "      <td>7</td>\n",
       "      <td>2015</td>\n",
       "    </tr>\n",
       "    <tr>\n",
       "      <th>4</th>\n",
       "      <td>2</td>\n",
       "      <td>10000000</td>\n",
       "      <td>100.0</td>\n",
       "      <td>2018-06-19</td>\n",
       "      <td>2</td>\n",
       "      <td>3.0</td>\n",
       "      <td>14</td>\n",
       "      <td>32.0</td>\n",
       "      <td>13</td>\n",
       "      <td>False</td>\n",
       "      <td>...</td>\n",
       "      <td>112.0</td>\n",
       "      <td>1</td>\n",
       "      <td>48.0</td>\n",
       "      <td>121</td>\n",
       "      <td>0.320000</td>\n",
       "      <td>0.410000</td>\n",
       "      <td>100000.0</td>\n",
       "      <td>1.вторник</td>\n",
       "      <td>6</td>\n",
       "      <td>2018</td>\n",
       "    </tr>\n",
       "    <tr>\n",
       "      <th>5</th>\n",
       "      <td>10</td>\n",
       "      <td>2890000</td>\n",
       "      <td>30.4</td>\n",
       "      <td>2018-09-10</td>\n",
       "      <td>1</td>\n",
       "      <td>2.6</td>\n",
       "      <td>12</td>\n",
       "      <td>14.4</td>\n",
       "      <td>5</td>\n",
       "      <td>False</td>\n",
       "      <td>...</td>\n",
       "      <td>77777777.0</td>\n",
       "      <td>0</td>\n",
       "      <td>77777777.0</td>\n",
       "      <td>55</td>\n",
       "      <td>0.473684</td>\n",
       "      <td>0.299342</td>\n",
       "      <td>95065.8</td>\n",
       "      <td>0.понедельник</td>\n",
       "      <td>9</td>\n",
       "      <td>2018</td>\n",
       "    </tr>\n",
       "    <tr>\n",
       "      <th>6</th>\n",
       "      <td>6</td>\n",
       "      <td>3700000</td>\n",
       "      <td>37.3</td>\n",
       "      <td>2017-11-02</td>\n",
       "      <td>1</td>\n",
       "      <td>2.7</td>\n",
       "      <td>26</td>\n",
       "      <td>10.6</td>\n",
       "      <td>6</td>\n",
       "      <td>False</td>\n",
       "      <td>...</td>\n",
       "      <td>733.0</td>\n",
       "      <td>0</td>\n",
       "      <td>593.0</td>\n",
       "      <td>155</td>\n",
       "      <td>0.284182</td>\n",
       "      <td>0.386059</td>\n",
       "      <td>99195.7</td>\n",
       "      <td>3.четверг</td>\n",
       "      <td>11</td>\n",
       "      <td>2017</td>\n",
       "    </tr>\n",
       "    <tr>\n",
       "      <th>7</th>\n",
       "      <td>5</td>\n",
       "      <td>7915000</td>\n",
       "      <td>71.6</td>\n",
       "      <td>2019-04-18</td>\n",
       "      <td>2</td>\n",
       "      <td>2.8</td>\n",
       "      <td>24</td>\n",
       "      <td>41.5</td>\n",
       "      <td>22</td>\n",
       "      <td>False</td>\n",
       "      <td>...</td>\n",
       "      <td>460.0</td>\n",
       "      <td>0</td>\n",
       "      <td>504.0</td>\n",
       "      <td>77777777</td>\n",
       "      <td>NaN</td>\n",
       "      <td>0.263966</td>\n",
       "      <td>110544.7</td>\n",
       "      <td>3.четверг</td>\n",
       "      <td>4</td>\n",
       "      <td>2019</td>\n",
       "    </tr>\n",
       "    <tr>\n",
       "      <th>8</th>\n",
       "      <td>20</td>\n",
       "      <td>2900000</td>\n",
       "      <td>33.2</td>\n",
       "      <td>2018-05-23</td>\n",
       "      <td>1</td>\n",
       "      <td>2.7</td>\n",
       "      <td>27</td>\n",
       "      <td>15.4</td>\n",
       "      <td>26</td>\n",
       "      <td>False</td>\n",
       "      <td>...</td>\n",
       "      <td>77777777.0</td>\n",
       "      <td>0</td>\n",
       "      <td>77777777.0</td>\n",
       "      <td>189</td>\n",
       "      <td>0.465320</td>\n",
       "      <td>0.265682</td>\n",
       "      <td>87349.4</td>\n",
       "      <td>2.среда</td>\n",
       "      <td>5</td>\n",
       "      <td>2018</td>\n",
       "    </tr>\n",
       "    <tr>\n",
       "      <th>9</th>\n",
       "      <td>18</td>\n",
       "      <td>5400000</td>\n",
       "      <td>61.0</td>\n",
       "      <td>2017-02-26</td>\n",
       "      <td>3</td>\n",
       "      <td>2.5</td>\n",
       "      <td>9</td>\n",
       "      <td>43.6</td>\n",
       "      <td>7</td>\n",
       "      <td>False</td>\n",
       "      <td>...</td>\n",
       "      <td>460.0</td>\n",
       "      <td>0</td>\n",
       "      <td>504.0</td>\n",
       "      <td>289</td>\n",
       "      <td>0.714754</td>\n",
       "      <td>0.106557</td>\n",
       "      <td>88524.6</td>\n",
       "      <td>6.воскресенье</td>\n",
       "      <td>2</td>\n",
       "      <td>2017</td>\n",
       "    </tr>\n",
       "  </tbody>\n",
       "</table>\n",
       "<p>10 rows × 28 columns</p>\n",
       "</div>"
      ],
      "text/plain": [
       "   total_images  last_price  total_area first_day_exposition  rooms  \\\n",
       "0            20    13000000       108.0           2019-03-07      3   \n",
       "1             7     3350000        40.4           2018-12-04      1   \n",
       "2            10     5196000        56.0           2015-08-20      2   \n",
       "3             0    64900000       159.0           2015-07-24      3   \n",
       "4             2    10000000       100.0           2018-06-19      2   \n",
       "5            10     2890000        30.4           2018-09-10      1   \n",
       "6             6     3700000        37.3           2017-11-02      1   \n",
       "7             5     7915000        71.6           2019-04-18      2   \n",
       "8            20     2900000        33.2           2018-05-23      1   \n",
       "9            18     5400000        61.0           2017-02-26      3   \n",
       "\n",
       "   ceiling_height  floors_total  living_area  floor  is_apartment  ...  \\\n",
       "0             2.7            16         51.0      8         False  ...   \n",
       "1             2.8            11         18.6      1         False  ...   \n",
       "2             2.6             5         34.3      4         False  ...   \n",
       "3             2.6            14         99.5      9         False  ...   \n",
       "4             3.0            14         32.0     13         False  ...   \n",
       "5             2.6            12         14.4      5         False  ...   \n",
       "6             2.7            26         10.6      6         False  ...   \n",
       "7             2.8            24         41.5     22         False  ...   \n",
       "8             2.7            27         15.4     26         False  ...   \n",
       "9             2.5             9         43.6      7         False  ...   \n",
       "\n",
       "   parks_nearest  ponds_around3000  ponds_nearest  days_exposition  coef_liv  \\\n",
       "0          482.0                 2          755.0         77777777  0.472222   \n",
       "1     77777777.0                 0          584.5               81  0.460396   \n",
       "2           90.0                 2          574.0              558  0.612500   \n",
       "3           84.0                 3          234.0              424       NaN   \n",
       "4          112.0                 1           48.0              121  0.320000   \n",
       "5     77777777.0                 0     77777777.0               55  0.473684   \n",
       "6          733.0                 0          593.0              155  0.284182   \n",
       "7          460.0                 0          504.0         77777777       NaN   \n",
       "8     77777777.0                 0     77777777.0              189  0.465320   \n",
       "9          460.0                 0          504.0              289  0.714754   \n",
       "\n",
       "   coef_kit  price_one_meter       day_week  month  year  \n",
       "0  0.231481         120370.4      3.четверг      3  2019  \n",
       "1  0.272277          82920.8      1.вторник     12  2018  \n",
       "2  0.148214          92785.7      3.четверг      8  2015  \n",
       "3       NaN         408176.1      4.пятница      7  2015  \n",
       "4  0.410000         100000.0      1.вторник      6  2018  \n",
       "5  0.299342          95065.8  0.понедельник      9  2018  \n",
       "6  0.386059          99195.7      3.четверг     11  2017  \n",
       "7  0.263966         110544.7      3.четверг      4  2019  \n",
       "8  0.265682          87349.4        2.среда      5  2018  \n",
       "9  0.106557          88524.6  6.воскресенье      2  2017  \n",
       "\n",
       "[10 rows x 28 columns]"
      ]
     },
     "execution_count": 24,
     "metadata": {},
     "output_type": "execute_result"
    }
   ],
   "source": [
    "#день недели публикации объявления (0 — понедельник, 1 — вторник и так далее)\n",
    "data['day_week'] = data['first_day_exposition'].dt.dayofweek\n",
    "week = {0: '0.понедельник', 1: '1.вторник', 2: '2.среда', 3: '3.четверг', 4: '4.пятница', 5: '5.суббота', 6: '6.воскресенье'}\n",
    "data['day_week'] = data['day_week'].map(week)\n",
    "data['month'] = data['first_day_exposition'].dt.month\n",
    "data['year'] = data['first_day_exposition'].dt.year\n",
    "data.head(10)\n"
   ]
  },
  {
   "cell_type": "code",
   "execution_count": 25,
   "metadata": {},
   "outputs": [
    {
     "data": {
      "text/html": [
       "<div>\n",
       "<style scoped>\n",
       "    .dataframe tbody tr th:only-of-type {\n",
       "        vertical-align: middle;\n",
       "    }\n",
       "\n",
       "    .dataframe tbody tr th {\n",
       "        vertical-align: top;\n",
       "    }\n",
       "\n",
       "    .dataframe thead th {\n",
       "        text-align: right;\n",
       "    }\n",
       "</style>\n",
       "<table border=\"1\" class=\"dataframe\">\n",
       "  <thead>\n",
       "    <tr style=\"text-align: right;\">\n",
       "      <th></th>\n",
       "      <th>total_images</th>\n",
       "      <th>last_price</th>\n",
       "      <th>total_area</th>\n",
       "      <th>first_day_exposition</th>\n",
       "      <th>rooms</th>\n",
       "      <th>ceiling_height</th>\n",
       "      <th>floors_total</th>\n",
       "      <th>living_area</th>\n",
       "      <th>floor</th>\n",
       "      <th>is_apartment</th>\n",
       "      <th>...</th>\n",
       "      <th>ponds_around3000</th>\n",
       "      <th>ponds_nearest</th>\n",
       "      <th>days_exposition</th>\n",
       "      <th>coef_liv</th>\n",
       "      <th>coef_kit</th>\n",
       "      <th>price_one_meter</th>\n",
       "      <th>day_week</th>\n",
       "      <th>month</th>\n",
       "      <th>year</th>\n",
       "      <th>category_floor</th>\n",
       "    </tr>\n",
       "  </thead>\n",
       "  <tbody>\n",
       "    <tr>\n",
       "      <th>0</th>\n",
       "      <td>20</td>\n",
       "      <td>13000000</td>\n",
       "      <td>108.0</td>\n",
       "      <td>2019-03-07</td>\n",
       "      <td>3</td>\n",
       "      <td>2.7</td>\n",
       "      <td>16</td>\n",
       "      <td>51.0</td>\n",
       "      <td>8</td>\n",
       "      <td>False</td>\n",
       "      <td>...</td>\n",
       "      <td>2</td>\n",
       "      <td>755.0</td>\n",
       "      <td>77777777</td>\n",
       "      <td>0.472222</td>\n",
       "      <td>0.231481</td>\n",
       "      <td>120370.4</td>\n",
       "      <td>3.четверг</td>\n",
       "      <td>3</td>\n",
       "      <td>2019</td>\n",
       "      <td>другой</td>\n",
       "    </tr>\n",
       "    <tr>\n",
       "      <th>1</th>\n",
       "      <td>7</td>\n",
       "      <td>3350000</td>\n",
       "      <td>40.4</td>\n",
       "      <td>2018-12-04</td>\n",
       "      <td>1</td>\n",
       "      <td>2.8</td>\n",
       "      <td>11</td>\n",
       "      <td>18.6</td>\n",
       "      <td>1</td>\n",
       "      <td>False</td>\n",
       "      <td>...</td>\n",
       "      <td>0</td>\n",
       "      <td>584.5</td>\n",
       "      <td>81</td>\n",
       "      <td>0.460396</td>\n",
       "      <td>0.272277</td>\n",
       "      <td>82920.8</td>\n",
       "      <td>1.вторник</td>\n",
       "      <td>12</td>\n",
       "      <td>2018</td>\n",
       "      <td>первый</td>\n",
       "    </tr>\n",
       "    <tr>\n",
       "      <th>2</th>\n",
       "      <td>10</td>\n",
       "      <td>5196000</td>\n",
       "      <td>56.0</td>\n",
       "      <td>2015-08-20</td>\n",
       "      <td>2</td>\n",
       "      <td>2.6</td>\n",
       "      <td>5</td>\n",
       "      <td>34.3</td>\n",
       "      <td>4</td>\n",
       "      <td>False</td>\n",
       "      <td>...</td>\n",
       "      <td>2</td>\n",
       "      <td>574.0</td>\n",
       "      <td>558</td>\n",
       "      <td>0.612500</td>\n",
       "      <td>0.148214</td>\n",
       "      <td>92785.7</td>\n",
       "      <td>3.четверг</td>\n",
       "      <td>8</td>\n",
       "      <td>2015</td>\n",
       "      <td>другой</td>\n",
       "    </tr>\n",
       "    <tr>\n",
       "      <th>3</th>\n",
       "      <td>0</td>\n",
       "      <td>64900000</td>\n",
       "      <td>159.0</td>\n",
       "      <td>2015-07-24</td>\n",
       "      <td>3</td>\n",
       "      <td>2.6</td>\n",
       "      <td>14</td>\n",
       "      <td>99.5</td>\n",
       "      <td>9</td>\n",
       "      <td>False</td>\n",
       "      <td>...</td>\n",
       "      <td>3</td>\n",
       "      <td>234.0</td>\n",
       "      <td>424</td>\n",
       "      <td>NaN</td>\n",
       "      <td>NaN</td>\n",
       "      <td>408176.1</td>\n",
       "      <td>4.пятница</td>\n",
       "      <td>7</td>\n",
       "      <td>2015</td>\n",
       "      <td>другой</td>\n",
       "    </tr>\n",
       "    <tr>\n",
       "      <th>4</th>\n",
       "      <td>2</td>\n",
       "      <td>10000000</td>\n",
       "      <td>100.0</td>\n",
       "      <td>2018-06-19</td>\n",
       "      <td>2</td>\n",
       "      <td>3.0</td>\n",
       "      <td>14</td>\n",
       "      <td>32.0</td>\n",
       "      <td>13</td>\n",
       "      <td>False</td>\n",
       "      <td>...</td>\n",
       "      <td>1</td>\n",
       "      <td>48.0</td>\n",
       "      <td>121</td>\n",
       "      <td>0.320000</td>\n",
       "      <td>0.410000</td>\n",
       "      <td>100000.0</td>\n",
       "      <td>1.вторник</td>\n",
       "      <td>6</td>\n",
       "      <td>2018</td>\n",
       "      <td>другой</td>\n",
       "    </tr>\n",
       "    <tr>\n",
       "      <th>5</th>\n",
       "      <td>10</td>\n",
       "      <td>2890000</td>\n",
       "      <td>30.4</td>\n",
       "      <td>2018-09-10</td>\n",
       "      <td>1</td>\n",
       "      <td>2.6</td>\n",
       "      <td>12</td>\n",
       "      <td>14.4</td>\n",
       "      <td>5</td>\n",
       "      <td>False</td>\n",
       "      <td>...</td>\n",
       "      <td>0</td>\n",
       "      <td>77777777.0</td>\n",
       "      <td>55</td>\n",
       "      <td>0.473684</td>\n",
       "      <td>0.299342</td>\n",
       "      <td>95065.8</td>\n",
       "      <td>0.понедельник</td>\n",
       "      <td>9</td>\n",
       "      <td>2018</td>\n",
       "      <td>другой</td>\n",
       "    </tr>\n",
       "    <tr>\n",
       "      <th>6</th>\n",
       "      <td>6</td>\n",
       "      <td>3700000</td>\n",
       "      <td>37.3</td>\n",
       "      <td>2017-11-02</td>\n",
       "      <td>1</td>\n",
       "      <td>2.7</td>\n",
       "      <td>26</td>\n",
       "      <td>10.6</td>\n",
       "      <td>6</td>\n",
       "      <td>False</td>\n",
       "      <td>...</td>\n",
       "      <td>0</td>\n",
       "      <td>593.0</td>\n",
       "      <td>155</td>\n",
       "      <td>0.284182</td>\n",
       "      <td>0.386059</td>\n",
       "      <td>99195.7</td>\n",
       "      <td>3.четверг</td>\n",
       "      <td>11</td>\n",
       "      <td>2017</td>\n",
       "      <td>другой</td>\n",
       "    </tr>\n",
       "    <tr>\n",
       "      <th>7</th>\n",
       "      <td>5</td>\n",
       "      <td>7915000</td>\n",
       "      <td>71.6</td>\n",
       "      <td>2019-04-18</td>\n",
       "      <td>2</td>\n",
       "      <td>2.8</td>\n",
       "      <td>24</td>\n",
       "      <td>41.5</td>\n",
       "      <td>22</td>\n",
       "      <td>False</td>\n",
       "      <td>...</td>\n",
       "      <td>0</td>\n",
       "      <td>504.0</td>\n",
       "      <td>77777777</td>\n",
       "      <td>NaN</td>\n",
       "      <td>0.263966</td>\n",
       "      <td>110544.7</td>\n",
       "      <td>3.четверг</td>\n",
       "      <td>4</td>\n",
       "      <td>2019</td>\n",
       "      <td>другой</td>\n",
       "    </tr>\n",
       "    <tr>\n",
       "      <th>8</th>\n",
       "      <td>20</td>\n",
       "      <td>2900000</td>\n",
       "      <td>33.2</td>\n",
       "      <td>2018-05-23</td>\n",
       "      <td>1</td>\n",
       "      <td>2.7</td>\n",
       "      <td>27</td>\n",
       "      <td>15.4</td>\n",
       "      <td>26</td>\n",
       "      <td>False</td>\n",
       "      <td>...</td>\n",
       "      <td>0</td>\n",
       "      <td>77777777.0</td>\n",
       "      <td>189</td>\n",
       "      <td>0.465320</td>\n",
       "      <td>0.265682</td>\n",
       "      <td>87349.4</td>\n",
       "      <td>2.среда</td>\n",
       "      <td>5</td>\n",
       "      <td>2018</td>\n",
       "      <td>другой</td>\n",
       "    </tr>\n",
       "    <tr>\n",
       "      <th>9</th>\n",
       "      <td>18</td>\n",
       "      <td>5400000</td>\n",
       "      <td>61.0</td>\n",
       "      <td>2017-02-26</td>\n",
       "      <td>3</td>\n",
       "      <td>2.5</td>\n",
       "      <td>9</td>\n",
       "      <td>43.6</td>\n",
       "      <td>7</td>\n",
       "      <td>False</td>\n",
       "      <td>...</td>\n",
       "      <td>0</td>\n",
       "      <td>504.0</td>\n",
       "      <td>289</td>\n",
       "      <td>0.714754</td>\n",
       "      <td>0.106557</td>\n",
       "      <td>88524.6</td>\n",
       "      <td>6.воскресенье</td>\n",
       "      <td>2</td>\n",
       "      <td>2017</td>\n",
       "      <td>другой</td>\n",
       "    </tr>\n",
       "  </tbody>\n",
       "</table>\n",
       "<p>10 rows × 29 columns</p>\n",
       "</div>"
      ],
      "text/plain": [
       "   total_images  last_price  total_area first_day_exposition  rooms  \\\n",
       "0            20    13000000       108.0           2019-03-07      3   \n",
       "1             7     3350000        40.4           2018-12-04      1   \n",
       "2            10     5196000        56.0           2015-08-20      2   \n",
       "3             0    64900000       159.0           2015-07-24      3   \n",
       "4             2    10000000       100.0           2018-06-19      2   \n",
       "5            10     2890000        30.4           2018-09-10      1   \n",
       "6             6     3700000        37.3           2017-11-02      1   \n",
       "7             5     7915000        71.6           2019-04-18      2   \n",
       "8            20     2900000        33.2           2018-05-23      1   \n",
       "9            18     5400000        61.0           2017-02-26      3   \n",
       "\n",
       "   ceiling_height  floors_total  living_area  floor  is_apartment  ...  \\\n",
       "0             2.7            16         51.0      8         False  ...   \n",
       "1             2.8            11         18.6      1         False  ...   \n",
       "2             2.6             5         34.3      4         False  ...   \n",
       "3             2.6            14         99.5      9         False  ...   \n",
       "4             3.0            14         32.0     13         False  ...   \n",
       "5             2.6            12         14.4      5         False  ...   \n",
       "6             2.7            26         10.6      6         False  ...   \n",
       "7             2.8            24         41.5     22         False  ...   \n",
       "8             2.7            27         15.4     26         False  ...   \n",
       "9             2.5             9         43.6      7         False  ...   \n",
       "\n",
       "   ponds_around3000  ponds_nearest  days_exposition  coef_liv  coef_kit  \\\n",
       "0                 2          755.0         77777777  0.472222  0.231481   \n",
       "1                 0          584.5               81  0.460396  0.272277   \n",
       "2                 2          574.0              558  0.612500  0.148214   \n",
       "3                 3          234.0              424       NaN       NaN   \n",
       "4                 1           48.0              121  0.320000  0.410000   \n",
       "5                 0     77777777.0               55  0.473684  0.299342   \n",
       "6                 0          593.0              155  0.284182  0.386059   \n",
       "7                 0          504.0         77777777       NaN  0.263966   \n",
       "8                 0     77777777.0              189  0.465320  0.265682   \n",
       "9                 0          504.0              289  0.714754  0.106557   \n",
       "\n",
       "   price_one_meter       day_week  month  year  category_floor  \n",
       "0         120370.4      3.четверг      3  2019          другой  \n",
       "1          82920.8      1.вторник     12  2018          первый  \n",
       "2          92785.7      3.четверг      8  2015          другой  \n",
       "3         408176.1      4.пятница      7  2015          другой  \n",
       "4         100000.0      1.вторник      6  2018          другой  \n",
       "5          95065.8  0.понедельник      9  2018          другой  \n",
       "6          99195.7      3.четверг     11  2017          другой  \n",
       "7         110544.7      3.четверг      4  2019          другой  \n",
       "8          87349.4        2.среда      5  2018          другой  \n",
       "9          88524.6  6.воскресенье      2  2017          другой  \n",
       "\n",
       "[10 rows x 29 columns]"
      ]
     },
     "execution_count": 25,
     "metadata": {},
     "output_type": "execute_result"
    }
   ],
   "source": [
    "#тип этажа квартиры (значения — «первый», «последний», «другой»)\n",
    "def category_floor(row):\n",
    "    if row['floor'] == 1:\n",
    "        return 'первый'\n",
    "    elif row['floor'] == row['floors_total']:\n",
    "        return 'последний'\n",
    "    else:\n",
    "         return 'другой'\n",
    "data['category_floor'] = data.apply(category_floor, axis=1)\n",
    "data.head(10)"
   ]
  },
  {
   "cell_type": "code",
   "execution_count": 26,
   "metadata": {},
   "outputs": [
    {
     "data": {
      "text/plain": [
       "13616        0.2\n",
       "8571         0.2\n",
       "1177         0.2\n",
       "21911        0.3\n",
       "1927         0.3\n",
       "          ...   \n",
       "7349     77777.8\n",
       "17784    77777.8\n",
       "7355     77777.8\n",
       "7334     77777.8\n",
       "23564    77777.8\n",
       "Name: cityCenters_nearest, Length: 23565, dtype: float64"
      ]
     },
     "execution_count": 26,
     "metadata": {},
     "output_type": "execute_result"
    }
   ],
   "source": [
    "#расстояние до центра города в километрах (переведите из м в км и округлите до целых значений)\n",
    "data['cityCenters_nearest'] = (data['cityCenters_nearest'] * 0.001).round(1)\n",
    "data['cityCenters_nearest'].sort_values()"
   ]
  },
  {
   "cell_type": "markdown",
   "metadata": {},
   "source": [
    "### Проведите исследовательский анализ данных"
   ]
  },
  {
   "cell_type": "code",
   "execution_count": 27,
   "metadata": {},
   "outputs": [],
   "source": [
    "import matplotlib.pyplot as plt\n",
    "import seaborn as sns"
   ]
  },
  {
   "cell_type": "code",
   "execution_count": 28,
   "metadata": {},
   "outputs": [
    {
     "data": {
      "image/png": "[encoded data removed]",
      "text/plain": [
       "<Figure size 720x360 with 1 Axes>"
      ]
     },
     "metadata": {
      "needs_background": "light"
     },
     "output_type": "display_data"
    },
    {
     "data": {
      "image/png": "[encoded data removed]",
      "text/plain": [
       "<Figure size 720x360 with 1 Axes>"
      ]
     },
     "metadata": {
      "needs_background": "light"
     },
     "output_type": "display_data"
    },
    {
     "data": {
      "image/png": "[encoded data removed]",
      "text/plain": [
       "<Figure size 720x360 with 1 Axes>"
      ]
     },
     "metadata": {
      "needs_background": "light"
     },
     "output_type": "display_data"
    },
    {
     "data": {
      "image/png": "[encoded data removed]",
      "text/plain": [
       "<Figure size 720x360 with 1 Axes>"
      ]
     },
     "metadata": {
      "needs_background": "light"
     },
     "output_type": "display_data"
    },
    {
     "data": {
      "image/png": "[encoded data removed]",
      "text/plain": [
       "<Figure size 720x360 with 1 Axes>"
      ]
     },
     "metadata": {
      "needs_background": "light"
     },
     "output_type": "display_data"
    },
    {
     "data": {
      "image/png": "[encoded data removed]",
      "text/plain": [
       "<Figure size 720x360 with 1 Axes>"
      ]
     },
     "metadata": {
      "needs_background": "light"
     },
     "output_type": "display_data"
    },
    {
     "data": {
      "image/png": "[encoded data removed]",
      "text/plain": [
       "<Figure size 720x360 with 1 Axes>"
      ]
     },
     "metadata": {
      "needs_background": "light"
     },
     "output_type": "display_data"
    },
    {
     "data": {
      "image/png": "[encoded data removed]",
      "text/plain": [
       "<Figure size 720x360 with 1 Axes>"
      ]
     },
     "metadata": {
      "needs_background": "light"
     },
     "output_type": "display_data"
    },
    {
     "data": {
      "image/png": "[encoded data removed]",
      "text/plain": [
       "<Figure size 720x360 with 1 Axes>"
      ]
     },
     "metadata": {
      "needs_background": "light"
     },
     "output_type": "display_data"
    },
    {
     "data": {
      "image/png": "[encoded data removed]",
      "text/plain": [
       "<Figure size 720x360 with 1 Axes>"
      ]
     },
     "metadata": {
      "needs_background": "light"
     },
     "output_type": "display_data"
    },
    {
     "data": {
      "image/png": "[encoded data removed]",
      "text/plain": [
       "<Figure size 720x360 with 1 Axes>"
      ]
     },
     "metadata": {
      "needs_background": "light"
     },
     "output_type": "display_data"
    },
    {
     "data": {
      "image/png": "[encoded data removed]",
      "text/plain": [
       "<Figure size 720x360 with 1 Axes>"
      ]
     },
     "metadata": {
      "needs_background": "light"
     },
     "output_type": "display_data"
    },
    {
     "data": {
      "image/png": "[encoded data removed]",
      "text/plain": [
       "<Figure size 720x360 with 1 Axes>"
      ]
     },
     "metadata": {
      "needs_background": "light"
     },
     "output_type": "display_data"
    },
    {
     "data": {
      "image/png": "[encoded data removed]",
      "text/plain": [
       "<Figure size 720x360 with 1 Axes>"
      ]
     },
     "metadata": {
      "needs_background": "light"
     },
     "output_type": "display_data"
    }
   ],
   "source": [
    "#построение графиков через словарь   \n",
    "dict_params = {'total_area':[50, (0,500)] ,'living_area':[50, (0,500)], 'kitchen_area':[50, (0,300)], \n",
    "               'rooms':[50, (0,20)], 'ceiling_height':[50, (0,15)], 'floor':[50, (0,100)],\n",
    "               'floors_total':[50, (0,100)],'month':[50, (0,12)]}\n",
    "\n",
    "for column in dict_params.keys():\n",
    "    data[column].hist(bins=dict_params[column][0], figsize=(10,5))\n",
    "    plt.title(column)\n",
    "    plt.show()\n",
    "\n",
    "#просто гистограмма\n",
    "data['last_price'].hist(bins=50, figsize=(10,5),range=(0, 20000000))\n",
    "plt.title('last_price')\n",
    "plt.show()\n",
    "\n",
    "data['airports_nearest'].hist(bins=50, figsize=(10,5), range=(0, 100000))\n",
    "plt.title('airports_nearest')\n",
    "plt.show()\n",
    "\n",
    "#построение графиков через список    \n",
    "list_params = ['cityCenters_nearest', 'parks_nearest']\n",
    "for column in list_params:\n",
    "    data[column].hist(bins=50, figsize=(10,5), range=(0, 100))\n",
    "    plt.title(column)\n",
    "    plt.show()\n",
    "\n",
    "#построение графиков через список_категориальные значения\n",
    "list_categorical = ['category_floor', 'day_week']\n",
    "for column in list_categorical:\n",
    "    data[column].hist(bins=50, figsize=(10,5))\n",
    "    plt.title(column)\n",
    "    plt.show()\n"
   ]
  },
  {
   "cell_type": "markdown",
   "metadata": {},
   "source": [
    "Общие графики:\n",
    "Общая площадь: большая часть квартир имеет метраж от 30 до 100 кв.м., пик приходится на 50 кв.м. Есть квартиры и по 800м, но это единичные выбросы\n",
    "\n",
    "Жилая площадь: большая часть жилой площади имеет метраж от 10 до 100 кв.м., наблюдаем 2 пика на 20 кв.м. и 40 кв.м. На самом деле подозрительно\n",
    "\n",
    "Площадь кухни: большая часть площади кухни имеет метраж от 5 до 20 кв.м. пик приходится 10 кв.м. \n",
    "\n",
    "Комнаты: 2/3 квартир имеют 1 или 2 комнаты, чуть меньший процент имеют 3 комнаты и небольшое количество - 4. Есть и квартиры, имеющие больше комнат, но их единицы\n",
    "\n",
    "Высота потолков: квартиры, в большинстве своем, имеют потолки от 2,5-2,75м (самый популярный вариант) до 3,2м. Остальные случаи - эксклюзивы\n",
    "\n",
    "Этаж квартиры: самый популярный этаж продажи - это первый и второй до пятого этажа, скорей всего связано с тем, что в принципе продают большинство квартир в пятиэтажном доме.\n",
    "\n",
    "Кол-во этажей: гипотеза, что большинство квартир продают в пятиэтажном доме подтвердилась, теперь все ясно\n",
    "\n",
    "Месяц: в принципе во всех месяцах выставляют квартиры на продажу, но большинство все таки с февраля по апрель. И логично самые провальные месяцы декабрь, январь, май - гуляют люди\n",
    "\n",
    "Цена: цена в среднем в промежутке от 2 до 5 млн.\n",
    "\n",
    "Расстояние до аэропорта: в среднем удаленность аэропорта конечно поражает 25 тыс.кв.м, и есть еще дальше\n",
    "\n",
    "Расстояние до центра: в среднем от 5 до 10 км, это конечно хорошо - можно и погулять вечерком в центре\n",
    "\n",
    "Расстояние до парка: разброс конечно водит в ступор, пик приходится на 50 кв.м, может система думает, что удаленные леса - это парк\n",
    "\n",
    "Тип этажа: но здесь к гадалке не ходи, тип другой этаж - рулит\n",
    "\n",
    "День недели публикации: в четверг и вторник больше всего публикаций, нужно обратить внимание, если захочу приобрести жилье"
   ]
  },
  {
   "cell_type": "code",
   "execution_count": 29,
   "metadata": {
    "scrolled": false
   },
   "outputs": [
    {
     "data": {
      "text/plain": [
       "count    20394.000000\n",
       "mean       180.741395\n",
       "std        219.732782\n",
       "min          1.000000\n",
       "25%         45.000000\n",
       "50%         95.000000\n",
       "75%        231.000000\n",
       "max       1580.000000\n",
       "Name: days_exposition, dtype: float64"
      ]
     },
     "execution_count": 29,
     "metadata": {},
     "output_type": "execute_result"
    },
    {
     "data": {
      "image/png": "[encoded data removed]",
      "text/plain": [
       "<Figure size 720x360 with 1 Axes>"
      ]
     },
     "metadata": {
      "needs_background": "light"
     },
     "output_type": "display_data"
    }
   ],
   "source": [
    "#изучите, как быстро продавались квартиры (столбец days_exposition)\n",
    "data['days_exposition'].hist(bins=50, figsize=(10,5),range=(0, 1580))\n",
    "data['days_exposition'].hist(bins=50, figsize=(10,5),range=(0, 100))\n",
    "data['days_exposition'].loc[data['days_exposition'] < 77777777].describe()\n"
   ]
  },
  {
   "cell_type": "markdown",
   "metadata": {},
   "source": [
    "Большая часть квартир продается в течение первых 50 дней, есть и квартиры, которые продавались до года, но самое интересное внутри 50 дней есть пик как раз на 50 и 60 дней. Скорей всего этому есть разумное объяснение, не связанное с реальной датой продажи(не стоит учитывать)"
   ]
  },
  {
   "cell_type": "code",
   "execution_count": 30,
   "metadata": {},
   "outputs": [
    {
     "name": "stdout",
     "output_type": "stream",
     "text": [
      "total_area корреляция Пирсона - 0.65\n"
     ]
    },
    {
     "data": {
      "image/png": "[encoded data removed]",
      "text/plain": [
       "<Figure size 432x288 with 1 Axes>"
      ]
     },
     "metadata": {
      "needs_background": "light"
     },
     "output_type": "display_data"
    },
    {
     "name": "stdout",
     "output_type": "stream",
     "text": [
      "living_area корреляция Пирсона - 0.59\n"
     ]
    },
    {
     "data": {
      "image/png": "[encoded data removed]",
      "text/plain": [
       "<Figure size 432x288 with 1 Axes>"
      ]
     },
     "metadata": {
      "needs_background": "light"
     },
     "output_type": "display_data"
    },
    {
     "name": "stdout",
     "output_type": "stream",
     "text": [
      "kitchen_area корреляция Пирсона - 0.49\n"
     ]
    },
    {
     "data": {
      "image/png": "[encoded data removed]",
      "text/plain": [
       "<Figure size 432x288 with 1 Axes>"
      ]
     },
     "metadata": {
      "needs_background": "light"
     },
     "output_type": "display_data"
    },
    {
     "data": {
      "image/png": "[encoded data removed]",
      "text/plain": [
       "<Figure size 432x288 with 1 Axes>"
      ]
     },
     "metadata": {
      "needs_background": "light"
     },
     "output_type": "display_data"
    },
    {
     "data": {
      "image/png": "[encoded data removed]",
      "text/plain": [
       "<Figure size 432x288 with 1 Axes>"
      ]
     },
     "metadata": {
      "needs_background": "light"
     },
     "output_type": "display_data"
    },
    {
     "data": {
      "image/png": "[encoded data removed]",
      "text/plain": [
       "<Figure size 432x288 with 1 Axes>"
      ]
     },
     "metadata": {
      "needs_background": "light"
     },
     "output_type": "display_data"
    },
    {
     "data": {
      "image/png": "[encoded data removed]",
      "text/plain": [
       "<Figure size 432x288 with 1 Axes>"
      ]
     },
     "metadata": {
      "needs_background": "light"
     },
     "output_type": "display_data"
    },
    {
     "data": {
      "image/png": "[encoded data removed]",
      "text/plain": [
       "<Figure size 432x288 with 1 Axes>"
      ]
     },
     "metadata": {
      "needs_background": "light"
     },
     "output_type": "display_data"
    }
   ],
   "source": [
    "#какие факторы больше всего влияют на общую (полную) стоимость объекта\n",
    "#список_количественные значения\n",
    "list_params = ['total_area','living_area', 'kitchen_area']\n",
    "for i in list_params:\n",
    "    data.pivot_table(index=i, values='last_price').reset_index().plot(kind='scatter', x=i, y='last_price')\n",
    "    print(i, 'корреляция Пирсона -', data['last_price'].corr(data[i]).round(2))\n",
    "    plt.show()\n",
    "\n",
    "#спиосок_категориальные значения\n",
    "dict_params = ['rooms','month', 'year', 'day_week', 'category_floor']\n",
    "for i in dict_params:\n",
    "    data.pivot_table(index=i, values='last_price').reset_index().plot(kind='bar', x=i, y='last_price')\n",
    "    plt.show()"
   ]
  },
  {
   "cell_type": "markdown",
   "metadata": {},
   "source": [
    "Конечно площадь и кол-во комнат. Корреляция Пирсона это нам подтвердила еще раз. После исправления графиков в копилочку: этажность также влияет на цену. В нашем случае квартиры на последних этажа стоят дороже."
   ]
  },
  {
   "cell_type": "code",
   "execution_count": 31,
   "metadata": {},
   "outputs": [
    {
     "data": {
      "text/html": [
       "<div>\n",
       "<style scoped>\n",
       "    .dataframe tbody tr th:only-of-type {\n",
       "        vertical-align: middle;\n",
       "    }\n",
       "\n",
       "    .dataframe tbody tr th {\n",
       "        vertical-align: top;\n",
       "    }\n",
       "\n",
       "    .dataframe thead th {\n",
       "        text-align: right;\n",
       "    }\n",
       "</style>\n",
       "<table border=\"1\" class=\"dataframe\">\n",
       "  <thead>\n",
       "    <tr style=\"text-align: right;\">\n",
       "      <th></th>\n",
       "      <th>price_one_meter</th>\n",
       "    </tr>\n",
       "    <tr>\n",
       "      <th>locality_name</th>\n",
       "      <th></th>\n",
       "    </tr>\n",
       "  </thead>\n",
       "  <tbody>\n",
       "    <tr>\n",
       "      <th>санкт-петербург</th>\n",
       "      <td>114868.9</td>\n",
       "    </tr>\n",
       "    <tr>\n",
       "      <th>пушкин</th>\n",
       "      <td>103125.8</td>\n",
       "    </tr>\n",
       "    <tr>\n",
       "      <th>кудрово</th>\n",
       "      <td>95259.5</td>\n",
       "    </tr>\n",
       "    <tr>\n",
       "      <th>парголово</th>\n",
       "      <td>90177.2</td>\n",
       "    </tr>\n",
       "    <tr>\n",
       "      <th>мурино</th>\n",
       "      <td>86040.9</td>\n",
       "    </tr>\n",
       "    <tr>\n",
       "      <th>шушары</th>\n",
       "      <td>78552.0</td>\n",
       "    </tr>\n",
       "    <tr>\n",
       "      <th>колпино</th>\n",
       "      <td>75424.3</td>\n",
       "    </tr>\n",
       "    <tr>\n",
       "      <th>гатчина</th>\n",
       "      <td>68746.1</td>\n",
       "    </tr>\n",
       "    <tr>\n",
       "      <th>всеволожск</th>\n",
       "      <td>68655.4</td>\n",
       "    </tr>\n",
       "    <tr>\n",
       "      <th>выборг</th>\n",
       "      <td>58141.8</td>\n",
       "    </tr>\n",
       "  </tbody>\n",
       "</table>\n",
       "</div>"
      ],
      "text/plain": [
       "                 price_one_meter\n",
       "locality_name                   \n",
       "санкт-петербург         114868.9\n",
       "пушкин                  103125.8\n",
       "кудрово                  95259.5\n",
       "парголово                90177.2\n",
       "мурино                   86040.9\n",
       "шушары                   78552.0\n",
       "колпино                  75424.3\n",
       "гатчина                  68746.1\n",
       "всеволожск               68655.4\n",
       "выборг                   58141.8"
      ]
     },
     "execution_count": 31,
     "metadata": {},
     "output_type": "execute_result"
    }
   ],
   "source": [
    "#посчитайте среднюю цену одного квадратного метра в 10 населённых пунктах с наибольшим числом объявлений\n",
    "top10 = data['locality_name'].value_counts().head(10)\n",
    "locality_pivot = (\n",
    "    data.query('locality_name in @top10.index')\n",
    "    .pivot_table(index = 'locality_name', values = 'price_one_meter')\n",
    ")\n",
    "locality_pivot.sort_values(by='price_one_meter', ascending=False).round(1)"
   ]
  },
  {
   "cell_type": "markdown",
   "metadata": {},
   "source": [
    "Как и ожидалось, самые дорогие квартиры в Санкт-Петербурге и парковом городе Пушкине. Чем дальше от города, тем дешевле. В Выборге средняя цена за квадратный метр в 2 раз ниже, чем в Санкт-Петербурге"
   ]
  },
  {
   "cell_type": "code",
   "execution_count": 32,
   "metadata": {},
   "outputs": [
    {
     "data": {
      "image/png": "[encoded data removed]",
      "text/plain": [
       "<Figure size 720x360 with 1 Axes>"
      ]
     },
     "metadata": {
      "needs_background": "light"
     },
     "output_type": "display_data"
    }
   ],
   "source": [
    "#выделите квартиры в Санкт-Петербурге с помощью столбца locality_name и вычислите среднюю цену каждого километра\n",
    "data['cityCenters_nearest']=data['cityCenters_nearest'].astype('int64')\n",
    "locality_pivot = (\n",
    "    data.query('locality_name == \"санкт-петербург\"')\n",
    "    .pivot_table(index = 'cityCenters_nearest', values = 'price_one_meter')\n",
    "    .plot(grid=True, style='o-', xlim=(0.15), figsize=(10,5))\n",
    ")\n",
    "plt.show()"
   ]
  },
  {
   "cell_type": "markdown",
   "metadata": {},
   "source": [
    "Квартиры, которые к ближе к центру мега дорогие.\n",
    "Есть конечно пик возрастания стоимости на 27 км, но думаю это связано с наличием элитного района в данной области.\n"
   ]
  },
  {
   "cell_type": "markdown",
   "metadata": {},
   "source": [
    "### Общий вывод"
   ]
  },
  {
   "cell_type": "markdown",
   "metadata": {},
   "source": [
    "Чем больше площадь квартиры, тем выше цена\t\n",
    "Чем больше цена за квадратный метр, тем выше цена\t\n",
    "Чем выше доля жилой площади/площадь кухни, тем выше цена\t\n",
    "Чем больше комнат, тем выше цена\t\n",
    "Чем ближе к центру, тем дороже квартира"
   ]
  }
 ],
 "metadata": {
  "ExecuteTimeLog": [
   {
    "duration": 705,
    "start_time": "2022-06-23T16:44:33.021Z"
   },
   {
    "duration": 12,
    "start_time": "2022-06-23T16:45:15.931Z"
   },
   {
    "duration": 13,
    "start_time": "2022-06-23T16:45:26.980Z"
   },
   {
    "duration": 7,
    "start_time": "2022-06-23T16:47:29.279Z"
   },
   {
    "duration": 13,
    "start_time": "2022-06-23T16:47:42.179Z"
   },
   {
    "duration": 7,
    "start_time": "2022-06-23T16:49:07.601Z"
   },
   {
    "duration": 110,
    "start_time": "2022-06-23T16:49:16.666Z"
   },
   {
    "duration": 25,
    "start_time": "2022-06-23T16:49:19.209Z"
   },
   {
    "duration": 22,
    "start_time": "2022-06-23T16:49:57.786Z"
   },
   {
    "duration": 102,
    "start_time": "2022-06-23T16:57:58.146Z"
   },
   {
    "duration": 89,
    "start_time": "2022-06-23T17:13:59.677Z"
   },
   {
    "duration": 8,
    "start_time": "2022-06-23T17:14:28.421Z"
   },
   {
    "duration": 8,
    "start_time": "2022-06-23T17:15:24.585Z"
   },
   {
    "duration": 7,
    "start_time": "2022-06-23T17:16:12.896Z"
   },
   {
    "duration": 161,
    "start_time": "2022-06-23T17:17:07.977Z"
   },
   {
    "duration": 2538,
    "start_time": "2022-06-23T17:18:21.002Z"
   },
   {
    "duration": 2112,
    "start_time": "2022-06-23T17:19:25.249Z"
   },
   {
    "duration": 166,
    "start_time": "2022-06-23T17:19:55.628Z"
   },
   {
    "duration": 2107,
    "start_time": "2022-06-23T17:20:21.999Z"
   },
   {
    "duration": 7,
    "start_time": "2022-06-23T17:21:16.701Z"
   },
   {
    "duration": 2074,
    "start_time": "2022-06-23T17:21:48.825Z"
   },
   {
    "duration": 89,
    "start_time": "2022-06-23T17:22:15.099Z"
   },
   {
    "duration": 100,
    "start_time": "2022-06-23T17:22:43.886Z"
   },
   {
    "duration": 7,
    "start_time": "2022-06-23T17:23:15.676Z"
   },
   {
    "duration": 9,
    "start_time": "2022-06-23T17:24:07.830Z"
   },
   {
    "duration": 11,
    "start_time": "2022-06-23T17:25:21.272Z"
   },
   {
    "duration": 15,
    "start_time": "2022-06-23T17:28:55.454Z"
   },
   {
    "duration": 6,
    "start_time": "2022-06-23T17:29:01.287Z"
   },
   {
    "duration": 11,
    "start_time": "2022-06-23T17:29:41.359Z"
   },
   {
    "duration": 7,
    "start_time": "2022-06-23T17:30:11.309Z"
   },
   {
    "duration": 17,
    "start_time": "2022-06-23T17:40:14.096Z"
   },
   {
    "duration": 246,
    "start_time": "2022-06-23T17:40:49.301Z"
   },
   {
    "duration": 855,
    "start_time": "2022-06-23T17:44:39.649Z"
   },
   {
    "duration": 874,
    "start_time": "2022-06-23T17:46:16.882Z"
   },
   {
    "duration": 1321,
    "start_time": "2022-06-23T17:48:55.752Z"
   },
   {
    "duration": 1319,
    "start_time": "2022-06-23T17:49:08.093Z"
   },
   {
    "duration": 1381,
    "start_time": "2022-06-23T17:50:56.242Z"
   },
   {
    "duration": 1332,
    "start_time": "2022-06-23T17:51:41.764Z"
   },
   {
    "duration": 14,
    "start_time": "2022-06-23T17:53:35.579Z"
   },
   {
    "duration": 1295,
    "start_time": "2022-06-23T17:53:43.042Z"
   },
   {
    "duration": 1319,
    "start_time": "2022-06-23T17:54:20.491Z"
   },
   {
    "duration": 1329,
    "start_time": "2022-06-23T17:55:00.018Z"
   },
   {
    "duration": 75,
    "start_time": "2022-06-24T15:26:39.366Z"
   },
   {
    "duration": 52,
    "start_time": "2022-06-24T15:26:58.230Z"
   },
   {
    "duration": 12,
    "start_time": "2022-06-24T15:27:34.498Z"
   },
   {
    "duration": 685,
    "start_time": "2022-06-24T15:27:55.408Z"
   },
   {
    "duration": 1193,
    "start_time": "2022-06-24T15:27:59.017Z"
   },
   {
    "duration": 1241,
    "start_time": "2022-06-24T15:28:30.004Z"
   },
   {
    "duration": 89,
    "start_time": "2022-06-24T15:28:48.202Z"
   },
   {
    "duration": 91,
    "start_time": "2022-06-24T15:29:14.248Z"
   },
   {
    "duration": 1384,
    "start_time": "2022-06-24T15:30:50.142Z"
   },
   {
    "duration": 119,
    "start_time": "2022-06-24T15:33:08.689Z"
   },
   {
    "duration": 1344,
    "start_time": "2022-06-24T15:33:17.989Z"
   },
   {
    "duration": 1322,
    "start_time": "2022-06-24T15:33:28.230Z"
   },
   {
    "duration": 1423,
    "start_time": "2022-06-24T15:34:03.750Z"
   },
   {
    "duration": 9,
    "start_time": "2022-06-24T15:34:32.777Z"
   },
   {
    "duration": 1537,
    "start_time": "2022-06-24T15:34:41.381Z"
   },
   {
    "duration": 57,
    "start_time": "2022-06-24T15:37:48.070Z"
   },
   {
    "duration": 57,
    "start_time": "2022-06-24T15:38:00.047Z"
   },
   {
    "duration": 108,
    "start_time": "2022-06-24T15:43:15.241Z"
   },
   {
    "duration": 79,
    "start_time": "2022-06-24T15:49:09.485Z"
   },
   {
    "duration": 68,
    "start_time": "2022-06-24T15:49:41.431Z"
   },
   {
    "duration": 55,
    "start_time": "2022-06-24T15:50:22.154Z"
   },
   {
    "duration": 54,
    "start_time": "2022-06-24T15:55:29.336Z"
   },
   {
    "duration": 64,
    "start_time": "2022-06-24T15:56:44.600Z"
   },
   {
    "duration": 85,
    "start_time": "2022-06-24T16:05:50.003Z"
   },
   {
    "duration": 95,
    "start_time": "2022-06-24T16:07:34.741Z"
   },
   {
    "duration": 59,
    "start_time": "2022-06-24T16:08:27.526Z"
   },
   {
    "duration": 69,
    "start_time": "2022-06-24T16:08:39.131Z"
   },
   {
    "duration": 92,
    "start_time": "2022-06-24T16:09:09.035Z"
   },
   {
    "duration": 98,
    "start_time": "2022-06-24T16:12:57.853Z"
   },
   {
    "duration": 86,
    "start_time": "2022-06-24T16:13:15.142Z"
   },
   {
    "duration": 1447,
    "start_time": "2022-06-24T16:16:13.586Z"
   },
   {
    "duration": 1304,
    "start_time": "2022-06-24T16:17:20.887Z"
   },
   {
    "duration": 1352,
    "start_time": "2022-06-24T16:20:20.875Z"
   },
   {
    "duration": 1406,
    "start_time": "2022-06-24T16:20:41.070Z"
   },
   {
    "duration": 1478,
    "start_time": "2022-06-24T16:24:07.546Z"
   },
   {
    "duration": 6,
    "start_time": "2022-06-24T16:25:36.389Z"
   },
   {
    "duration": 1448,
    "start_time": "2022-06-24T16:25:42.767Z"
   },
   {
    "duration": 1390,
    "start_time": "2022-06-24T16:26:10.795Z"
   },
   {
    "duration": 1526,
    "start_time": "2022-06-24T16:26:34.775Z"
   },
   {
    "duration": 1470,
    "start_time": "2022-06-24T16:26:59.627Z"
   },
   {
    "duration": 1495,
    "start_time": "2022-06-24T16:40:06.213Z"
   },
   {
    "duration": 1393,
    "start_time": "2022-06-24T16:40:17.218Z"
   },
   {
    "duration": 1359,
    "start_time": "2022-06-24T16:40:37.576Z"
   },
   {
    "duration": 1350,
    "start_time": "2022-06-24T16:40:42.541Z"
   },
   {
    "duration": 1413,
    "start_time": "2022-06-24T16:40:44.425Z"
   },
   {
    "duration": 1344,
    "start_time": "2022-06-24T16:40:47.944Z"
   },
   {
    "duration": 1342,
    "start_time": "2022-06-24T16:41:08.541Z"
   },
   {
    "duration": 1433,
    "start_time": "2022-06-24T16:41:22.101Z"
   },
   {
    "duration": 1503,
    "start_time": "2022-06-24T16:41:25.324Z"
   },
   {
    "duration": 1774,
    "start_time": "2022-06-24T17:04:04.379Z"
   },
   {
    "duration": 1781,
    "start_time": "2022-06-24T17:05:03.731Z"
   },
   {
    "duration": 1549,
    "start_time": "2022-06-24T17:06:48.896Z"
   },
   {
    "duration": 1258,
    "start_time": "2022-06-24T17:12:52.743Z"
   },
   {
    "duration": 1279,
    "start_time": "2022-06-24T17:13:06.228Z"
   },
   {
    "duration": 1244,
    "start_time": "2022-06-24T17:39:27.582Z"
   },
   {
    "duration": 1314,
    "start_time": "2022-06-24T17:39:43.782Z"
   },
   {
    "duration": 1197,
    "start_time": "2022-06-24T17:43:41.974Z"
   },
   {
    "duration": 1210,
    "start_time": "2022-06-24T17:44:22.783Z"
   },
   {
    "duration": 1381,
    "start_time": "2022-06-24T17:49:23.367Z"
   },
   {
    "duration": 1389,
    "start_time": "2022-06-24T17:51:57.228Z"
   },
   {
    "duration": 2501,
    "start_time": "2022-06-24T18:03:48.689Z"
   },
   {
    "duration": 2762,
    "start_time": "2022-06-24T18:05:08.904Z"
   },
   {
    "duration": 22,
    "start_time": "2022-06-24T18:05:23.814Z"
   },
   {
    "duration": 32,
    "start_time": "2022-06-24T18:06:49.669Z"
   },
   {
    "duration": 18,
    "start_time": "2022-06-24T18:08:05.624Z"
   },
   {
    "duration": 53,
    "start_time": "2022-06-24T18:09:51.574Z"
   },
   {
    "duration": 2499,
    "start_time": "2022-06-24T18:10:40.468Z"
   },
   {
    "duration": 2435,
    "start_time": "2022-06-24T18:14:36.332Z"
   },
   {
    "duration": 2434,
    "start_time": "2022-06-24T18:14:55.128Z"
   },
   {
    "duration": 2464,
    "start_time": "2022-06-24T18:15:02.799Z"
   },
   {
    "duration": 2444,
    "start_time": "2022-06-24T18:21:02.972Z"
   },
   {
    "duration": 2426,
    "start_time": "2022-06-24T18:21:06.276Z"
   },
   {
    "duration": 2463,
    "start_time": "2022-06-24T18:21:33.898Z"
   },
   {
    "duration": 2391,
    "start_time": "2022-06-24T18:22:11.842Z"
   },
   {
    "duration": 2679,
    "start_time": "2022-06-24T18:22:23.846Z"
   },
   {
    "duration": 2607,
    "start_time": "2022-06-24T18:24:43.140Z"
   },
   {
    "duration": 53,
    "start_time": "2022-06-25T09:53:00.477Z"
   },
   {
    "duration": 19,
    "start_time": "2022-06-25T09:54:11.526Z"
   },
   {
    "duration": 729,
    "start_time": "2022-06-25T09:54:39.417Z"
   },
   {
    "duration": 3590,
    "start_time": "2022-06-25T09:54:44.047Z"
   },
   {
    "duration": 1276,
    "start_time": "2022-06-25T10:01:16.803Z"
   },
   {
    "duration": 2015,
    "start_time": "2022-06-25T10:01:27.084Z"
   },
   {
    "duration": 2278,
    "start_time": "2022-06-25T10:02:29.731Z"
   },
   {
    "duration": 3628,
    "start_time": "2022-06-25T10:03:37.136Z"
   },
   {
    "duration": 2871,
    "start_time": "2022-06-25T10:04:35.168Z"
   },
   {
    "duration": 2731,
    "start_time": "2022-06-25T10:04:47.840Z"
   },
   {
    "duration": 2863,
    "start_time": "2022-06-25T10:05:02.264Z"
   },
   {
    "duration": 100,
    "start_time": "2022-06-25T10:05:20.904Z"
   },
   {
    "duration": 2826,
    "start_time": "2022-06-25T10:05:24.644Z"
   },
   {
    "duration": 1224,
    "start_time": "2022-06-25T10:06:32.339Z"
   },
   {
    "duration": 43,
    "start_time": "2022-06-25T10:06:56.944Z"
   },
   {
    "duration": 1240,
    "start_time": "2022-06-25T10:07:17.118Z"
   },
   {
    "duration": 902,
    "start_time": "2022-06-25T10:07:38.988Z"
   },
   {
    "duration": 6,
    "start_time": "2022-06-25T10:08:51.451Z"
   },
   {
    "duration": 1256,
    "start_time": "2022-06-25T10:09:23.099Z"
   },
   {
    "duration": 1015,
    "start_time": "2022-06-25T10:10:21.609Z"
   },
   {
    "duration": 55,
    "start_time": "2022-06-25T10:10:33.497Z"
   },
   {
    "duration": 865,
    "start_time": "2022-06-25T10:11:02.829Z"
   },
   {
    "duration": 63,
    "start_time": "2022-06-25T10:11:14.106Z"
   },
   {
    "duration": 1039,
    "start_time": "2022-06-25T10:13:54.277Z"
   },
   {
    "duration": 1606,
    "start_time": "2022-06-25T10:14:17.572Z"
   },
   {
    "duration": 30,
    "start_time": "2022-06-25T10:14:42.448Z"
   },
   {
    "duration": 18,
    "start_time": "2022-06-25T10:15:03.086Z"
   },
   {
    "duration": 1349,
    "start_time": "2022-06-25T10:15:15.911Z"
   },
   {
    "duration": 1169,
    "start_time": "2022-06-25T10:16:00.208Z"
   },
   {
    "duration": 928,
    "start_time": "2022-06-25T10:17:10.221Z"
   },
   {
    "duration": 2179,
    "start_time": "2022-06-25T10:17:24.610Z"
   },
   {
    "duration": 801,
    "start_time": "2022-06-25T10:18:21.620Z"
   },
   {
    "duration": 844,
    "start_time": "2022-06-25T10:22:01.099Z"
   },
   {
    "duration": 901,
    "start_time": "2022-06-25T10:23:09.671Z"
   },
   {
    "duration": 758,
    "start_time": "2022-06-25T10:23:13.871Z"
   },
   {
    "duration": 18,
    "start_time": "2022-06-25T10:27:04.894Z"
   },
   {
    "duration": 980,
    "start_time": "2022-06-25T10:27:33.645Z"
   },
   {
    "duration": 781,
    "start_time": "2022-06-25T10:27:51.122Z"
   },
   {
    "duration": 816,
    "start_time": "2022-06-25T10:28:25.476Z"
   },
   {
    "duration": 829,
    "start_time": "2022-06-25T10:28:47.923Z"
   },
   {
    "duration": 20,
    "start_time": "2022-06-25T10:29:25.768Z"
   },
   {
    "duration": 4,
    "start_time": "2022-06-25T10:31:49.690Z"
   },
   {
    "duration": 4,
    "start_time": "2022-06-25T10:31:52.949Z"
   },
   {
    "duration": 7,
    "start_time": "2022-06-25T10:32:17.800Z"
   },
   {
    "duration": 881,
    "start_time": "2022-06-25T10:33:03.576Z"
   },
   {
    "duration": 5,
    "start_time": "2022-06-25T10:33:14.328Z"
   },
   {
    "duration": 11,
    "start_time": "2022-06-25T10:34:53.600Z"
   },
   {
    "duration": 13,
    "start_time": "2022-06-25T10:35:05.711Z"
   },
   {
    "duration": 45,
    "start_time": "2022-06-25T10:47:06.994Z"
   },
   {
    "duration": 25,
    "start_time": "2022-06-25T10:50:02.276Z"
   },
   {
    "duration": 47,
    "start_time": "2022-06-25T10:50:52.845Z"
   },
   {
    "duration": 59,
    "start_time": "2022-06-25T10:51:14.427Z"
   },
   {
    "duration": 28,
    "start_time": "2022-06-25T10:51:29.366Z"
   },
   {
    "duration": 44,
    "start_time": "2022-06-25T10:52:01.475Z"
   },
   {
    "duration": 46,
    "start_time": "2022-06-25T10:56:12.934Z"
   },
   {
    "duration": 49,
    "start_time": "2022-06-25T10:57:19.304Z"
   },
   {
    "duration": 6,
    "start_time": "2022-06-25T10:57:26.477Z"
   },
   {
    "duration": 17,
    "start_time": "2022-06-25T10:57:28.298Z"
   },
   {
    "duration": 5,
    "start_time": "2022-06-25T10:57:43.776Z"
   },
   {
    "duration": 65,
    "start_time": "2022-06-25T11:01:56.956Z"
   },
   {
    "duration": 52,
    "start_time": "2022-06-25T11:02:14.071Z"
   },
   {
    "duration": 146,
    "start_time": "2022-06-25T11:02:22.322Z"
   },
   {
    "duration": 92,
    "start_time": "2022-06-25T11:02:25.447Z"
   },
   {
    "duration": 1334,
    "start_time": "2022-06-25T11:02:28.292Z"
   },
   {
    "duration": 53,
    "start_time": "2022-06-25T11:02:31.576Z"
   },
   {
    "duration": 8,
    "start_time": "2022-06-25T11:02:33.510Z"
   },
   {
    "duration": 57,
    "start_time": "2022-06-25T11:02:37.076Z"
   },
   {
    "duration": 7,
    "start_time": "2022-06-25T11:02:38.731Z"
   },
   {
    "duration": 7,
    "start_time": "2022-06-25T11:02:40.856Z"
   },
   {
    "duration": 96,
    "start_time": "2022-06-25T11:04:59.781Z"
   },
   {
    "duration": 6,
    "start_time": "2022-06-25T11:06:57.546Z"
   },
   {
    "duration": 105,
    "start_time": "2022-06-25T11:07:16.987Z"
   },
   {
    "duration": 68,
    "start_time": "2022-06-25T11:07:49.535Z"
   },
   {
    "duration": 68,
    "start_time": "2022-06-25T11:08:05.770Z"
   },
   {
    "duration": 48,
    "start_time": "2022-06-25T11:08:12.543Z"
   },
   {
    "duration": 82,
    "start_time": "2022-06-25T11:08:54.028Z"
   },
   {
    "duration": 80,
    "start_time": "2022-06-25T11:12:40.876Z"
   },
   {
    "duration": 53,
    "start_time": "2022-06-25T11:13:04.554Z"
   },
   {
    "duration": 87,
    "start_time": "2022-06-25T11:13:27.222Z"
   },
   {
    "duration": 14,
    "start_time": "2022-06-25T11:18:29.505Z"
   },
   {
    "duration": 69,
    "start_time": "2022-06-25T11:18:37.114Z"
   },
   {
    "duration": 112,
    "start_time": "2022-06-25T11:48:14.882Z"
   },
   {
    "duration": 19,
    "start_time": "2022-06-25T11:48:59.024Z"
   },
   {
    "duration": 31,
    "start_time": "2022-06-25T11:49:32.651Z"
   },
   {
    "duration": 16,
    "start_time": "2022-06-25T11:51:43.285Z"
   },
   {
    "duration": 25,
    "start_time": "2022-06-25T11:51:46.470Z"
   },
   {
    "duration": 127,
    "start_time": "2022-06-25T11:52:03.727Z"
   },
   {
    "duration": 91,
    "start_time": "2022-06-25T11:52:06.363Z"
   },
   {
    "duration": 62,
    "start_time": "2022-06-25T11:52:08.914Z"
   },
   {
    "duration": 1448,
    "start_time": "2022-06-25T11:52:10.625Z"
   },
   {
    "duration": 49,
    "start_time": "2022-06-25T11:52:13.734Z"
   },
   {
    "duration": 8,
    "start_time": "2022-06-25T11:52:15.740Z"
   },
   {
    "duration": 56,
    "start_time": "2022-06-25T11:52:17.943Z"
   },
   {
    "duration": 6,
    "start_time": "2022-06-25T11:52:20.410Z"
   },
   {
    "duration": 15,
    "start_time": "2022-06-25T11:52:24.610Z"
   },
   {
    "duration": 33,
    "start_time": "2022-06-25T11:55:21.359Z"
   },
   {
    "duration": 24,
    "start_time": "2022-06-25T11:58:02.087Z"
   },
   {
    "duration": 20,
    "start_time": "2022-06-25T12:01:23.068Z"
   },
   {
    "duration": 23,
    "start_time": "2022-06-25T12:02:57.146Z"
   },
   {
    "duration": 5,
    "start_time": "2022-06-25T12:03:59.944Z"
   },
   {
    "duration": 4,
    "start_time": "2022-06-25T12:04:03.862Z"
   },
   {
    "duration": 31,
    "start_time": "2022-06-25T12:04:46.206Z"
   },
   {
    "duration": 352,
    "start_time": "2022-06-25T12:08:26.839Z"
   },
   {
    "duration": 31,
    "start_time": "2022-06-25T12:09:14.715Z"
   },
   {
    "duration": 70,
    "start_time": "2022-06-25T12:13:27.707Z"
   },
   {
    "duration": 1544,
    "start_time": "2022-06-25T12:13:39.614Z"
   },
   {
    "duration": 1304,
    "start_time": "2022-06-25T12:14:30.168Z"
   },
   {
    "duration": 1072,
    "start_time": "2022-06-25T12:16:59.735Z"
   },
   {
    "duration": 1370,
    "start_time": "2022-06-25T12:17:33.345Z"
   },
   {
    "duration": 1593,
    "start_time": "2022-06-25T12:19:12.948Z"
   },
   {
    "duration": 51,
    "start_time": "2022-06-25T12:20:15.544Z"
   },
   {
    "duration": 59,
    "start_time": "2022-06-25T12:20:44.472Z"
   },
   {
    "duration": 54,
    "start_time": "2022-06-25T12:20:49.645Z"
   },
   {
    "duration": 58,
    "start_time": "2022-06-25T12:21:06.951Z"
   },
   {
    "duration": 62,
    "start_time": "2022-06-25T12:22:17.992Z"
   },
   {
    "duration": 49,
    "start_time": "2022-06-25T12:28:50.245Z"
   },
   {
    "duration": 64,
    "start_time": "2022-06-25T12:30:18.884Z"
   },
   {
    "duration": 62,
    "start_time": "2022-06-25T12:31:52.613Z"
   },
   {
    "duration": 53,
    "start_time": "2022-06-25T12:35:51.594Z"
   },
   {
    "duration": 110,
    "start_time": "2022-06-25T12:40:46.904Z"
   },
   {
    "duration": 57,
    "start_time": "2022-06-25T12:40:50.059Z"
   },
   {
    "duration": 62,
    "start_time": "2022-06-25T12:40:52.318Z"
   },
   {
    "duration": 1361,
    "start_time": "2022-06-25T12:40:54.175Z"
   },
   {
    "duration": 49,
    "start_time": "2022-06-25T12:40:57.467Z"
   },
   {
    "duration": 7,
    "start_time": "2022-06-25T12:40:59.147Z"
   },
   {
    "duration": 51,
    "start_time": "2022-06-25T12:41:01.566Z"
   },
   {
    "duration": 6,
    "start_time": "2022-06-25T12:41:03.555Z"
   },
   {
    "duration": 56,
    "start_time": "2022-06-25T12:41:05.687Z"
   },
   {
    "duration": 60,
    "start_time": "2022-06-25T12:41:13.925Z"
   },
   {
    "duration": 5,
    "start_time": "2022-06-25T12:41:25.783Z"
   },
   {
    "duration": 1420,
    "start_time": "2022-06-25T12:41:47.550Z"
   },
   {
    "duration": 1401,
    "start_time": "2022-06-25T12:42:00.045Z"
   },
   {
    "duration": 1638,
    "start_time": "2022-06-25T12:42:03.946Z"
   },
   {
    "duration": 118,
    "start_time": "2022-06-25T12:46:20.084Z"
   },
   {
    "duration": 67,
    "start_time": "2022-06-25T12:46:23.896Z"
   },
   {
    "duration": 59,
    "start_time": "2022-06-25T12:46:25.974Z"
   },
   {
    "duration": 1449,
    "start_time": "2022-06-25T12:46:30.536Z"
   },
   {
    "duration": 48,
    "start_time": "2022-06-25T12:46:33.855Z"
   },
   {
    "duration": 7,
    "start_time": "2022-06-25T12:46:36.001Z"
   },
   {
    "duration": 45,
    "start_time": "2022-06-25T12:46:38.345Z"
   },
   {
    "duration": 7,
    "start_time": "2022-06-25T12:46:40.402Z"
   },
   {
    "duration": 1446,
    "start_time": "2022-06-25T12:46:42.847Z"
   },
   {
    "duration": 1930,
    "start_time": "2022-06-25T12:48:36.029Z"
   },
   {
    "duration": 1627,
    "start_time": "2022-06-25T12:48:37.962Z"
   },
   {
    "duration": 92129,
    "start_time": "2022-06-25T12:48:58.952Z"
   },
   {
    "duration": 98466,
    "start_time": "2022-06-25T12:50:31.083Z"
   },
   {
    "duration": 86518,
    "start_time": "2022-06-25T13:00:03.054Z"
   },
   {
    "duration": 83,
    "start_time": "2022-06-26T09:27:05.280Z"
   },
   {
    "duration": 721,
    "start_time": "2022-06-26T09:27:10.444Z"
   },
   {
    "duration": 55,
    "start_time": "2022-06-26T09:27:29.103Z"
   },
   {
    "duration": 43,
    "start_time": "2022-06-26T09:27:45.692Z"
   },
   {
    "duration": 44,
    "start_time": "2022-06-26T09:27:53.572Z"
   },
   {
    "duration": 62,
    "start_time": "2022-06-26T09:27:57.824Z"
   },
   {
    "duration": 56,
    "start_time": "2022-06-26T09:28:00.139Z"
   },
   {
    "duration": 1299,
    "start_time": "2022-06-26T09:28:01.993Z"
   },
   {
    "duration": 1342,
    "start_time": "2022-06-26T09:28:03.647Z"
   },
   {
    "duration": 60,
    "start_time": "2022-06-26T09:28:07.513Z"
   },
   {
    "duration": 9,
    "start_time": "2022-06-26T09:28:09.835Z"
   },
   {
    "duration": 47,
    "start_time": "2022-06-26T09:28:11.854Z"
   },
   {
    "duration": 4,
    "start_time": "2022-06-26T09:28:14.640Z"
   },
   {
    "duration": 1311,
    "start_time": "2022-06-26T09:28:16.739Z"
   },
   {
    "duration": 83086,
    "start_time": "2022-06-26T09:28:21.568Z"
   },
   {
    "duration": 1182,
    "start_time": "2022-06-26T09:31:59.140Z"
   },
   {
    "duration": 1156,
    "start_time": "2022-06-26T09:40:06.783Z"
   },
   {
    "duration": 1368,
    "start_time": "2022-06-26T09:40:10.633Z"
   },
   {
    "duration": 1342,
    "start_time": "2022-06-26T09:40:29.452Z"
   },
   {
    "duration": 1178,
    "start_time": "2022-06-26T09:45:17.956Z"
   },
   {
    "duration": 1119,
    "start_time": "2022-06-26T09:45:42.911Z"
   },
   {
    "duration": 1239,
    "start_time": "2022-06-26T09:54:58.301Z"
   },
   {
    "duration": 1343,
    "start_time": "2022-06-26T09:55:03.049Z"
   },
   {
    "duration": 1129,
    "start_time": "2022-06-26T09:56:18.356Z"
   },
   {
    "duration": 1189,
    "start_time": "2022-06-26T10:04:04.519Z"
   },
   {
    "duration": 1138,
    "start_time": "2022-06-26T10:04:31.591Z"
   },
   {
    "duration": 1144,
    "start_time": "2022-06-26T10:05:49.775Z"
   },
   {
    "duration": 1091,
    "start_time": "2022-06-26T10:06:21.414Z"
   },
   {
    "duration": 1118,
    "start_time": "2022-06-26T10:09:31.445Z"
   },
   {
    "duration": 69,
    "start_time": "2022-06-26T10:09:40.182Z"
   },
   {
    "duration": 96,
    "start_time": "2022-06-26T10:09:48.703Z"
   },
   {
    "duration": 55,
    "start_time": "2022-06-26T10:09:51.548Z"
   },
   {
    "duration": 57,
    "start_time": "2022-06-26T10:09:53.675Z"
   },
   {
    "duration": 1226,
    "start_time": "2022-06-26T10:09:55.550Z"
   },
   {
    "duration": 48,
    "start_time": "2022-06-26T10:09:59.221Z"
   },
   {
    "duration": 7,
    "start_time": "2022-06-26T10:10:01.468Z"
   },
   {
    "duration": 45,
    "start_time": "2022-06-26T10:10:03.619Z"
   },
   {
    "duration": 43,
    "start_time": "2022-06-26T10:15:09.438Z"
   },
   {
    "duration": 7,
    "start_time": "2022-06-26T10:15:51.027Z"
   },
   {
    "duration": 12,
    "start_time": "2022-06-26T10:17:38.207Z"
   },
   {
    "duration": 1137,
    "start_time": "2022-06-26T10:17:46.140Z"
   },
   {
    "duration": 1105,
    "start_time": "2022-06-26T10:18:11.699Z"
   },
   {
    "duration": 1135,
    "start_time": "2022-06-26T10:18:22.827Z"
   },
   {
    "duration": 1092,
    "start_time": "2022-06-26T10:18:28.496Z"
   },
   {
    "duration": 1118,
    "start_time": "2022-06-26T10:18:53.720Z"
   },
   {
    "duration": 1189,
    "start_time": "2022-06-26T10:19:30.123Z"
   },
   {
    "duration": 16,
    "start_time": "2022-06-26T10:19:34.092Z"
   },
   {
    "duration": 1166,
    "start_time": "2022-06-26T10:19:42.007Z"
   },
   {
    "duration": 1133,
    "start_time": "2022-06-26T10:20:03.984Z"
   },
   {
    "duration": 1160,
    "start_time": "2022-06-26T10:20:07.911Z"
   },
   {
    "duration": 1087,
    "start_time": "2022-06-26T10:21:49.167Z"
   },
   {
    "duration": 1102,
    "start_time": "2022-06-26T10:21:58.749Z"
   },
   {
    "duration": 1150,
    "start_time": "2022-06-26T10:23:44.863Z"
   },
   {
    "duration": 1121,
    "start_time": "2022-06-26T10:23:57.044Z"
   },
   {
    "duration": 1140,
    "start_time": "2022-06-26T10:24:00.614Z"
   },
   {
    "duration": 98,
    "start_time": "2022-06-26T10:24:10.442Z"
   },
   {
    "duration": 58,
    "start_time": "2022-06-26T10:24:13.142Z"
   },
   {
    "duration": 56,
    "start_time": "2022-06-26T10:24:15.110Z"
   },
   {
    "duration": 1252,
    "start_time": "2022-06-26T10:24:17.015Z"
   },
   {
    "duration": 46,
    "start_time": "2022-06-26T10:24:19.723Z"
   },
   {
    "duration": 7,
    "start_time": "2022-06-26T10:24:22.075Z"
   },
   {
    "duration": 46,
    "start_time": "2022-06-26T10:24:24.289Z"
   },
   {
    "duration": 5,
    "start_time": "2022-06-26T10:24:28.806Z"
   },
   {
    "duration": 12,
    "start_time": "2022-06-26T10:24:31.177Z"
   },
   {
    "duration": 1092,
    "start_time": "2022-06-26T10:24:34.855Z"
   },
   {
    "duration": 1088,
    "start_time": "2022-06-26T10:24:38.029Z"
   },
   {
    "duration": 1086,
    "start_time": "2022-06-26T10:24:41.872Z"
   },
   {
    "duration": 1080,
    "start_time": "2022-06-26T10:24:50.484Z"
   },
   {
    "duration": 1108,
    "start_time": "2022-06-26T10:24:53.184Z"
   },
   {
    "duration": 1152,
    "start_time": "2022-06-26T10:26:15.258Z"
   },
   {
    "duration": 1135,
    "start_time": "2022-06-26T10:26:47.419Z"
   },
   {
    "duration": 1104,
    "start_time": "2022-06-26T10:27:44.904Z"
   },
   {
    "duration": 1153,
    "start_time": "2022-06-26T10:28:30.471Z"
   },
   {
    "duration": 5,
    "start_time": "2022-06-26T10:29:58.923Z"
   },
   {
    "duration": 5,
    "start_time": "2022-06-26T10:30:23.454Z"
   },
   {
    "duration": 13,
    "start_time": "2022-06-26T10:32:25.436Z"
   },
   {
    "duration": 1161,
    "start_time": "2022-06-26T10:33:13.719Z"
   },
   {
    "duration": 1122,
    "start_time": "2022-06-26T10:33:33.392Z"
   },
   {
    "duration": 12,
    "start_time": "2022-06-26T10:33:55.878Z"
   },
   {
    "duration": 8,
    "start_time": "2022-06-26T10:40:29.990Z"
   },
   {
    "duration": 47,
    "start_time": "2022-06-26T10:41:06.686Z"
   },
   {
    "duration": 11,
    "start_time": "2022-06-26T10:44:44.121Z"
   },
   {
    "duration": 20,
    "start_time": "2022-06-26T10:45:03.526Z"
   },
   {
    "duration": 14,
    "start_time": "2022-06-26T10:46:18.671Z"
   },
   {
    "duration": 18,
    "start_time": "2022-06-26T10:48:00.652Z"
   },
   {
    "duration": 19,
    "start_time": "2022-06-26T10:48:57.917Z"
   },
   {
    "duration": 17,
    "start_time": "2022-06-26T10:49:41.576Z"
   },
   {
    "duration": 23,
    "start_time": "2022-06-26T10:49:57.934Z"
   },
   {
    "duration": 1012,
    "start_time": "2022-06-26T10:50:27.309Z"
   },
   {
    "duration": 29,
    "start_time": "2022-06-26T10:50:35.431Z"
   },
   {
    "duration": 53,
    "start_time": "2022-06-26T10:50:57.571Z"
   },
   {
    "duration": 27,
    "start_time": "2022-06-26T10:51:13.812Z"
   },
   {
    "duration": 25,
    "start_time": "2022-06-26T10:51:31.602Z"
   },
   {
    "duration": 27,
    "start_time": "2022-06-26T10:52:19.492Z"
   },
   {
    "duration": 26,
    "start_time": "2022-06-26T10:52:49.173Z"
   },
   {
    "duration": 42,
    "start_time": "2022-06-26T10:53:12.011Z"
   },
   {
    "duration": 26,
    "start_time": "2022-06-26T10:53:37.755Z"
   },
   {
    "duration": 27,
    "start_time": "2022-06-26T10:54:00.804Z"
   },
   {
    "duration": 29,
    "start_time": "2022-06-26T10:54:21.445Z"
   },
   {
    "duration": 46,
    "start_time": "2022-06-26T10:54:33.631Z"
   },
   {
    "duration": 25,
    "start_time": "2022-06-26T10:54:46.105Z"
   },
   {
    "duration": 17,
    "start_time": "2022-06-26T10:55:10.722Z"
   },
   {
    "duration": 50,
    "start_time": "2022-06-26T10:56:35.212Z"
   },
   {
    "duration": 10,
    "start_time": "2022-06-26T10:58:09.501Z"
   },
   {
    "duration": 9,
    "start_time": "2022-06-26T10:58:21.052Z"
   },
   {
    "duration": 47,
    "start_time": "2022-06-26T10:58:35.634Z"
   },
   {
    "duration": 18,
    "start_time": "2022-06-26T10:59:13.089Z"
   },
   {
    "duration": 12,
    "start_time": "2022-06-26T10:59:31.624Z"
   },
   {
    "duration": 5,
    "start_time": "2022-06-26T10:59:41.820Z"
   },
   {
    "duration": 116,
    "start_time": "2022-06-26T10:59:46.301Z"
   },
   {
    "duration": 55,
    "start_time": "2022-06-26T10:59:49.402Z"
   },
   {
    "duration": 58,
    "start_time": "2022-06-26T10:59:51.484Z"
   },
   {
    "duration": 1224,
    "start_time": "2022-06-26T10:59:53.675Z"
   },
   {
    "duration": 53,
    "start_time": "2022-06-26T10:59:57.238Z"
   },
   {
    "duration": 6,
    "start_time": "2022-06-26T10:59:59.599Z"
   },
   {
    "duration": 47,
    "start_time": "2022-06-26T11:00:02.025Z"
   },
   {
    "duration": 5,
    "start_time": "2022-06-26T11:00:05.254Z"
   },
   {
    "duration": 11,
    "start_time": "2022-06-26T11:04:12.185Z"
   },
   {
    "duration": 11,
    "start_time": "2022-06-26T11:04:26.244Z"
   },
   {
    "duration": 8,
    "start_time": "2022-06-26T11:04:36.746Z"
   },
   {
    "duration": 16,
    "start_time": "2022-06-26T11:04:55.278Z"
   },
   {
    "duration": 8,
    "start_time": "2022-06-26T11:05:08.307Z"
   },
   {
    "duration": 10,
    "start_time": "2022-06-26T11:05:26.311Z"
   },
   {
    "duration": 7,
    "start_time": "2022-06-26T11:05:47.023Z"
   },
   {
    "duration": 14,
    "start_time": "2022-06-26T11:05:56.264Z"
   },
   {
    "duration": 104,
    "start_time": "2022-06-26T11:06:15.836Z"
   },
   {
    "duration": 72,
    "start_time": "2022-06-26T11:06:18.248Z"
   },
   {
    "duration": 54,
    "start_time": "2022-06-26T11:06:20.199Z"
   },
   {
    "duration": 1283,
    "start_time": "2022-06-26T11:06:21.919Z"
   },
   {
    "duration": 1257,
    "start_time": "2022-06-26T11:06:23.691Z"
   },
   {
    "duration": 44,
    "start_time": "2022-06-26T11:06:26.587Z"
   },
   {
    "duration": 7,
    "start_time": "2022-06-26T11:06:28.950Z"
   },
   {
    "duration": 47,
    "start_time": "2022-06-26T11:06:30.957Z"
   },
   {
    "duration": 6,
    "start_time": "2022-06-26T11:06:33.403Z"
   },
   {
    "duration": 12,
    "start_time": "2022-06-26T11:06:56.504Z"
   },
   {
    "duration": 1189,
    "start_time": "2022-06-26T11:07:04.645Z"
   },
   {
    "duration": 1134,
    "start_time": "2022-06-26T11:07:07.835Z"
   },
   {
    "duration": 1155,
    "start_time": "2022-06-26T11:07:10.406Z"
   },
   {
    "duration": 1191,
    "start_time": "2022-06-26T11:07:13.543Z"
   },
   {
    "duration": 1227,
    "start_time": "2022-06-26T11:07:16.124Z"
   },
   {
    "duration": 13,
    "start_time": "2022-06-26T11:07:19.413Z"
   },
   {
    "duration": 29,
    "start_time": "2022-06-26T11:07:25.920Z"
   },
   {
    "duration": 25,
    "start_time": "2022-06-26T11:07:34.841Z"
   },
   {
    "duration": 23,
    "start_time": "2022-06-26T11:07:36.718Z"
   },
   {
    "duration": 22,
    "start_time": "2022-06-26T11:08:04.954Z"
   },
   {
    "duration": 21,
    "start_time": "2022-06-26T11:08:34.555Z"
   },
   {
    "duration": 6,
    "start_time": "2022-06-26T11:08:54.867Z"
   },
   {
    "duration": 5,
    "start_time": "2022-06-26T11:08:59.365Z"
   },
   {
    "duration": 24,
    "start_time": "2022-06-26T11:09:02.570Z"
   },
   {
    "duration": 14,
    "start_time": "2022-06-26T11:09:09.613Z"
   },
   {
    "duration": 6,
    "start_time": "2022-06-26T11:10:07.139Z"
   },
   {
    "duration": 5,
    "start_time": "2022-06-26T11:10:18.976Z"
   },
   {
    "duration": 4,
    "start_time": "2022-06-26T11:10:34.503Z"
   },
   {
    "duration": 18,
    "start_time": "2022-06-26T11:11:14.654Z"
   },
   {
    "duration": 561,
    "start_time": "2022-06-27T15:35:11.518Z"
   },
   {
    "duration": 84,
    "start_time": "2022-06-27T15:35:14.733Z"
   },
   {
    "duration": 61,
    "start_time": "2022-06-27T15:35:17.118Z"
   },
   {
    "duration": 1291,
    "start_time": "2022-06-27T15:35:19.259Z"
   },
   {
    "duration": 48,
    "start_time": "2022-06-27T15:35:22.150Z"
   },
   {
    "duration": 7,
    "start_time": "2022-06-27T15:35:24.538Z"
   },
   {
    "duration": 52,
    "start_time": "2022-06-27T15:35:26.732Z"
   },
   {
    "duration": 6,
    "start_time": "2022-06-27T15:35:29.091Z"
   },
   {
    "duration": 16,
    "start_time": "2022-06-27T15:35:31.281Z"
   },
   {
    "duration": 13,
    "start_time": "2022-06-27T15:35:51.671Z"
   },
   {
    "duration": 1251,
    "start_time": "2022-06-27T15:35:55.635Z"
   },
   {
    "duration": 1168,
    "start_time": "2022-06-27T15:35:59.001Z"
   },
   {
    "duration": 1158,
    "start_time": "2022-06-27T15:36:01.655Z"
   },
   {
    "duration": 1190,
    "start_time": "2022-06-27T15:36:04.288Z"
   },
   {
    "duration": 1227,
    "start_time": "2022-06-27T15:36:06.877Z"
   },
   {
    "duration": 1181,
    "start_time": "2022-06-27T15:36:09.471Z"
   },
   {
    "duration": 6,
    "start_time": "2022-06-27T15:36:12.071Z"
   },
   {
    "duration": 18,
    "start_time": "2022-06-27T15:36:14.708Z"
   },
   {
    "duration": 33,
    "start_time": "2022-06-27T15:36:22.149Z"
   },
   {
    "duration": 41,
    "start_time": "2022-06-27T15:36:46.909Z"
   },
   {
    "duration": 10,
    "start_time": "2022-06-27T15:37:04.728Z"
   },
   {
    "duration": 11,
    "start_time": "2022-06-27T15:41:35.088Z"
   },
   {
    "duration": 77,
    "start_time": "2022-06-27T15:45:27.204Z"
   },
   {
    "duration": 10,
    "start_time": "2022-06-27T15:46:50.456Z"
   },
   {
    "duration": 9,
    "start_time": "2022-06-27T15:46:59.924Z"
   },
   {
    "duration": 14,
    "start_time": "2022-06-27T15:47:41.951Z"
   },
   {
    "duration": 9,
    "start_time": "2022-06-27T15:48:27.410Z"
   },
   {
    "duration": 9,
    "start_time": "2022-06-27T15:48:36.033Z"
   },
   {
    "duration": 11,
    "start_time": "2022-06-27T15:48:39.820Z"
   },
   {
    "duration": 94,
    "start_time": "2022-06-27T15:48:58.560Z"
   },
   {
    "duration": 59,
    "start_time": "2022-06-27T15:49:01.323Z"
   },
   {
    "duration": 57,
    "start_time": "2022-06-27T15:49:03.292Z"
   },
   {
    "duration": 1327,
    "start_time": "2022-06-27T15:49:05.524Z"
   },
   {
    "duration": 61,
    "start_time": "2022-06-27T15:49:08.458Z"
   },
   {
    "duration": 7,
    "start_time": "2022-06-27T15:49:10.700Z"
   },
   {
    "duration": 47,
    "start_time": "2022-06-27T15:49:12.680Z"
   },
   {
    "duration": 5,
    "start_time": "2022-06-27T15:49:15.183Z"
   },
   {
    "duration": 15,
    "start_time": "2022-06-27T15:49:17.198Z"
   },
   {
    "duration": 1105,
    "start_time": "2022-06-27T15:49:19.508Z"
   },
   {
    "duration": 1110,
    "start_time": "2022-06-27T15:49:21.994Z"
   },
   {
    "duration": 1211,
    "start_time": "2022-06-27T15:49:24.361Z"
   },
   {
    "duration": 1142,
    "start_time": "2022-06-27T15:49:26.875Z"
   },
   {
    "duration": 1143,
    "start_time": "2022-06-27T15:49:29.388Z"
   },
   {
    "duration": 1123,
    "start_time": "2022-06-27T15:49:32.309Z"
   },
   {
    "duration": 13,
    "start_time": "2022-06-27T15:49:34.747Z"
   },
   {
    "duration": 27,
    "start_time": "2022-06-27T15:49:37.786Z"
   },
   {
    "duration": 13,
    "start_time": "2022-06-27T15:49:51.430Z"
   },
   {
    "duration": 55,
    "start_time": "2022-06-27T15:49:57.011Z"
   },
   {
    "duration": 21,
    "start_time": "2022-06-27T15:50:02.791Z"
   },
   {
    "duration": 86,
    "start_time": "2022-06-27T15:50:59.558Z"
   },
   {
    "duration": 58,
    "start_time": "2022-06-27T15:51:03.316Z"
   },
   {
    "duration": 55,
    "start_time": "2022-06-27T15:51:05.047Z"
   },
   {
    "duration": 1296,
    "start_time": "2022-06-27T15:51:07.416Z"
   },
   {
    "duration": 50,
    "start_time": "2022-06-27T15:51:10.007Z"
   },
   {
    "duration": 8,
    "start_time": "2022-06-27T15:51:11.739Z"
   },
   {
    "duration": 47,
    "start_time": "2022-06-27T15:51:13.920Z"
   },
   {
    "duration": 7,
    "start_time": "2022-06-27T15:51:17.286Z"
   },
   {
    "duration": 16,
    "start_time": "2022-06-27T15:51:19.768Z"
   },
   {
    "duration": 1126,
    "start_time": "2022-06-27T15:51:21.813Z"
   },
   {
    "duration": 1157,
    "start_time": "2022-06-27T15:51:24.387Z"
   },
   {
    "duration": 1133,
    "start_time": "2022-06-27T15:51:26.835Z"
   },
   {
    "duration": 1113,
    "start_time": "2022-06-27T15:51:29.356Z"
   },
   {
    "duration": 1116,
    "start_time": "2022-06-27T15:51:32.542Z"
   },
   {
    "duration": 6,
    "start_time": "2022-06-27T15:51:35.339Z"
   },
   {
    "duration": 14,
    "start_time": "2022-06-27T15:51:40.775Z"
   },
   {
    "duration": 21,
    "start_time": "2022-06-27T15:51:48.472Z"
   },
   {
    "duration": 21,
    "start_time": "2022-06-27T15:52:09.523Z"
   },
   {
    "duration": 20,
    "start_time": "2022-06-27T15:52:30.430Z"
   },
   {
    "duration": 21,
    "start_time": "2022-06-27T15:54:29.855Z"
   },
   {
    "duration": 13,
    "start_time": "2022-06-27T15:54:52.101Z"
   },
   {
    "duration": 12,
    "start_time": "2022-06-27T15:55:06.504Z"
   },
   {
    "duration": 15,
    "start_time": "2022-06-27T15:55:28.381Z"
   },
   {
    "duration": 13,
    "start_time": "2022-06-27T15:56:01.588Z"
   },
   {
    "duration": 10,
    "start_time": "2022-06-27T15:56:04.938Z"
   },
   {
    "duration": 28,
    "start_time": "2022-06-27T15:56:26.273Z"
   },
   {
    "duration": 12,
    "start_time": "2022-06-27T15:57:49.525Z"
   },
   {
    "duration": 1185,
    "start_time": "2022-06-27T15:58:27.842Z"
   },
   {
    "duration": 5,
    "start_time": "2022-06-27T15:58:33.109Z"
   },
   {
    "duration": 13,
    "start_time": "2022-06-27T15:58:35.976Z"
   },
   {
    "duration": 21,
    "start_time": "2022-06-27T15:58:59.776Z"
   },
   {
    "duration": 21,
    "start_time": "2022-06-27T15:59:08.216Z"
   },
   {
    "duration": 43,
    "start_time": "2022-06-27T15:59:16.639Z"
   },
   {
    "duration": 16,
    "start_time": "2022-06-27T15:59:22.159Z"
   },
   {
    "duration": 23,
    "start_time": "2022-06-27T15:59:30.545Z"
   },
   {
    "duration": 65,
    "start_time": "2022-06-27T16:03:23.217Z"
   },
   {
    "duration": 54,
    "start_time": "2022-06-27T16:04:10.620Z"
   },
   {
    "duration": 51,
    "start_time": "2022-06-27T16:04:30.332Z"
   },
   {
    "duration": 51,
    "start_time": "2022-06-27T16:05:12.748Z"
   },
   {
    "duration": 54,
    "start_time": "2022-06-27T16:05:27.925Z"
   },
   {
    "duration": 64,
    "start_time": "2022-06-27T16:06:21.516Z"
   },
   {
    "duration": 79,
    "start_time": "2022-06-27T16:06:40.992Z"
   },
   {
    "duration": 835,
    "start_time": "2022-06-27T16:10:31.882Z"
   },
   {
    "duration": 760,
    "start_time": "2022-06-27T16:10:55.680Z"
   },
   {
    "duration": 84,
    "start_time": "2022-06-27T16:12:12.670Z"
   },
   {
    "duration": 99,
    "start_time": "2022-06-27T16:12:50.751Z"
   },
   {
    "duration": 101,
    "start_time": "2022-06-27T16:13:36.405Z"
   },
   {
    "duration": 105,
    "start_time": "2022-06-27T16:13:50.739Z"
   },
   {
    "duration": 109,
    "start_time": "2022-06-27T16:15:43.878Z"
   },
   {
    "duration": 117,
    "start_time": "2022-06-27T16:16:00.498Z"
   },
   {
    "duration": 106,
    "start_time": "2022-06-27T16:16:23.662Z"
   },
   {
    "duration": 121,
    "start_time": "2022-06-27T16:16:40.475Z"
   },
   {
    "duration": 112,
    "start_time": "2022-06-27T16:19:50.637Z"
   },
   {
    "duration": 48,
    "start_time": "2022-06-27T16:32:09.676Z"
   },
   {
    "duration": 50,
    "start_time": "2022-06-27T16:35:22.130Z"
   },
   {
    "duration": 19,
    "start_time": "2022-06-27T16:36:14.303Z"
   },
   {
    "duration": 97,
    "start_time": "2022-06-27T16:36:36.450Z"
   },
   {
    "duration": 60,
    "start_time": "2022-06-27T16:36:41.156Z"
   },
   {
    "duration": 63,
    "start_time": "2022-06-27T16:36:43.341Z"
   },
   {
    "duration": 1342,
    "start_time": "2022-06-27T16:36:45.792Z"
   },
   {
    "duration": 48,
    "start_time": "2022-06-27T16:36:48.490Z"
   },
   {
    "duration": 8,
    "start_time": "2022-06-27T16:36:50.892Z"
   },
   {
    "duration": 55,
    "start_time": "2022-06-27T16:36:54.115Z"
   },
   {
    "duration": 6,
    "start_time": "2022-06-27T16:36:56.123Z"
   },
   {
    "duration": 16,
    "start_time": "2022-06-27T16:36:58.259Z"
   },
   {
    "duration": 1190,
    "start_time": "2022-06-27T16:37:00.318Z"
   },
   {
    "duration": 1326,
    "start_time": "2022-06-27T16:37:03.029Z"
   },
   {
    "duration": 1290,
    "start_time": "2022-06-27T16:37:05.540Z"
   },
   {
    "duration": 1241,
    "start_time": "2022-06-27T16:37:09.071Z"
   },
   {
    "duration": 6,
    "start_time": "2022-06-27T16:37:11.792Z"
   },
   {
    "duration": 18,
    "start_time": "2022-06-27T16:37:16.298Z"
   },
   {
    "duration": 15,
    "start_time": "2022-06-27T16:37:19.927Z"
   },
   {
    "duration": 9,
    "start_time": "2022-06-27T16:37:22.653Z"
   },
   {
    "duration": 6,
    "start_time": "2022-06-27T16:37:34.609Z"
   },
   {
    "duration": 12,
    "start_time": "2022-06-27T16:37:39.470Z"
   },
   {
    "duration": 1214,
    "start_time": "2022-06-27T16:37:55.568Z"
   },
   {
    "duration": 6,
    "start_time": "2022-06-27T16:37:57.985Z"
   },
   {
    "duration": 11,
    "start_time": "2022-06-27T16:38:00.847Z"
   },
   {
    "duration": 11,
    "start_time": "2022-06-27T16:38:03.440Z"
   },
   {
    "duration": 6,
    "start_time": "2022-06-27T16:38:21.307Z"
   },
   {
    "duration": 52,
    "start_time": "2022-06-27T16:38:23.646Z"
   },
   {
    "duration": 6,
    "start_time": "2022-06-27T16:38:25.805Z"
   },
   {
    "duration": 15,
    "start_time": "2022-06-27T16:38:27.940Z"
   },
   {
    "duration": 1141,
    "start_time": "2022-06-27T16:38:30.658Z"
   },
   {
    "duration": 1174,
    "start_time": "2022-06-27T16:38:33.372Z"
   },
   {
    "duration": 1271,
    "start_time": "2022-06-27T16:38:36.735Z"
   },
   {
    "duration": 1170,
    "start_time": "2022-06-27T16:38:39.503Z"
   },
   {
    "duration": 1113,
    "start_time": "2022-06-27T16:38:42.446Z"
   },
   {
    "duration": 1184,
    "start_time": "2022-06-27T16:38:45.292Z"
   },
   {
    "duration": 6,
    "start_time": "2022-06-27T16:38:47.988Z"
   },
   {
    "duration": 1256,
    "start_time": "2022-06-27T16:39:06.861Z"
   },
   {
    "duration": 1164,
    "start_time": "2022-06-27T16:39:10.314Z"
   },
   {
    "duration": 1198,
    "start_time": "2022-06-27T16:39:13.375Z"
   },
   {
    "duration": 1155,
    "start_time": "2022-06-27T16:39:15.197Z"
   },
   {
    "duration": 1144,
    "start_time": "2022-06-27T16:39:16.930Z"
   },
   {
    "duration": 5,
    "start_time": "2022-06-27T16:39:18.459Z"
   },
   {
    "duration": 12,
    "start_time": "2022-06-27T16:39:23.338Z"
   },
   {
    "duration": 17,
    "start_time": "2022-06-27T16:39:28.195Z"
   },
   {
    "duration": 105,
    "start_time": "2022-06-27T16:39:34.610Z"
   },
   {
    "duration": 111,
    "start_time": "2022-06-27T16:39:44.505Z"
   },
   {
    "duration": 120,
    "start_time": "2022-06-27T16:44:54.064Z"
   },
   {
    "duration": 121,
    "start_time": "2022-06-27T16:45:02.470Z"
   },
   {
    "duration": 132,
    "start_time": "2022-06-27T16:46:07.379Z"
   },
   {
    "duration": 153,
    "start_time": "2022-06-27T16:46:23.157Z"
   },
   {
    "duration": 108,
    "start_time": "2022-06-27T16:46:32.940Z"
   },
   {
    "duration": 121,
    "start_time": "2022-06-27T16:46:38.366Z"
   },
   {
    "duration": 137,
    "start_time": "2022-06-27T16:46:52.459Z"
   },
   {
    "duration": 110,
    "start_time": "2022-06-27T16:47:19.713Z"
   },
   {
    "duration": 90,
    "start_time": "2022-06-27T16:50:48.534Z"
   },
   {
    "duration": 57,
    "start_time": "2022-06-27T16:50:51.273Z"
   },
   {
    "duration": 56,
    "start_time": "2022-06-27T16:50:53.177Z"
   },
   {
    "duration": 11,
    "start_time": "2022-06-27T16:50:55.356Z"
   },
   {
    "duration": 9,
    "start_time": "2022-06-27T16:51:15.155Z"
   },
   {
    "duration": 349,
    "start_time": "2022-06-27T16:52:54.744Z"
   },
   {
    "duration": 1308,
    "start_time": "2022-06-27T16:53:13.149Z"
   },
   {
    "duration": 60,
    "start_time": "2022-06-27T16:53:16.189Z"
   },
   {
    "duration": 7,
    "start_time": "2022-06-27T16:53:17.953Z"
   },
   {
    "duration": 45,
    "start_time": "2022-06-27T16:53:18.942Z"
   },
   {
    "duration": 7,
    "start_time": "2022-06-27T16:53:19.463Z"
   },
   {
    "duration": 13,
    "start_time": "2022-06-27T16:53:19.882Z"
   },
   {
    "duration": 1148,
    "start_time": "2022-06-27T16:53:20.192Z"
   },
   {
    "duration": 1151,
    "start_time": "2022-06-27T16:53:21.342Z"
   },
   {
    "duration": 1199,
    "start_time": "2022-06-27T16:53:22.495Z"
   },
   {
    "duration": 1185,
    "start_time": "2022-06-27T16:53:23.696Z"
   },
   {
    "duration": 1203,
    "start_time": "2022-06-27T16:53:24.883Z"
   },
   {
    "duration": 1263,
    "start_time": "2022-06-27T16:53:26.087Z"
   },
   {
    "duration": 6,
    "start_time": "2022-06-27T16:53:32.235Z"
   },
   {
    "duration": 14,
    "start_time": "2022-06-27T16:53:33.347Z"
   },
   {
    "duration": 8,
    "start_time": "2022-06-27T16:53:38.347Z"
   },
   {
    "duration": 18,
    "start_time": "2022-06-27T16:53:40.160Z"
   },
   {
    "duration": 76,
    "start_time": "2022-06-27T16:55:22.310Z"
   },
   {
    "duration": 117,
    "start_time": "2022-06-27T16:57:28.048Z"
   },
   {
    "duration": 9,
    "start_time": "2022-06-27T16:57:48.376Z"
   },
   {
    "duration": 12,
    "start_time": "2022-06-27T17:01:19.313Z"
   },
   {
    "duration": 10,
    "start_time": "2022-06-27T17:01:32.133Z"
   },
   {
    "duration": 6,
    "start_time": "2022-06-27T17:02:26.236Z"
   },
   {
    "duration": 12,
    "start_time": "2022-06-27T17:02:37.490Z"
   },
   {
    "duration": 11,
    "start_time": "2022-06-27T17:03:03.983Z"
   },
   {
    "duration": 8,
    "start_time": "2022-06-27T17:03:29.450Z"
   },
   {
    "duration": 11,
    "start_time": "2022-06-27T17:04:05.171Z"
   },
   {
    "duration": 10,
    "start_time": "2022-06-27T17:04:27.614Z"
   },
   {
    "duration": 780,
    "start_time": "2022-06-27T17:05:08.277Z"
   },
   {
    "duration": 9,
    "start_time": "2022-06-27T17:05:13.732Z"
   },
   {
    "duration": 8,
    "start_time": "2022-06-27T17:05:31.800Z"
   },
   {
    "duration": 729,
    "start_time": "2022-06-27T17:05:52.842Z"
   },
   {
    "duration": 8,
    "start_time": "2022-06-27T17:05:58.551Z"
   },
   {
    "duration": 5,
    "start_time": "2022-06-27T17:06:26.823Z"
   },
   {
    "duration": 14,
    "start_time": "2022-06-27T17:06:47.257Z"
   },
   {
    "duration": 29,
    "start_time": "2022-06-27T17:13:52.399Z"
   },
   {
    "duration": 38,
    "start_time": "2022-06-27T17:16:16.295Z"
   },
   {
    "duration": 10,
    "start_time": "2022-06-27T17:21:56.774Z"
   },
   {
    "duration": 10,
    "start_time": "2022-06-27T17:22:20.054Z"
   },
   {
    "duration": 11,
    "start_time": "2022-06-27T17:22:38.254Z"
   },
   {
    "duration": 9,
    "start_time": "2022-06-27T17:22:46.696Z"
   },
   {
    "duration": 26,
    "start_time": "2022-06-27T17:43:06.762Z"
   },
   {
    "duration": 28,
    "start_time": "2022-06-27T17:43:15.279Z"
   },
   {
    "duration": 31,
    "start_time": "2022-06-27T17:43:22.304Z"
   },
   {
    "duration": 28,
    "start_time": "2022-06-27T17:43:30.929Z"
   },
   {
    "duration": 29,
    "start_time": "2022-06-27T17:43:43.712Z"
   },
   {
    "duration": 28,
    "start_time": "2022-06-27T17:43:49.942Z"
   },
   {
    "duration": 10,
    "start_time": "2022-06-27T17:47:35.689Z"
   },
   {
    "duration": 11,
    "start_time": "2022-06-27T17:48:11.295Z"
   },
   {
    "duration": 11,
    "start_time": "2022-06-27T17:48:34.059Z"
   },
   {
    "duration": 11,
    "start_time": "2022-06-27T17:48:48.505Z"
   },
   {
    "duration": 19,
    "start_time": "2022-06-27T17:49:13.805Z"
   },
   {
    "duration": 25,
    "start_time": "2022-06-27T17:49:55.256Z"
   },
   {
    "duration": 20,
    "start_time": "2022-06-27T17:49:59.607Z"
   },
   {
    "duration": 18,
    "start_time": "2022-06-27T17:50:43.427Z"
   },
   {
    "duration": 18,
    "start_time": "2022-06-27T17:50:50.031Z"
   },
   {
    "duration": 18,
    "start_time": "2022-06-27T17:50:53.787Z"
   },
   {
    "duration": 87,
    "start_time": "2022-06-27T17:51:01.483Z"
   },
   {
    "duration": 60,
    "start_time": "2022-06-27T17:51:05.225Z"
   },
   {
    "duration": 1443,
    "start_time": "2022-06-27T17:51:06.083Z"
   },
   {
    "duration": 59,
    "start_time": "2022-06-27T17:51:09.782Z"
   },
   {
    "duration": 1315,
    "start_time": "2022-06-27T17:51:10.688Z"
   },
   {
    "duration": 7,
    "start_time": "2022-06-27T17:51:27.485Z"
   },
   {
    "duration": 49,
    "start_time": "2022-06-27T17:51:28.401Z"
   },
   {
    "duration": 6,
    "start_time": "2022-06-27T17:51:29.033Z"
   },
   {
    "duration": 45,
    "start_time": "2022-06-27T17:51:35.036Z"
   },
   {
    "duration": 6,
    "start_time": "2022-06-27T17:51:35.427Z"
   },
   {
    "duration": 13,
    "start_time": "2022-06-27T17:51:35.956Z"
   },
   {
    "duration": 1297,
    "start_time": "2022-06-27T17:51:36.366Z"
   },
   {
    "duration": 1226,
    "start_time": "2022-06-27T17:51:37.665Z"
   },
   {
    "duration": 1226,
    "start_time": "2022-06-27T17:51:38.892Z"
   },
   {
    "duration": 1207,
    "start_time": "2022-06-27T17:51:40.126Z"
   },
   {
    "duration": 1197,
    "start_time": "2022-06-27T17:51:41.335Z"
   },
   {
    "duration": 1214,
    "start_time": "2022-06-27T17:51:42.533Z"
   },
   {
    "duration": 6,
    "start_time": "2022-06-27T17:51:46.047Z"
   },
   {
    "duration": 14,
    "start_time": "2022-06-27T17:52:47.258Z"
   },
   {
    "duration": 6,
    "start_time": "2022-06-27T17:53:04.508Z"
   },
   {
    "duration": 51,
    "start_time": "2022-06-27T17:53:24.878Z"
   },
   {
    "duration": 27,
    "start_time": "2022-06-27T17:53:49.023Z"
   },
   {
    "duration": 6,
    "start_time": "2022-06-27T17:54:00.029Z"
   },
   {
    "duration": 33,
    "start_time": "2022-06-27T17:54:15.598Z"
   },
   {
    "duration": 7,
    "start_time": "2022-06-27T17:54:24.642Z"
   },
   {
    "duration": 28,
    "start_time": "2022-06-27T17:54:27.557Z"
   },
   {
    "duration": 32,
    "start_time": "2022-06-27T17:54:53.774Z"
   },
   {
    "duration": 34,
    "start_time": "2022-06-27T17:55:03.856Z"
   },
   {
    "duration": 6,
    "start_time": "2022-06-27T17:55:18.398Z"
   },
   {
    "duration": 63,
    "start_time": "2022-06-27T18:00:41.424Z"
   },
   {
    "duration": 84,
    "start_time": "2022-06-27T18:00:54.506Z"
   },
   {
    "duration": 119,
    "start_time": "2022-06-27T18:03:04.282Z"
   },
   {
    "duration": 87,
    "start_time": "2022-06-27T18:04:08.203Z"
   },
   {
    "duration": 27,
    "start_time": "2022-06-27T18:04:18.859Z"
   },
   {
    "duration": 83,
    "start_time": "2022-06-27T18:04:21.605Z"
   },
   {
    "duration": 84,
    "start_time": "2022-06-27T18:04:34.380Z"
   },
   {
    "duration": 360,
    "start_time": "2022-06-27T18:05:40.520Z"
   },
   {
    "duration": 311,
    "start_time": "2022-06-27T18:06:03.443Z"
   },
   {
    "duration": 194,
    "start_time": "2022-06-27T18:06:16.667Z"
   },
   {
    "duration": 242,
    "start_time": "2022-06-27T18:07:02.467Z"
   },
   {
    "duration": 65,
    "start_time": "2022-06-27T18:19:29.141Z"
   },
   {
    "duration": 53,
    "start_time": "2022-06-27T18:20:30.801Z"
   },
   {
    "duration": 45,
    "start_time": "2022-06-27T18:20:41.541Z"
   },
   {
    "duration": 16,
    "start_time": "2022-06-27T18:20:49.296Z"
   },
   {
    "duration": 14,
    "start_time": "2022-06-27T18:21:23.309Z"
   },
   {
    "duration": 208,
    "start_time": "2022-06-27T18:22:12.629Z"
   },
   {
    "duration": 14,
    "start_time": "2022-06-27T18:22:13.762Z"
   },
   {
    "duration": 13,
    "start_time": "2022-06-27T18:22:25.283Z"
   },
   {
    "duration": 336,
    "start_time": "2022-06-27T18:24:34.309Z"
   },
   {
    "duration": 325,
    "start_time": "2022-06-27T18:24:44.358Z"
   },
   {
    "duration": 5,
    "start_time": "2022-06-27T18:28:32.439Z"
   },
   {
    "duration": 26,
    "start_time": "2022-06-27T18:28:41.334Z"
   },
   {
    "duration": 10,
    "start_time": "2022-06-27T18:29:08.071Z"
   },
   {
    "duration": 6,
    "start_time": "2022-06-27T18:29:13.569Z"
   },
   {
    "duration": 7,
    "start_time": "2022-06-27T18:29:39.733Z"
   },
   {
    "duration": 17,
    "start_time": "2022-06-27T18:29:58.237Z"
   },
   {
    "duration": 21,
    "start_time": "2022-06-27T18:32:00.316Z"
   },
   {
    "duration": 8,
    "start_time": "2022-06-27T18:32:14.869Z"
   },
   {
    "duration": 309,
    "start_time": "2022-06-27T18:32:39.012Z"
   },
   {
    "duration": 318,
    "start_time": "2022-06-27T18:33:02.297Z"
   },
   {
    "duration": 1154,
    "start_time": "2022-06-27T18:33:28.675Z"
   },
   {
    "duration": 1176,
    "start_time": "2022-06-27T18:33:35.041Z"
   },
   {
    "duration": 1126,
    "start_time": "2022-06-27T18:33:47.660Z"
   },
   {
    "duration": 1132,
    "start_time": "2022-06-27T18:33:49.631Z"
   },
   {
    "duration": 89,
    "start_time": "2022-06-27T18:35:35.273Z"
   },
   {
    "duration": 58,
    "start_time": "2022-06-27T18:35:39.544Z"
   },
   {
    "duration": 1336,
    "start_time": "2022-06-27T18:35:39.850Z"
   },
   {
    "duration": 56,
    "start_time": "2022-06-27T18:35:41.188Z"
   },
   {
    "duration": 9,
    "start_time": "2022-06-27T18:35:41.246Z"
   },
   {
    "duration": 71,
    "start_time": "2022-06-27T18:35:41.257Z"
   },
   {
    "duration": 5,
    "start_time": "2022-06-27T18:35:41.330Z"
   },
   {
    "duration": 13,
    "start_time": "2022-06-27T18:35:41.336Z"
   },
   {
    "duration": 1187,
    "start_time": "2022-06-27T18:35:41.387Z"
   },
   {
    "duration": 1210,
    "start_time": "2022-06-27T18:35:42.576Z"
   },
   {
    "duration": 1315,
    "start_time": "2022-06-27T18:35:43.787Z"
   },
   {
    "duration": 1225,
    "start_time": "2022-06-27T18:35:45.104Z"
   },
   {
    "duration": 1316,
    "start_time": "2022-06-27T18:35:46.331Z"
   },
   {
    "duration": 1291,
    "start_time": "2022-06-27T18:35:47.648Z"
   },
   {
    "duration": 6,
    "start_time": "2022-06-27T18:35:48.941Z"
   },
   {
    "duration": 17,
    "start_time": "2022-06-27T18:35:48.949Z"
   },
   {
    "duration": 7,
    "start_time": "2022-06-27T18:35:48.968Z"
   },
   {
    "duration": 12,
    "start_time": "2022-06-27T18:35:48.978Z"
   },
   {
    "duration": 146,
    "start_time": "2022-06-27T18:35:48.992Z"
   },
   {
    "duration": 11,
    "start_time": "2022-06-27T18:35:49.140Z"
   },
   {
    "duration": 26,
    "start_time": "2022-06-27T18:35:49.152Z"
   },
   {
    "duration": 261,
    "start_time": "2022-06-27T18:35:49.180Z"
   },
   {
    "duration": 349,
    "start_time": "2022-06-27T18:35:49.445Z"
   },
   {
    "duration": 6,
    "start_time": "2022-06-27T18:35:49.795Z"
   },
   {
    "duration": 499,
    "start_time": "2022-06-28T15:18:44.273Z"
   },
   {
    "duration": 58,
    "start_time": "2022-06-28T15:18:49.711Z"
   },
   {
    "duration": 1076,
    "start_time": "2022-06-28T15:18:50.508Z"
   },
   {
    "duration": 50,
    "start_time": "2022-06-28T15:18:52.865Z"
   },
   {
    "duration": 1095,
    "start_time": "2022-06-28T15:18:54.140Z"
   },
   {
    "duration": 47,
    "start_time": "2022-06-28T15:18:55.237Z"
   },
   {
    "duration": 7,
    "start_time": "2022-06-28T15:18:56.065Z"
   },
   {
    "duration": 49,
    "start_time": "2022-06-28T15:18:56.737Z"
   },
   {
    "duration": 5,
    "start_time": "2022-06-28T15:18:57.377Z"
   },
   {
    "duration": 13,
    "start_time": "2022-06-28T15:18:58.076Z"
   },
   {
    "duration": 978,
    "start_time": "2022-06-28T15:18:58.690Z"
   },
   {
    "duration": 986,
    "start_time": "2022-06-28T15:18:59.670Z"
   },
   {
    "duration": 965,
    "start_time": "2022-06-28T15:19:00.657Z"
   },
   {
    "duration": 977,
    "start_time": "2022-06-28T15:19:03.571Z"
   },
   {
    "duration": 955,
    "start_time": "2022-06-28T15:19:05.767Z"
   },
   {
    "duration": 965,
    "start_time": "2022-06-28T15:19:07.521Z"
   },
   {
    "duration": 5,
    "start_time": "2022-06-28T15:19:11.001Z"
   },
   {
    "duration": 13,
    "start_time": "2022-06-28T15:19:12.483Z"
   },
   {
    "duration": 7,
    "start_time": "2022-06-28T15:19:14.886Z"
   },
   {
    "duration": 8,
    "start_time": "2022-06-28T15:19:16.149Z"
   },
   {
    "duration": 104,
    "start_time": "2022-06-28T15:19:27.422Z"
   },
   {
    "duration": 10,
    "start_time": "2022-06-28T15:19:36.971Z"
   },
   {
    "duration": 27,
    "start_time": "2022-06-28T15:19:49.797Z"
   },
   {
    "duration": 330,
    "start_time": "2022-06-28T15:20:21.009Z"
   },
   {
    "duration": 6,
    "start_time": "2022-06-28T15:20:24.870Z"
   },
   {
    "duration": 7,
    "start_time": "2022-06-28T15:21:02.819Z"
   },
   {
    "duration": 6,
    "start_time": "2022-06-28T15:21:25.458Z"
   },
   {
    "duration": 298,
    "start_time": "2022-06-28T15:21:29.081Z"
   },
   {
    "duration": 6,
    "start_time": "2022-06-28T15:21:46.920Z"
   },
   {
    "duration": 12,
    "start_time": "2022-06-28T15:21:53.664Z"
   },
   {
    "duration": 10,
    "start_time": "2022-06-28T15:21:55.515Z"
   },
   {
    "duration": 6,
    "start_time": "2022-06-28T15:21:56.163Z"
   },
   {
    "duration": 108,
    "start_time": "2022-06-28T15:21:59.216Z"
   },
   {
    "duration": 9,
    "start_time": "2022-06-28T15:22:01.686Z"
   },
   {
    "duration": 28,
    "start_time": "2022-06-28T15:22:13.479Z"
   },
   {
    "duration": 209,
    "start_time": "2022-06-28T15:22:37.953Z"
   },
   {
    "duration": 6,
    "start_time": "2022-06-28T15:23:03.365Z"
   },
   {
    "duration": 81,
    "start_time": "2022-06-28T15:23:29.373Z"
   },
   {
    "duration": 6,
    "start_time": "2022-06-28T15:23:51.507Z"
   },
   {
    "duration": 263,
    "start_time": "2022-06-28T15:24:09.189Z"
   },
   {
    "duration": 77,
    "start_time": "2022-06-28T15:24:33.306Z"
   },
   {
    "duration": 52,
    "start_time": "2022-06-28T15:24:36.165Z"
   },
   {
    "duration": 1110,
    "start_time": "2022-06-28T15:24:36.565Z"
   },
   {
    "duration": 49,
    "start_time": "2022-06-28T15:24:38.865Z"
   },
   {
    "duration": 1111,
    "start_time": "2022-06-28T15:24:39.701Z"
   },
   {
    "duration": 48,
    "start_time": "2022-06-28T15:24:40.813Z"
   },
   {
    "duration": 6,
    "start_time": "2022-06-28T15:24:41.507Z"
   },
   {
    "duration": 40,
    "start_time": "2022-06-28T15:24:42.070Z"
   },
   {
    "duration": 4,
    "start_time": "2022-06-28T15:24:42.922Z"
   },
   {
    "duration": 11,
    "start_time": "2022-06-28T15:24:45.587Z"
   },
   {
    "duration": 970,
    "start_time": "2022-06-28T15:24:46.651Z"
   },
   {
    "duration": 992,
    "start_time": "2022-06-28T15:24:48.101Z"
   },
   {
    "duration": 986,
    "start_time": "2022-06-28T15:24:49.721Z"
   },
   {
    "duration": 980,
    "start_time": "2022-06-28T15:24:51.274Z"
   },
   {
    "duration": 992,
    "start_time": "2022-06-28T15:24:52.823Z"
   },
   {
    "duration": 1012,
    "start_time": "2022-06-28T15:24:54.370Z"
   },
   {
    "duration": 5,
    "start_time": "2022-06-28T15:24:56.891Z"
   },
   {
    "duration": 12,
    "start_time": "2022-06-28T15:24:58.345Z"
   },
   {
    "duration": 7,
    "start_time": "2022-06-28T15:25:02.709Z"
   },
   {
    "duration": 10,
    "start_time": "2022-06-28T15:25:04.567Z"
   },
   {
    "duration": 96,
    "start_time": "2022-06-28T15:25:09.158Z"
   },
   {
    "duration": 11,
    "start_time": "2022-06-28T15:25:17.064Z"
   },
   {
    "duration": 27,
    "start_time": "2022-06-28T15:25:27.824Z"
   },
   {
    "duration": 212,
    "start_time": "2022-06-28T15:25:39.713Z"
   },
   {
    "duration": 7,
    "start_time": "2022-06-28T15:25:59.496Z"
   },
   {
    "duration": 301,
    "start_time": "2022-06-28T15:26:05.269Z"
   },
   {
    "duration": 22,
    "start_time": "2022-06-28T15:26:44.067Z"
   },
   {
    "duration": 7,
    "start_time": "2022-06-28T15:32:55.613Z"
   },
   {
    "duration": 24,
    "start_time": "2022-06-28T15:33:04.273Z"
   },
   {
    "duration": 22,
    "start_time": "2022-06-28T15:33:19.967Z"
   },
   {
    "duration": 1070,
    "start_time": "2022-06-28T15:36:21.404Z"
   },
   {
    "duration": 6,
    "start_time": "2022-06-28T15:36:49.866Z"
   },
   {
    "duration": 5,
    "start_time": "2022-06-28T15:37:03.734Z"
   },
   {
    "duration": 7,
    "start_time": "2022-06-28T15:37:12.807Z"
   },
   {
    "duration": 6,
    "start_time": "2022-06-28T15:37:26.165Z"
   },
   {
    "duration": 16,
    "start_time": "2022-06-28T15:54:44.374Z"
   },
   {
    "duration": 55,
    "start_time": "2022-06-28T16:00:51.079Z"
   },
   {
    "duration": 255,
    "start_time": "2022-06-28T16:01:02.944Z"
   },
   {
    "duration": 3,
    "start_time": "2022-06-28T16:10:25.523Z"
   },
   {
    "duration": 69,
    "start_time": "2022-06-28T16:10:31.453Z"
   },
   {
    "duration": 13,
    "start_time": "2022-06-28T16:10:41.084Z"
   },
   {
    "duration": 27,
    "start_time": "2022-06-28T16:17:55.585Z"
   },
   {
    "duration": 131,
    "start_time": "2022-06-28T16:18:10.714Z"
   },
   {
    "duration": 81,
    "start_time": "2022-06-28T16:29:48.694Z"
   },
   {
    "duration": 51,
    "start_time": "2022-06-28T16:29:52.284Z"
   },
   {
    "duration": 1079,
    "start_time": "2022-06-28T16:29:52.773Z"
   },
   {
    "duration": 51,
    "start_time": "2022-06-28T16:29:54.574Z"
   },
   {
    "duration": 1060,
    "start_time": "2022-06-28T16:29:55.165Z"
   },
   {
    "duration": 43,
    "start_time": "2022-06-28T16:29:56.226Z"
   },
   {
    "duration": 6,
    "start_time": "2022-06-28T16:29:56.270Z"
   },
   {
    "duration": 40,
    "start_time": "2022-06-28T16:29:58.298Z"
   },
   {
    "duration": 5,
    "start_time": "2022-06-28T16:30:03.120Z"
   },
   {
    "duration": 11,
    "start_time": "2022-06-28T16:30:04.193Z"
   },
   {
    "duration": 998,
    "start_time": "2022-06-28T16:30:07.066Z"
   },
   {
    "duration": 1124,
    "start_time": "2022-06-28T16:30:08.928Z"
   },
   {
    "duration": 1142,
    "start_time": "2022-06-28T16:30:15.382Z"
   },
   {
    "duration": 993,
    "start_time": "2022-06-28T16:30:18.938Z"
   },
   {
    "duration": 1076,
    "start_time": "2022-06-28T16:30:27.623Z"
   },
   {
    "duration": 1010,
    "start_time": "2022-06-28T16:30:29.672Z"
   },
   {
    "duration": 992,
    "start_time": "2022-06-28T16:30:34.894Z"
   },
   {
    "duration": 5,
    "start_time": "2022-06-28T16:30:46.488Z"
   },
   {
    "duration": 9,
    "start_time": "2022-06-28T16:31:00.267Z"
   },
   {
    "duration": 15,
    "start_time": "2022-06-28T16:31:05.504Z"
   },
   {
    "duration": 11,
    "start_time": "2022-06-28T16:31:59.126Z"
   },
   {
    "duration": 16,
    "start_time": "2022-06-28T16:32:28.865Z"
   },
   {
    "duration": 16,
    "start_time": "2022-06-28T16:32:42.879Z"
   },
   {
    "duration": 6,
    "start_time": "2022-06-28T16:33:08.564Z"
   },
   {
    "duration": 9,
    "start_time": "2022-06-28T16:33:10.064Z"
   },
   {
    "duration": 68,
    "start_time": "2022-06-28T16:33:13.964Z"
   },
   {
    "duration": 7,
    "start_time": "2022-06-28T16:33:19.674Z"
   },
   {
    "duration": 25,
    "start_time": "2022-06-28T16:33:28.317Z"
   },
   {
    "duration": 139,
    "start_time": "2022-06-28T16:33:31.065Z"
   },
   {
    "duration": 232,
    "start_time": "2022-06-28T16:33:36.115Z"
   },
   {
    "duration": 6,
    "start_time": "2022-06-28T16:33:38.394Z"
   },
   {
    "duration": 39,
    "start_time": "2022-06-28T16:34:41.574Z"
   },
   {
    "duration": 35,
    "start_time": "2022-06-28T16:36:08.617Z"
   },
   {
    "duration": 36,
    "start_time": "2022-06-28T16:36:47.221Z"
   },
   {
    "duration": 21,
    "start_time": "2022-06-28T16:36:54.002Z"
   },
   {
    "duration": 81,
    "start_time": "2022-06-28T16:37:00.266Z"
   },
   {
    "duration": 53,
    "start_time": "2022-06-28T16:37:04.134Z"
   },
   {
    "duration": 49,
    "start_time": "2022-06-28T16:37:06.452Z"
   },
   {
    "duration": 1078,
    "start_time": "2022-06-28T16:37:07.164Z"
   },
   {
    "duration": 45,
    "start_time": "2022-06-28T16:37:08.243Z"
   },
   {
    "duration": 7,
    "start_time": "2022-06-28T16:37:09.367Z"
   },
   {
    "duration": 40,
    "start_time": "2022-06-28T16:37:12.074Z"
   },
   {
    "duration": 5,
    "start_time": "2022-06-28T16:37:12.961Z"
   },
   {
    "duration": 11,
    "start_time": "2022-06-28T16:37:14.539Z"
   },
   {
    "duration": 1012,
    "start_time": "2022-06-28T16:37:15.517Z"
   },
   {
    "duration": 1077,
    "start_time": "2022-06-28T16:37:19.110Z"
   },
   {
    "duration": 1091,
    "start_time": "2022-06-28T16:37:33.890Z"
   },
   {
    "duration": 1059,
    "start_time": "2022-06-28T16:37:44.303Z"
   },
   {
    "duration": 997,
    "start_time": "2022-06-28T16:37:48.464Z"
   },
   {
    "duration": 978,
    "start_time": "2022-06-28T16:37:50.301Z"
   },
   {
    "duration": 6,
    "start_time": "2022-06-28T16:37:51.564Z"
   },
   {
    "duration": 18,
    "start_time": "2022-06-28T16:37:52.789Z"
   },
   {
    "duration": 74,
    "start_time": "2022-06-28T16:42:28.042Z"
   },
   {
    "duration": 53,
    "start_time": "2022-06-28T16:42:29.591Z"
   },
   {
    "duration": 1112,
    "start_time": "2022-06-28T16:42:29.889Z"
   },
   {
    "duration": 60,
    "start_time": "2022-06-28T16:42:31.003Z"
   },
   {
    "duration": 50,
    "start_time": "2022-06-28T16:42:31.985Z"
   },
   {
    "duration": 1071,
    "start_time": "2022-06-28T16:42:32.277Z"
   },
   {
    "duration": 37,
    "start_time": "2022-06-28T16:42:33.351Z"
   },
   {
    "duration": 5,
    "start_time": "2022-06-28T16:42:33.389Z"
   },
   {
    "duration": 55,
    "start_time": "2022-06-28T16:42:33.395Z"
   },
   {
    "duration": 5,
    "start_time": "2022-06-28T16:42:34.623Z"
   },
   {
    "duration": 11,
    "start_time": "2022-06-28T16:42:35.341Z"
   },
   {
    "duration": 980,
    "start_time": "2022-06-28T16:42:35.950Z"
   },
   {
    "duration": 985,
    "start_time": "2022-06-28T16:42:36.932Z"
   },
   {
    "duration": 972,
    "start_time": "2022-06-28T16:42:37.919Z"
   },
   {
    "duration": 972,
    "start_time": "2022-06-28T16:42:38.892Z"
   },
   {
    "duration": 998,
    "start_time": "2022-06-28T16:42:39.866Z"
   },
   {
    "duration": 1025,
    "start_time": "2022-06-28T16:42:40.866Z"
   },
   {
    "duration": 6,
    "start_time": "2022-06-28T16:42:46.594Z"
   },
   {
    "duration": 18,
    "start_time": "2022-06-28T16:42:47.875Z"
   },
   {
    "duration": 6,
    "start_time": "2022-06-28T16:42:49.865Z"
   },
   {
    "duration": 9,
    "start_time": "2022-06-28T16:42:50.964Z"
   },
   {
    "duration": 91,
    "start_time": "2022-06-28T16:42:52.583Z"
   },
   {
    "duration": 8,
    "start_time": "2022-06-28T16:42:54.141Z"
   },
   {
    "duration": 25,
    "start_time": "2022-06-28T16:42:58.781Z"
   },
   {
    "duration": 208,
    "start_time": "2022-06-28T16:43:00.105Z"
   },
   {
    "duration": 310,
    "start_time": "2022-06-28T16:43:03.750Z"
   },
   {
    "duration": 6,
    "start_time": "2022-06-28T16:43:06.050Z"
   },
   {
    "duration": 8,
    "start_time": "2022-06-28T16:48:21.734Z"
   },
   {
    "duration": 15,
    "start_time": "2022-06-28T16:48:32.087Z"
   },
   {
    "duration": 73,
    "start_time": "2022-06-28T16:52:57.936Z"
   },
   {
    "duration": 54,
    "start_time": "2022-06-28T16:53:00.432Z"
   },
   {
    "duration": 51,
    "start_time": "2022-06-28T16:53:03.047Z"
   },
   {
    "duration": 1114,
    "start_time": "2022-06-28T16:53:03.864Z"
   },
   {
    "duration": 42,
    "start_time": "2022-06-28T16:53:05.633Z"
   },
   {
    "duration": 6,
    "start_time": "2022-06-28T16:53:06.594Z"
   },
   {
    "duration": 41,
    "start_time": "2022-06-28T16:53:07.792Z"
   },
   {
    "duration": 5,
    "start_time": "2022-06-28T16:53:08.766Z"
   },
   {
    "duration": 11,
    "start_time": "2022-06-28T16:53:10.964Z"
   },
   {
    "duration": 1031,
    "start_time": "2022-06-28T16:53:13.615Z"
   },
   {
    "duration": 978,
    "start_time": "2022-06-28T16:53:15.933Z"
   },
   {
    "duration": 1002,
    "start_time": "2022-06-28T16:53:17.888Z"
   },
   {
    "duration": 1001,
    "start_time": "2022-06-28T16:53:19.871Z"
   },
   {
    "duration": 1044,
    "start_time": "2022-06-28T16:53:24.000Z"
   },
   {
    "duration": 1083,
    "start_time": "2022-06-28T16:53:26.578Z"
   },
   {
    "duration": 6,
    "start_time": "2022-06-28T16:53:28.691Z"
   },
   {
    "duration": 12,
    "start_time": "2022-06-28T16:53:35.811Z"
   },
   {
    "duration": 8,
    "start_time": "2022-06-28T16:53:38.302Z"
   },
   {
    "duration": 12,
    "start_time": "2022-06-28T16:53:39.030Z"
   },
   {
    "duration": 100,
    "start_time": "2022-06-28T16:53:40.436Z"
   },
   {
    "duration": 8,
    "start_time": "2022-06-28T16:53:42.374Z"
   },
   {
    "duration": 26,
    "start_time": "2022-06-28T16:53:48.476Z"
   },
   {
    "duration": 205,
    "start_time": "2022-06-28T16:53:50.095Z"
   },
   {
    "duration": 344,
    "start_time": "2022-06-28T16:53:53.200Z"
   },
   {
    "duration": 7,
    "start_time": "2022-06-28T16:53:55.970Z"
   },
   {
    "duration": 56,
    "start_time": "2022-06-28T16:58:04.034Z"
   },
   {
    "duration": 635,
    "start_time": "2022-06-28T16:58:11.942Z"
   },
   {
    "duration": 49,
    "start_time": "2022-06-28T17:09:53.268Z"
   },
   {
    "duration": 320,
    "start_time": "2022-06-28T17:10:23.442Z"
   },
   {
    "duration": 54,
    "start_time": "2022-06-28T17:17:18.699Z"
   },
   {
    "duration": 19,
    "start_time": "2022-06-28T17:17:28.227Z"
   },
   {
    "duration": 154,
    "start_time": "2022-06-28T17:17:36.296Z"
   },
   {
    "duration": 145,
    "start_time": "2022-06-28T17:23:08.015Z"
   },
   {
    "duration": 14,
    "start_time": "2022-06-28T17:23:23.198Z"
   },
   {
    "duration": 4,
    "start_time": "2022-06-28T17:25:01.832Z"
   },
   {
    "duration": 4,
    "start_time": "2022-06-28T17:25:08.229Z"
   },
   {
    "duration": 909,
    "start_time": "2022-06-28T17:25:15.866Z"
   },
   {
    "duration": 4,
    "start_time": "2022-06-28T17:25:16.776Z"
   },
   {
    "duration": 145,
    "start_time": "2022-06-28T17:25:52.492Z"
   },
   {
    "duration": 214,
    "start_time": "2022-06-28T17:26:21.236Z"
   },
   {
    "duration": 163,
    "start_time": "2022-06-28T17:26:45.050Z"
   },
   {
    "duration": 161,
    "start_time": "2022-06-28T17:27:45.780Z"
   },
   {
    "duration": 154,
    "start_time": "2022-06-28T17:27:51.549Z"
   },
   {
    "duration": 163,
    "start_time": "2022-06-28T17:28:26.550Z"
   },
   {
    "duration": 151,
    "start_time": "2022-06-28T17:28:45.801Z"
   },
   {
    "duration": 63,
    "start_time": "2022-06-28T17:31:42.492Z"
   },
   {
    "duration": 185,
    "start_time": "2022-06-28T17:31:53.846Z"
   },
   {
    "duration": 292,
    "start_time": "2022-06-28T17:32:32.074Z"
   },
   {
    "duration": 143,
    "start_time": "2022-06-28T17:33:49.542Z"
   },
   {
    "duration": 6,
    "start_time": "2022-06-28T17:33:59.194Z"
   },
   {
    "duration": 60,
    "start_time": "2022-06-28T17:34:48.837Z"
   },
   {
    "duration": 54,
    "start_time": "2022-06-28T17:41:23.716Z"
   },
   {
    "duration": 201,
    "start_time": "2022-06-28T17:41:28.101Z"
   },
   {
    "duration": 3,
    "start_time": "2022-06-28T17:42:52.393Z"
   },
   {
    "duration": 177,
    "start_time": "2022-06-28T17:43:02.607Z"
   },
   {
    "duration": 176,
    "start_time": "2022-06-28T17:43:15.892Z"
   },
   {
    "duration": 249,
    "start_time": "2022-06-28T17:43:37.565Z"
   },
   {
    "duration": 210,
    "start_time": "2022-06-28T17:43:48.045Z"
   },
   {
    "duration": 238,
    "start_time": "2022-06-28T17:45:13.729Z"
   },
   {
    "duration": 176,
    "start_time": "2022-06-28T17:45:48.503Z"
   },
   {
    "duration": 197,
    "start_time": "2022-06-28T17:46:08.921Z"
   },
   {
    "duration": 228,
    "start_time": "2022-06-28T17:46:23.546Z"
   },
   {
    "duration": 343,
    "start_time": "2022-06-28T17:47:47.391Z"
   },
   {
    "duration": 184,
    "start_time": "2022-06-28T17:48:07.914Z"
   },
   {
    "duration": 210,
    "start_time": "2022-06-28T17:54:26.499Z"
   },
   {
    "duration": 154,
    "start_time": "2022-06-28T17:54:54.483Z"
   },
   {
    "duration": 126,
    "start_time": "2022-06-28T17:55:13.288Z"
   },
   {
    "duration": 120,
    "start_time": "2022-06-28T17:55:31.738Z"
   },
   {
    "duration": 148,
    "start_time": "2022-06-28T17:55:38.887Z"
   },
   {
    "duration": 131,
    "start_time": "2022-06-28T17:55:55.202Z"
   },
   {
    "duration": 231,
    "start_time": "2022-06-28T17:56:04.314Z"
   },
   {
    "duration": 170,
    "start_time": "2022-06-28T17:56:15.098Z"
   },
   {
    "duration": 58,
    "start_time": "2022-06-28T17:57:41.770Z"
   },
   {
    "duration": 308,
    "start_time": "2022-06-28T17:57:54.111Z"
   },
   {
    "duration": 2186,
    "start_time": "2022-06-28T17:59:31.373Z"
   },
   {
    "duration": 2238,
    "start_time": "2022-06-28T18:00:00.016Z"
   },
   {
    "duration": 2100,
    "start_time": "2022-06-28T18:00:55.766Z"
   },
   {
    "duration": 156,
    "start_time": "2022-06-28T18:04:35.204Z"
   },
   {
    "duration": 7,
    "start_time": "2022-06-28T18:05:53.311Z"
   },
   {
    "duration": 9,
    "start_time": "2022-06-28T18:06:24.770Z"
   },
   {
    "duration": 8,
    "start_time": "2022-06-28T18:06:33.210Z"
   },
   {
    "duration": 8,
    "start_time": "2022-06-28T18:06:55.236Z"
   },
   {
    "duration": 8,
    "start_time": "2022-06-28T18:07:02.939Z"
   },
   {
    "duration": 2203,
    "start_time": "2022-06-28T18:07:22.468Z"
   },
   {
    "duration": 2099,
    "start_time": "2022-06-28T18:08:30.300Z"
   },
   {
    "duration": 2136,
    "start_time": "2022-06-28T18:09:36.042Z"
   },
   {
    "duration": 976,
    "start_time": "2022-06-28T18:11:34.270Z"
   },
   {
    "duration": 851,
    "start_time": "2022-06-28T18:12:31.028Z"
   },
   {
    "duration": 456,
    "start_time": "2022-06-28T18:14:57.185Z"
   },
   {
    "duration": 14,
    "start_time": "2022-06-28T18:28:05.444Z"
   },
   {
    "duration": 432,
    "start_time": "2022-06-28T18:28:25.520Z"
   },
   {
    "duration": 578,
    "start_time": "2022-06-28T18:28:39.939Z"
   },
   {
    "duration": 162,
    "start_time": "2022-06-28T18:32:03.178Z"
   },
   {
    "duration": 171,
    "start_time": "2022-06-28T18:32:17.225Z"
   },
   {
    "duration": 221,
    "start_time": "2022-06-28T18:32:33.617Z"
   },
   {
    "duration": 231,
    "start_time": "2022-06-28T18:33:19.851Z"
   },
   {
    "duration": 290,
    "start_time": "2022-06-28T18:33:31.882Z"
   },
   {
    "duration": 13,
    "start_time": "2022-06-28T18:44:32.623Z"
   },
   {
    "duration": 12,
    "start_time": "2022-06-28T18:47:09.203Z"
   },
   {
    "duration": 12,
    "start_time": "2022-06-28T18:51:51.573Z"
   },
   {
    "duration": 12,
    "start_time": "2022-06-28T18:53:32.480Z"
   },
   {
    "duration": 223,
    "start_time": "2022-06-28T18:55:01.653Z"
   },
   {
    "duration": 13,
    "start_time": "2022-06-28T18:55:03.077Z"
   },
   {
    "duration": 14,
    "start_time": "2022-06-28T18:57:09.490Z"
   },
   {
    "duration": 12,
    "start_time": "2022-06-28T18:59:21.080Z"
   },
   {
    "duration": 14,
    "start_time": "2022-06-28T19:00:26.377Z"
   },
   {
    "duration": 87,
    "start_time": "2022-06-28T19:00:45.204Z"
   },
   {
    "duration": 52,
    "start_time": "2022-06-28T19:00:47.081Z"
   },
   {
    "duration": 1049,
    "start_time": "2022-06-28T19:00:47.386Z"
   },
   {
    "duration": 52,
    "start_time": "2022-06-28T19:00:48.437Z"
   },
   {
    "duration": 6,
    "start_time": "2022-06-28T19:00:48.490Z"
   },
   {
    "duration": 51,
    "start_time": "2022-06-28T19:00:49.412Z"
   },
   {
    "duration": 1080,
    "start_time": "2022-06-28T19:00:49.684Z"
   },
   {
    "duration": 38,
    "start_time": "2022-06-28T19:00:50.766Z"
   },
   {
    "duration": 5,
    "start_time": "2022-06-28T19:00:50.805Z"
   },
   {
    "duration": 43,
    "start_time": "2022-06-28T19:00:51.678Z"
   },
   {
    "duration": 5,
    "start_time": "2022-06-28T19:00:51.991Z"
   },
   {
    "duration": 10,
    "start_time": "2022-06-28T19:00:52.310Z"
   },
   {
    "duration": 974,
    "start_time": "2022-06-28T19:00:52.626Z"
   },
   {
    "duration": 1025,
    "start_time": "2022-06-28T19:00:53.602Z"
   },
   {
    "duration": 981,
    "start_time": "2022-06-28T19:00:54.628Z"
   },
   {
    "duration": 979,
    "start_time": "2022-06-28T19:00:55.611Z"
   },
   {
    "duration": 980,
    "start_time": "2022-06-28T19:00:57.565Z"
   },
   {
    "duration": 1010,
    "start_time": "2022-06-28T19:00:58.547Z"
   },
   {
    "duration": 5,
    "start_time": "2022-06-28T19:00:59.559Z"
   },
   {
    "duration": 12,
    "start_time": "2022-06-28T19:00:59.878Z"
   },
   {
    "duration": 6,
    "start_time": "2022-06-28T19:01:01.444Z"
   },
   {
    "duration": 10,
    "start_time": "2022-06-28T19:01:05.892Z"
   },
   {
    "duration": 100,
    "start_time": "2022-06-28T19:01:07.552Z"
   },
   {
    "duration": 8,
    "start_time": "2022-06-28T19:01:09.541Z"
   },
   {
    "duration": 23,
    "start_time": "2022-06-28T19:01:11.529Z"
   },
   {
    "duration": 235,
    "start_time": "2022-06-28T19:01:12.582Z"
   },
   {
    "duration": 297,
    "start_time": "2022-06-28T19:01:13.750Z"
   },
   {
    "duration": 7,
    "start_time": "2022-06-28T19:01:15.781Z"
   },
   {
    "duration": 461,
    "start_time": "2022-06-28T19:01:17.838Z"
   },
   {
    "duration": 227,
    "start_time": "2022-06-28T19:01:19.193Z"
   },
   {
    "duration": 13,
    "start_time": "2022-06-28T19:01:20.530Z"
   },
   {
    "duration": 533,
    "start_time": "2022-06-29T16:09:47.652Z"
   },
   {
    "duration": 91,
    "start_time": "2022-06-29T16:09:52.493Z"
   },
   {
    "duration": 76,
    "start_time": "2022-06-29T16:09:55.187Z"
   },
   {
    "duration": 1278,
    "start_time": "2022-06-29T16:09:55.862Z"
   },
   {
    "duration": 67,
    "start_time": "2022-06-29T16:09:57.142Z"
   },
   {
    "duration": 7,
    "start_time": "2022-06-29T16:09:58.483Z"
   },
   {
    "duration": 52,
    "start_time": "2022-06-29T16:10:01.136Z"
   },
   {
    "duration": 6,
    "start_time": "2022-06-29T16:10:02.022Z"
   },
   {
    "duration": 20,
    "start_time": "2022-06-29T16:10:02.866Z"
   },
   {
    "duration": 1256,
    "start_time": "2022-06-29T16:10:03.883Z"
   },
   {
    "duration": 1283,
    "start_time": "2022-06-29T16:10:05.141Z"
   },
   {
    "duration": 1239,
    "start_time": "2022-06-29T16:10:07.079Z"
   },
   {
    "duration": 1228,
    "start_time": "2022-06-29T16:10:08.320Z"
   },
   {
    "duration": 1202,
    "start_time": "2022-06-29T16:10:09.550Z"
   },
   {
    "duration": 1261,
    "start_time": "2022-06-29T16:10:10.755Z"
   },
   {
    "duration": 10,
    "start_time": "2022-06-29T16:10:12.018Z"
   },
   {
    "duration": 19,
    "start_time": "2022-06-29T16:10:12.752Z"
   },
   {
    "duration": 8,
    "start_time": "2022-06-29T16:10:14.637Z"
   },
   {
    "duration": 11,
    "start_time": "2022-06-29T16:10:25.972Z"
   },
   {
    "duration": 161,
    "start_time": "2022-06-29T16:10:31.446Z"
   },
   {
    "duration": 13,
    "start_time": "2022-06-29T16:11:11.805Z"
   },
   {
    "duration": 13,
    "start_time": "2022-06-29T16:11:36.152Z"
   },
   {
    "duration": 43,
    "start_time": "2022-06-29T16:12:24.346Z"
   },
   {
    "duration": 274,
    "start_time": "2022-06-29T16:12:25.538Z"
   },
   {
    "duration": 344,
    "start_time": "2022-06-29T16:12:27.543Z"
   },
   {
    "duration": 8,
    "start_time": "2022-06-29T16:12:30.093Z"
   },
   {
    "duration": 59,
    "start_time": "2022-06-29T16:30:44.081Z"
   },
   {
    "duration": 511,
    "start_time": "2022-06-29T16:30:58.570Z"
   },
   {
    "duration": 213,
    "start_time": "2022-06-29T16:31:20.408Z"
   },
   {
    "duration": 3260,
    "start_time": "2022-06-29T16:31:43.133Z"
   },
   {
    "duration": 2623,
    "start_time": "2022-06-29T16:33:44.681Z"
   },
   {
    "duration": 2532,
    "start_time": "2022-06-29T16:34:30.478Z"
   },
   {
    "duration": 2624,
    "start_time": "2022-06-29T16:34:37.141Z"
   },
   {
    "duration": 2521,
    "start_time": "2022-06-29T16:35:16.674Z"
   },
   {
    "duration": 191,
    "start_time": "2022-06-29T16:38:14.727Z"
   },
   {
    "duration": 2778,
    "start_time": "2022-06-29T16:40:28.160Z"
   },
   {
    "duration": 2865,
    "start_time": "2022-06-29T16:42:40.721Z"
   },
   {
    "duration": 2750,
    "start_time": "2022-06-29T16:44:38.657Z"
   },
   {
    "duration": 2681,
    "start_time": "2022-06-29T16:45:14.887Z"
   },
   {
    "duration": 2506,
    "start_time": "2022-06-29T16:48:07.969Z"
   },
   {
    "duration": 55,
    "start_time": "2022-06-29T16:50:35.975Z"
   },
   {
    "duration": 72,
    "start_time": "2022-06-29T16:52:01.750Z"
   },
   {
    "duration": 137,
    "start_time": "2022-06-29T16:52:29.910Z"
   },
   {
    "duration": 87,
    "start_time": "2022-06-29T16:52:52.584Z"
   },
   {
    "duration": 6,
    "start_time": "2022-06-29T16:54:07.896Z"
   },
   {
    "duration": 13,
    "start_time": "2022-06-29T16:54:31.866Z"
   },
   {
    "duration": 1694,
    "start_time": "2022-06-29T16:54:45.985Z"
   },
   {
    "duration": 1953,
    "start_time": "2022-06-29T16:55:53.212Z"
   },
   {
    "duration": 2096,
    "start_time": "2022-06-29T16:56:36.392Z"
   },
   {
    "duration": 1768,
    "start_time": "2022-06-29T16:57:03.786Z"
   },
   {
    "duration": 1702,
    "start_time": "2022-06-29T16:58:18.049Z"
   },
   {
    "duration": 1893,
    "start_time": "2022-06-29T16:58:51.897Z"
   },
   {
    "duration": 167,
    "start_time": "2022-06-29T17:02:15.173Z"
   },
   {
    "duration": 2934,
    "start_time": "2022-06-29T17:06:05.298Z"
   },
   {
    "duration": 2458,
    "start_time": "2022-06-29T17:06:51.679Z"
   },
   {
    "duration": 13,
    "start_time": "2022-06-29T17:08:56.556Z"
   },
   {
    "duration": 232,
    "start_time": "2022-06-29T17:09:01.644Z"
   },
   {
    "duration": 14,
    "start_time": "2022-06-29T17:09:06.098Z"
   },
   {
    "duration": 51,
    "start_time": "2022-06-29T17:09:13.488Z"
   },
   {
    "duration": 460,
    "start_time": "2022-06-29T17:09:14.562Z"
   },
   {
    "duration": 543,
    "start_time": "2022-06-29T17:09:16.320Z"
   },
   {
    "duration": 11,
    "start_time": "2022-06-29T17:09:19.163Z"
   },
   {
    "duration": 163,
    "start_time": "2022-06-29T17:09:33.089Z"
   },
   {
    "duration": 117,
    "start_time": "2022-06-29T17:09:34.636Z"
   },
   {
    "duration": 2199,
    "start_time": "2022-06-29T17:09:35.068Z"
   },
   {
    "duration": 81,
    "start_time": "2022-06-29T17:09:37.269Z"
   },
   {
    "duration": 117,
    "start_time": "2022-06-29T17:09:37.352Z"
   },
   {
    "duration": 2170,
    "start_time": "2022-06-29T17:09:37.477Z"
   },
   {
    "duration": 89,
    "start_time": "2022-06-29T17:09:39.652Z"
   },
   {
    "duration": 17,
    "start_time": "2022-06-29T17:09:39.746Z"
   },
   {
    "duration": 91,
    "start_time": "2022-06-29T17:09:39.766Z"
   },
   {
    "duration": 6,
    "start_time": "2022-06-29T17:09:39.859Z"
   },
   {
    "duration": 24,
    "start_time": "2022-06-29T17:09:41.434Z"
   },
   {
    "duration": 2198,
    "start_time": "2022-06-29T17:09:41.468Z"
   },
   {
    "duration": 1491,
    "start_time": "2022-06-29T17:09:43.668Z"
   },
   {
    "duration": 1816,
    "start_time": "2022-06-29T17:09:45.708Z"
   },
   {
    "duration": 1796,
    "start_time": "2022-06-29T17:09:47.527Z"
   },
   {
    "duration": 1649,
    "start_time": "2022-06-29T17:09:49.326Z"
   },
   {
    "duration": 1808,
    "start_time": "2022-06-29T17:09:50.977Z"
   },
   {
    "duration": 11,
    "start_time": "2022-06-29T17:09:53.065Z"
   },
   {
    "duration": 19,
    "start_time": "2022-06-29T17:09:54.017Z"
   },
   {
    "duration": 13,
    "start_time": "2022-06-29T17:09:56.814Z"
   },
   {
    "duration": 21,
    "start_time": "2022-06-29T17:09:58.772Z"
   },
   {
    "duration": 258,
    "start_time": "2022-06-29T17:10:01.884Z"
   },
   {
    "duration": 15,
    "start_time": "2022-06-29T17:10:05.279Z"
   },
   {
    "duration": 68,
    "start_time": "2022-06-29T17:10:08.228Z"
   },
   {
    "duration": 507,
    "start_time": "2022-06-29T17:10:10.145Z"
   },
   {
    "duration": 602,
    "start_time": "2022-06-29T17:10:12.205Z"
   },
   {
    "duration": 16,
    "start_time": "2022-06-29T17:10:14.479Z"
   },
   {
    "duration": 2747,
    "start_time": "2022-06-29T17:10:21.420Z"
   },
   {
    "duration": 2605,
    "start_time": "2022-06-29T17:10:42.709Z"
   },
   {
    "duration": 1891,
    "start_time": "2022-06-29T17:12:36.100Z"
   },
   {
    "duration": 2187,
    "start_time": "2022-06-29T17:13:53.533Z"
   },
   {
    "duration": 2282,
    "start_time": "2022-06-29T17:14:58.755Z"
   },
   {
    "duration": 2091,
    "start_time": "2022-06-29T17:15:24.048Z"
   },
   {
    "duration": 1783,
    "start_time": "2022-06-29T17:16:49.972Z"
   },
   {
    "duration": 2085,
    "start_time": "2022-06-29T17:17:02.246Z"
   },
   {
    "duration": 2381,
    "start_time": "2022-06-29T17:18:14.861Z"
   },
   {
    "duration": 2807,
    "start_time": "2022-06-29T17:23:56.860Z"
   },
   {
    "duration": 3070,
    "start_time": "2022-06-29T17:24:29.760Z"
   },
   {
    "duration": 3021,
    "start_time": "2022-06-29T17:30:42.046Z"
   },
   {
    "duration": 3054,
    "start_time": "2022-06-29T17:33:22.456Z"
   },
   {
    "duration": 365,
    "start_time": "2022-06-29T17:34:53.168Z"
   },
   {
    "duration": 312,
    "start_time": "2022-06-29T17:35:02.668Z"
   },
   {
    "duration": 368,
    "start_time": "2022-06-29T17:35:04.155Z"
   },
   {
    "duration": 8,
    "start_time": "2022-06-29T17:35:05.553Z"
   },
   {
    "duration": 128,
    "start_time": "2022-06-29T17:35:11.762Z"
   },
   {
    "duration": 74,
    "start_time": "2022-06-29T17:35:12.477Z"
   },
   {
    "duration": 1500,
    "start_time": "2022-06-29T17:35:12.678Z"
   },
   {
    "duration": 68,
    "start_time": "2022-06-29T17:35:14.180Z"
   },
   {
    "duration": 9,
    "start_time": "2022-06-29T17:35:14.250Z"
   },
   {
    "duration": 76,
    "start_time": "2022-06-29T17:35:14.261Z"
   },
   {
    "duration": 63,
    "start_time": "2022-06-29T17:35:14.653Z"
   },
   {
    "duration": 1518,
    "start_time": "2022-06-29T17:35:14.867Z"
   },
   {
    "duration": 79,
    "start_time": "2022-06-29T17:35:16.392Z"
   },
   {
    "duration": 7,
    "start_time": "2022-06-29T17:35:16.473Z"
   },
   {
    "duration": 77,
    "start_time": "2022-06-29T17:35:16.483Z"
   },
   {
    "duration": 8,
    "start_time": "2022-06-29T17:35:16.561Z"
   },
   {
    "duration": 17,
    "start_time": "2022-06-29T17:35:16.572Z"
   },
   {
    "duration": 1404,
    "start_time": "2022-06-29T17:35:16.591Z"
   },
   {
    "duration": 1469,
    "start_time": "2022-06-29T17:35:17.997Z"
   },
   {
    "duration": 1373,
    "start_time": "2022-06-29T17:35:19.468Z"
   },
   {
    "duration": 1457,
    "start_time": "2022-06-29T17:35:20.845Z"
   },
   {
    "duration": 1392,
    "start_time": "2022-06-29T17:35:22.304Z"
   },
   {
    "duration": 1384,
    "start_time": "2022-06-29T17:35:23.698Z"
   },
   {
    "duration": 6,
    "start_time": "2022-06-29T17:35:25.084Z"
   },
   {
    "duration": 48,
    "start_time": "2022-06-29T17:35:25.091Z"
   },
   {
    "duration": 10,
    "start_time": "2022-06-29T17:35:25.146Z"
   },
   {
    "duration": 18,
    "start_time": "2022-06-29T17:35:25.158Z"
   },
   {
    "duration": 156,
    "start_time": "2022-06-29T17:35:25.179Z"
   },
   {
    "duration": 13,
    "start_time": "2022-06-29T17:35:25.342Z"
   },
   {
    "duration": 32,
    "start_time": "2022-06-29T17:35:31.893Z"
   },
   {
    "duration": 300,
    "start_time": "2022-06-29T17:35:33.601Z"
   },
   {
    "duration": 432,
    "start_time": "2022-06-29T17:35:37.273Z"
   },
   {
    "duration": 9,
    "start_time": "2022-06-29T17:35:39.350Z"
   },
   {
    "duration": 3306,
    "start_time": "2022-06-29T17:35:49.742Z"
   },
   {
    "duration": 336,
    "start_time": "2022-06-29T17:37:22.792Z"
   },
   {
    "duration": 3525,
    "start_time": "2022-06-29T17:37:31.460Z"
   },
   {
    "duration": 132,
    "start_time": "2022-06-29T17:47:18.460Z"
   },
   {
    "duration": 175,
    "start_time": "2022-06-29T17:47:59.646Z"
   },
   {
    "duration": 134,
    "start_time": "2022-06-29T17:48:08.260Z"
   },
   {
    "duration": 129,
    "start_time": "2022-06-29T17:49:02.084Z"
   },
   {
    "duration": 138,
    "start_time": "2022-06-29T17:49:07.272Z"
   },
   {
    "duration": 571,
    "start_time": "2022-06-29T17:54:15.977Z"
   },
   {
    "duration": 565,
    "start_time": "2022-06-29T17:56:04.938Z"
   },
   {
    "duration": 875,
    "start_time": "2022-06-29T17:58:43.282Z"
   },
   {
    "duration": 1403,
    "start_time": "2022-06-29T18:00:15.408Z"
   },
   {
    "duration": 1047,
    "start_time": "2022-06-29T18:01:01.758Z"
   },
   {
    "duration": 96,
    "start_time": "2022-06-29T18:03:39.784Z"
   },
   {
    "duration": 89,
    "start_time": "2022-06-29T18:04:09.108Z"
   },
   {
    "duration": 1324,
    "start_time": "2022-06-29T18:04:19.430Z"
   },
   {
    "duration": 1006,
    "start_time": "2022-06-29T18:04:42.009Z"
   },
   {
    "duration": 41,
    "start_time": "2022-06-29T18:16:15.189Z"
   },
   {
    "duration": 28,
    "start_time": "2022-06-29T18:17:46.406Z"
   },
   {
    "duration": 28,
    "start_time": "2022-06-29T18:18:15.116Z"
   },
   {
    "duration": 26,
    "start_time": "2022-06-29T18:18:48.141Z"
   },
   {
    "duration": 1715,
    "start_time": "2022-06-29T18:24:33.724Z"
   },
   {
    "duration": 25,
    "start_time": "2022-06-29T18:25:15.100Z"
   },
   {
    "duration": 62,
    "start_time": "2022-06-29T18:26:51.392Z"
   },
   {
    "duration": 97,
    "start_time": "2022-07-01T15:22:18.996Z"
   },
   {
    "duration": 1371,
    "start_time": "2022-07-01T15:22:19.103Z"
   },
   {
    "duration": 44,
    "start_time": "2022-07-01T15:22:20.532Z"
   },
   {
    "duration": 7,
    "start_time": "2022-07-01T15:22:20.586Z"
   },
   {
    "duration": 78,
    "start_time": "2022-07-01T15:22:20.640Z"
   },
   {
    "duration": 13,
    "start_time": "2022-07-01T15:22:22.013Z"
   },
   {
    "duration": 19,
    "start_time": "2022-07-01T15:22:22.118Z"
   },
   {
    "duration": 1223,
    "start_time": "2022-07-01T15:22:22.142Z"
   },
   {
    "duration": 1214,
    "start_time": "2022-07-01T15:22:23.367Z"
   },
   {
    "duration": 1207,
    "start_time": "2022-07-01T15:22:24.583Z"
   },
   {
    "duration": 1183,
    "start_time": "2022-07-01T15:22:25.791Z"
   },
   {
    "duration": 1183,
    "start_time": "2022-07-01T15:22:26.976Z"
   },
   {
    "duration": 1193,
    "start_time": "2022-07-01T15:22:28.160Z"
   },
   {
    "duration": 6,
    "start_time": "2022-07-01T15:22:29.354Z"
   },
   {
    "duration": 14,
    "start_time": "2022-07-01T15:22:29.362Z"
   },
   {
    "duration": 8,
    "start_time": "2022-07-01T15:22:29.377Z"
   },
   {
    "duration": 45,
    "start_time": "2022-07-01T15:22:29.387Z"
   },
   {
    "duration": 0,
    "start_time": "2022-07-01T15:22:29.434Z"
   },
   {
    "duration": 0,
    "start_time": "2022-07-01T15:22:29.436Z"
   },
   {
    "duration": 0,
    "start_time": "2022-07-01T15:22:29.437Z"
   },
   {
    "duration": 0,
    "start_time": "2022-07-01T15:22:29.439Z"
   },
   {
    "duration": 0,
    "start_time": "2022-07-01T15:22:29.440Z"
   },
   {
    "duration": 0,
    "start_time": "2022-07-01T15:22:29.442Z"
   },
   {
    "duration": 0,
    "start_time": "2022-07-01T15:22:29.443Z"
   },
   {
    "duration": 0,
    "start_time": "2022-07-01T15:22:29.444Z"
   },
   {
    "duration": 0,
    "start_time": "2022-07-01T15:22:29.444Z"
   },
   {
    "duration": 0,
    "start_time": "2022-07-01T15:22:29.445Z"
   },
   {
    "duration": 0,
    "start_time": "2022-07-01T15:22:29.446Z"
   },
   {
    "duration": 0,
    "start_time": "2022-07-01T15:22:29.452Z"
   },
   {
    "duration": 95,
    "start_time": "2022-07-01T15:22:38.901Z"
   },
   {
    "duration": 57,
    "start_time": "2022-07-01T15:22:56.243Z"
   },
   {
    "duration": 1262,
    "start_time": "2022-07-01T15:22:56.932Z"
   },
   {
    "duration": 62,
    "start_time": "2022-07-01T15:22:59.503Z"
   },
   {
    "duration": 1338,
    "start_time": "2022-07-01T15:23:01.060Z"
   },
   {
    "duration": 51,
    "start_time": "2022-07-01T15:23:02.400Z"
   },
   {
    "duration": 7,
    "start_time": "2022-07-01T15:23:04.221Z"
   },
   {
    "duration": 50,
    "start_time": "2022-07-01T15:23:04.910Z"
   },
   {
    "duration": 5,
    "start_time": "2022-07-01T15:23:05.477Z"
   },
   {
    "duration": 12,
    "start_time": "2022-07-01T15:23:05.990Z"
   },
   {
    "duration": 1222,
    "start_time": "2022-07-01T15:23:06.547Z"
   },
   {
    "duration": 1161,
    "start_time": "2022-07-01T15:23:07.771Z"
   },
   {
    "duration": 1152,
    "start_time": "2022-07-01T15:23:08.934Z"
   },
   {
    "duration": 1160,
    "start_time": "2022-07-01T15:23:10.088Z"
   },
   {
    "duration": 1224,
    "start_time": "2022-07-01T15:23:12.985Z"
   },
   {
    "duration": 1263,
    "start_time": "2022-07-01T15:23:14.211Z"
   },
   {
    "duration": 5,
    "start_time": "2022-07-01T15:23:15.475Z"
   },
   {
    "duration": 14,
    "start_time": "2022-07-01T15:23:16.188Z"
   },
   {
    "duration": 7,
    "start_time": "2022-07-01T15:23:17.993Z"
   },
   {
    "duration": 11,
    "start_time": "2022-07-01T15:23:28.734Z"
   },
   {
    "duration": 13,
    "start_time": "2022-07-01T15:23:29.513Z"
   },
   {
    "duration": 122,
    "start_time": "2022-07-01T15:23:34.938Z"
   },
   {
    "duration": 10,
    "start_time": "2022-07-01T15:23:37.017Z"
   },
   {
    "duration": 31,
    "start_time": "2022-07-01T15:23:38.634Z"
   },
   {
    "duration": 203,
    "start_time": "2022-07-01T15:23:39.582Z"
   },
   {
    "duration": 321,
    "start_time": "2022-07-01T15:23:40.744Z"
   },
   {
    "duration": 9,
    "start_time": "2022-07-01T15:23:41.588Z"
   },
   {
    "duration": 2791,
    "start_time": "2022-07-01T15:23:43.541Z"
   },
   {
    "duration": 2397,
    "start_time": "2022-07-01T15:24:53.437Z"
   },
   {
    "duration": 62,
    "start_time": "2022-07-01T15:35:51.482Z"
   },
   {
    "duration": 0,
    "start_time": "2022-07-01T15:35:51.553Z"
   },
   {
    "duration": 97,
    "start_time": "2022-07-01T15:36:05.363Z"
   },
   {
    "duration": 80,
    "start_time": "2022-07-01T15:36:10.970Z"
   },
   {
    "duration": 66,
    "start_time": "2022-07-01T15:36:13.599Z"
   },
   {
    "duration": 1334,
    "start_time": "2022-07-01T15:36:14.763Z"
   },
   {
    "duration": 1250,
    "start_time": "2022-07-01T15:39:38.725Z"
   },
   {
    "duration": 21,
    "start_time": "2022-07-01T15:39:50.802Z"
   },
   {
    "duration": 58,
    "start_time": "2022-07-01T15:41:30.178Z"
   },
   {
    "duration": 13,
    "start_time": "2022-07-01T15:41:48.650Z"
   },
   {
    "duration": 19,
    "start_time": "2022-07-01T15:42:12.441Z"
   },
   {
    "duration": 16,
    "start_time": "2022-07-01T15:42:23.725Z"
   },
   {
    "duration": 1297,
    "start_time": "2022-07-01T15:42:31.646Z"
   },
   {
    "duration": 50,
    "start_time": "2022-07-01T15:42:32.945Z"
   },
   {
    "duration": 7,
    "start_time": "2022-07-01T15:42:32.996Z"
   },
   {
    "duration": 46,
    "start_time": "2022-07-01T15:42:33.660Z"
   },
   {
    "duration": 5,
    "start_time": "2022-07-01T15:42:34.135Z"
   },
   {
    "duration": 13,
    "start_time": "2022-07-01T15:42:34.486Z"
   },
   {
    "duration": 1174,
    "start_time": "2022-07-01T15:42:34.958Z"
   },
   {
    "duration": 1140,
    "start_time": "2022-07-01T15:42:36.134Z"
   },
   {
    "duration": 1190,
    "start_time": "2022-07-01T15:42:37.275Z"
   },
   {
    "duration": 1140,
    "start_time": "2022-07-01T15:42:38.467Z"
   },
   {
    "duration": 1165,
    "start_time": "2022-07-01T15:42:39.610Z"
   },
   {
    "duration": 1227,
    "start_time": "2022-07-01T15:42:40.776Z"
   },
   {
    "duration": 5,
    "start_time": "2022-07-01T15:42:42.005Z"
   },
   {
    "duration": 25,
    "start_time": "2022-07-01T15:42:42.012Z"
   },
   {
    "duration": 7,
    "start_time": "2022-07-01T15:42:42.039Z"
   },
   {
    "duration": 17,
    "start_time": "2022-07-01T15:42:42.048Z"
   },
   {
    "duration": 136,
    "start_time": "2022-07-01T15:42:42.067Z"
   },
   {
    "duration": 10,
    "start_time": "2022-07-01T15:42:42.728Z"
   },
   {
    "duration": 27,
    "start_time": "2022-07-01T15:42:43.898Z"
   },
   {
    "duration": 199,
    "start_time": "2022-07-01T15:42:44.176Z"
   },
   {
    "duration": 330,
    "start_time": "2022-07-01T15:42:44.462Z"
   },
   {
    "duration": 8,
    "start_time": "2022-07-01T15:42:44.793Z"
   },
   {
    "duration": 49,
    "start_time": "2022-07-01T15:42:45.481Z"
   },
   {
    "duration": 273,
    "start_time": "2022-07-01T15:42:45.788Z"
   },
   {
    "duration": 1315,
    "start_time": "2022-07-01T15:42:46.063Z"
   },
   {
    "duration": 33,
    "start_time": "2022-07-01T15:42:47.380Z"
   },
   {
    "duration": 42,
    "start_time": "2022-07-01T15:42:47.427Z"
   },
   {
    "duration": 31,
    "start_time": "2022-07-01T15:43:15.667Z"
   },
   {
    "duration": 44,
    "start_time": "2022-07-01T15:43:39.925Z"
   },
   {
    "duration": 39,
    "start_time": "2022-07-01T15:46:06.734Z"
   },
   {
    "duration": 13,
    "start_time": "2022-07-01T15:46:15.236Z"
   },
   {
    "duration": 10,
    "start_time": "2022-07-01T15:46:23.230Z"
   },
   {
    "duration": 85,
    "start_time": "2022-07-01T15:46:35.335Z"
   },
   {
    "duration": 9,
    "start_time": "2022-07-01T15:46:46.950Z"
   },
   {
    "duration": 94,
    "start_time": "2022-07-01T15:47:10.479Z"
   },
   {
    "duration": 58,
    "start_time": "2022-07-01T15:47:12.520Z"
   },
   {
    "duration": 55,
    "start_time": "2022-07-01T15:47:14.952Z"
   },
   {
    "duration": 1324,
    "start_time": "2022-07-01T15:47:15.978Z"
   },
   {
    "duration": 51,
    "start_time": "2022-07-01T15:47:17.304Z"
   },
   {
    "duration": 6,
    "start_time": "2022-07-01T15:47:17.357Z"
   },
   {
    "duration": 48,
    "start_time": "2022-07-01T15:47:17.688Z"
   },
   {
    "duration": 6,
    "start_time": "2022-07-01T15:47:18.282Z"
   },
   {
    "duration": 17,
    "start_time": "2022-07-01T15:47:18.820Z"
   },
   {
    "duration": 1225,
    "start_time": "2022-07-01T15:47:19.294Z"
   },
   {
    "duration": 1295,
    "start_time": "2022-07-01T15:47:20.526Z"
   },
   {
    "duration": 1280,
    "start_time": "2022-07-01T15:47:21.822Z"
   },
   {
    "duration": 1245,
    "start_time": "2022-07-01T15:47:24.983Z"
   },
   {
    "duration": 1237,
    "start_time": "2022-07-01T15:47:26.230Z"
   },
   {
    "duration": 1225,
    "start_time": "2022-07-01T15:47:27.852Z"
   },
   {
    "duration": 7,
    "start_time": "2022-07-01T15:47:29.464Z"
   },
   {
    "duration": 15,
    "start_time": "2022-07-01T15:47:30.869Z"
   },
   {
    "duration": 7,
    "start_time": "2022-07-01T15:47:33.463Z"
   },
   {
    "duration": 12,
    "start_time": "2022-07-01T15:47:40.095Z"
   },
   {
    "duration": 127,
    "start_time": "2022-07-01T15:47:42.551Z"
   },
   {
    "duration": 10,
    "start_time": "2022-07-01T15:47:44.937Z"
   },
   {
    "duration": 28,
    "start_time": "2022-07-01T15:47:47.833Z"
   },
   {
    "duration": 205,
    "start_time": "2022-07-01T15:47:48.927Z"
   },
   {
    "duration": 332,
    "start_time": "2022-07-01T15:47:50.393Z"
   },
   {
    "duration": 9,
    "start_time": "2022-07-01T15:47:52.584Z"
   },
   {
    "duration": 9,
    "start_time": "2022-07-01T15:48:10.233Z"
   },
   {
    "duration": 107,
    "start_time": "2022-07-01T15:48:19.052Z"
   },
   {
    "duration": 2421,
    "start_time": "2022-07-01T15:48:29.048Z"
   },
   {
    "duration": 2499,
    "start_time": "2022-07-01T15:49:39.854Z"
   },
   {
    "duration": 2836,
    "start_time": "2022-07-01T15:49:59.163Z"
   },
   {
    "duration": 858,
    "start_time": "2022-07-01T15:54:41.300Z"
   },
   {
    "duration": 792,
    "start_time": "2022-07-01T15:54:56.151Z"
   },
   {
    "duration": 1226,
    "start_time": "2022-07-01T15:55:48.889Z"
   },
   {
    "duration": 1205,
    "start_time": "2022-07-01T15:56:58.694Z"
   },
   {
    "duration": 91,
    "start_time": "2022-07-01T15:58:16.808Z"
   },
   {
    "duration": 60,
    "start_time": "2022-07-01T15:58:18.393Z"
   },
   {
    "duration": 58,
    "start_time": "2022-07-01T15:58:20.717Z"
   },
   {
    "duration": 1366,
    "start_time": "2022-07-01T15:58:21.419Z"
   },
   {
    "duration": 61,
    "start_time": "2022-07-01T15:58:22.787Z"
   },
   {
    "duration": 7,
    "start_time": "2022-07-01T15:58:22.850Z"
   },
   {
    "duration": 46,
    "start_time": "2022-07-01T15:58:22.859Z"
   },
   {
    "duration": 7,
    "start_time": "2022-07-01T15:58:22.927Z"
   },
   {
    "duration": 14,
    "start_time": "2022-07-01T15:58:23.014Z"
   },
   {
    "duration": 1150,
    "start_time": "2022-07-01T15:58:23.282Z"
   },
   {
    "duration": 1163,
    "start_time": "2022-07-01T15:58:24.434Z"
   },
   {
    "duration": 1220,
    "start_time": "2022-07-01T15:58:25.599Z"
   },
   {
    "duration": 1130,
    "start_time": "2022-07-01T15:58:26.826Z"
   },
   {
    "duration": 1197,
    "start_time": "2022-07-01T15:58:27.958Z"
   },
   {
    "duration": 1236,
    "start_time": "2022-07-01T15:58:29.156Z"
   },
   {
    "duration": 5,
    "start_time": "2022-07-01T15:58:30.394Z"
   },
   {
    "duration": 31,
    "start_time": "2022-07-01T15:58:30.401Z"
   },
   {
    "duration": 11,
    "start_time": "2022-07-01T15:58:30.435Z"
   },
   {
    "duration": 60,
    "start_time": "2022-07-01T15:58:30.447Z"
   },
   {
    "duration": 118,
    "start_time": "2022-07-01T15:58:32.840Z"
   },
   {
    "duration": 10,
    "start_time": "2022-07-01T15:58:34.446Z"
   },
   {
    "duration": 31,
    "start_time": "2022-07-01T15:58:40.397Z"
   },
   {
    "duration": 206,
    "start_time": "2022-07-01T15:58:41.788Z"
   },
   {
    "duration": 353,
    "start_time": "2022-07-01T15:58:43.315Z"
   },
   {
    "duration": 9,
    "start_time": "2022-07-01T15:58:49.378Z"
   },
   {
    "duration": 2586,
    "start_time": "2022-07-01T15:58:52.583Z"
   },
   {
    "duration": 277,
    "start_time": "2022-07-01T15:58:59.349Z"
   },
   {
    "duration": 1058,
    "start_time": "2022-07-01T15:59:18.684Z"
   },
   {
    "duration": 1053,
    "start_time": "2022-07-01T16:00:25.184Z"
   },
   {
    "duration": 251,
    "start_time": "2022-07-01T16:11:19.280Z"
   },
   {
    "duration": 1297,
    "start_time": "2022-07-01T16:26:32.823Z"
   },
   {
    "duration": 53,
    "start_time": "2022-07-01T16:41:28.670Z"
   },
   {
    "duration": 11,
    "start_time": "2022-07-01T16:55:51.609Z"
   },
   {
    "duration": 124,
    "start_time": "2022-07-01T16:55:56.907Z"
   },
   {
    "duration": 9,
    "start_time": "2022-07-01T16:56:00.312Z"
   },
   {
    "duration": 29,
    "start_time": "2022-07-01T16:56:07.168Z"
   },
   {
    "duration": 9,
    "start_time": "2022-07-01T16:56:26.253Z"
   },
   {
    "duration": 2791,
    "start_time": "2022-07-01T17:30:00.303Z"
   },
   {
    "duration": 210,
    "start_time": "2022-07-01T17:34:23.290Z"
   },
   {
    "duration": 92,
    "start_time": "2022-07-01T17:34:35.581Z"
   },
   {
    "duration": 62,
    "start_time": "2022-07-01T17:34:36.582Z"
   },
   {
    "duration": 1284,
    "start_time": "2022-07-01T17:34:37.126Z"
   },
   {
    "duration": 55,
    "start_time": "2022-07-01T17:34:38.676Z"
   },
   {
    "duration": 1257,
    "start_time": "2022-07-01T17:34:39.284Z"
   },
   {
    "duration": 48,
    "start_time": "2022-07-01T17:34:40.543Z"
   },
   {
    "duration": 7,
    "start_time": "2022-07-01T17:34:40.592Z"
   },
   {
    "duration": 46,
    "start_time": "2022-07-01T17:34:40.761Z"
   },
   {
    "duration": 5,
    "start_time": "2022-07-01T17:34:41.231Z"
   },
   {
    "duration": 14,
    "start_time": "2022-07-01T17:34:41.705Z"
   },
   {
    "duration": 1152,
    "start_time": "2022-07-01T17:34:42.169Z"
   },
   {
    "duration": 1135,
    "start_time": "2022-07-01T17:34:43.326Z"
   },
   {
    "duration": 1174,
    "start_time": "2022-07-01T17:34:44.463Z"
   },
   {
    "duration": 1158,
    "start_time": "2022-07-01T17:34:45.639Z"
   },
   {
    "duration": 1167,
    "start_time": "2022-07-01T17:34:47.830Z"
   },
   {
    "duration": 1127,
    "start_time": "2022-07-01T17:34:48.999Z"
   },
   {
    "duration": 5,
    "start_time": "2022-07-01T17:34:50.128Z"
   },
   {
    "duration": 13,
    "start_time": "2022-07-01T17:34:50.889Z"
   },
   {
    "duration": 8,
    "start_time": "2022-07-01T17:34:52.082Z"
   },
   {
    "duration": 13,
    "start_time": "2022-07-01T17:34:53.230Z"
   },
   {
    "duration": 130,
    "start_time": "2022-07-01T17:34:55.715Z"
   },
   {
    "duration": 10,
    "start_time": "2022-07-01T17:34:57.110Z"
   },
   {
    "duration": 29,
    "start_time": "2022-07-01T17:34:58.464Z"
   },
   {
    "duration": 225,
    "start_time": "2022-07-01T17:34:59.425Z"
   },
   {
    "duration": 212,
    "start_time": "2022-07-01T17:35:48.334Z"
   },
   {
    "duration": 207,
    "start_time": "2022-07-01T17:35:55.404Z"
   },
   {
    "duration": 335,
    "start_time": "2022-07-01T17:35:56.128Z"
   },
   {
    "duration": 10,
    "start_time": "2022-07-01T17:35:58.168Z"
   },
   {
    "duration": 2716,
    "start_time": "2022-07-01T17:36:01.621Z"
   },
   {
    "duration": 205,
    "start_time": "2022-07-01T17:36:45.889Z"
   },
   {
    "duration": 2622,
    "start_time": "2022-07-01T17:36:55.592Z"
   },
   {
    "duration": 1271,
    "start_time": "2022-07-01T17:38:11.393Z"
   },
   {
    "duration": 1182,
    "start_time": "2022-07-01T17:38:41.207Z"
   },
   {
    "duration": 1424,
    "start_time": "2022-07-01T17:39:11.430Z"
   },
   {
    "duration": 13967,
    "start_time": "2022-07-01T17:39:57.427Z"
   },
   {
    "duration": 1698,
    "start_time": "2022-07-01T17:41:41.977Z"
   },
   {
    "duration": 1409,
    "start_time": "2022-07-01T17:42:56.214Z"
   },
   {
    "duration": 1423,
    "start_time": "2022-07-01T17:43:14.909Z"
   },
   {
    "duration": 49,
    "start_time": "2022-07-01T17:43:46.198Z"
   },
   {
    "duration": 1540,
    "start_time": "2022-07-01T17:43:55.421Z"
   },
   {
    "duration": 1697,
    "start_time": "2022-07-01T17:44:10.645Z"
   },
   {
    "duration": 3026,
    "start_time": "2022-07-01T17:56:25.893Z"
   },
   {
    "duration": 2957,
    "start_time": "2022-07-01T17:59:52.755Z"
   },
   {
    "duration": 2876,
    "start_time": "2022-07-01T18:00:17.801Z"
   },
   {
    "duration": 1304,
    "start_time": "2022-07-01T18:01:15.303Z"
   },
   {
    "duration": 271,
    "start_time": "2022-07-01T18:01:33.142Z"
   },
   {
    "duration": 278,
    "start_time": "2022-07-01T18:01:50.164Z"
   },
   {
    "duration": 2668,
    "start_time": "2022-07-01T18:03:11.038Z"
   },
   {
    "duration": 2824,
    "start_time": "2022-07-01T18:06:24.164Z"
   },
   {
    "duration": 3064,
    "start_time": "2022-07-01T18:07:22.421Z"
   },
   {
    "duration": 72,
    "start_time": "2022-07-01T18:13:01.907Z"
   },
   {
    "duration": 2931,
    "start_time": "2022-07-01T18:13:12.801Z"
   },
   {
    "duration": 2944,
    "start_time": "2022-07-01T18:13:39.924Z"
   },
   {
    "duration": 448,
    "start_time": "2022-07-01T18:19:03.193Z"
   },
   {
    "duration": 341,
    "start_time": "2022-07-01T18:19:15.538Z"
   },
   {
    "duration": 51,
    "start_time": "2022-07-01T18:48:40.757Z"
   },
   {
    "duration": 51,
    "start_time": "2022-07-01T18:48:49.619Z"
   },
   {
    "duration": 64,
    "start_time": "2022-07-01T18:50:45.138Z"
   },
   {
    "duration": 546,
    "start_time": "2022-07-02T07:00:37.090Z"
   },
   {
    "duration": 76,
    "start_time": "2022-07-02T07:00:37.638Z"
   },
   {
    "duration": 1271,
    "start_time": "2022-07-02T07:00:37.725Z"
   },
   {
    "duration": 51,
    "start_time": "2022-07-02T07:00:38.998Z"
   },
   {
    "duration": 6,
    "start_time": "2022-07-02T07:00:39.051Z"
   },
   {
    "duration": 51,
    "start_time": "2022-07-02T07:00:39.059Z"
   },
   {
    "duration": 6,
    "start_time": "2022-07-02T07:00:39.125Z"
   },
   {
    "duration": 22,
    "start_time": "2022-07-02T07:00:39.133Z"
   },
   {
    "duration": 1238,
    "start_time": "2022-07-02T07:00:39.157Z"
   },
   {
    "duration": 1250,
    "start_time": "2022-07-02T07:00:40.399Z"
   },
   {
    "duration": 1264,
    "start_time": "2022-07-02T07:00:41.651Z"
   },
   {
    "duration": 1230,
    "start_time": "2022-07-02T07:00:42.917Z"
   },
   {
    "duration": 1308,
    "start_time": "2022-07-02T07:00:44.149Z"
   },
   {
    "duration": 1168,
    "start_time": "2022-07-02T07:00:45.459Z"
   },
   {
    "duration": 5,
    "start_time": "2022-07-02T07:00:46.628Z"
   },
   {
    "duration": 22,
    "start_time": "2022-07-02T07:00:46.634Z"
   },
   {
    "duration": 8,
    "start_time": "2022-07-02T07:00:46.658Z"
   },
   {
    "duration": 11,
    "start_time": "2022-07-02T07:00:46.667Z"
   },
   {
    "duration": 135,
    "start_time": "2022-07-02T07:00:46.679Z"
   },
   {
    "duration": 16,
    "start_time": "2022-07-02T07:00:46.816Z"
   },
   {
    "duration": 33,
    "start_time": "2022-07-02T07:00:46.833Z"
   },
   {
    "duration": 294,
    "start_time": "2022-07-02T07:00:46.868Z"
   },
   {
    "duration": 344,
    "start_time": "2022-07-02T07:00:47.163Z"
   },
   {
    "duration": 8,
    "start_time": "2022-07-02T07:00:47.509Z"
   },
   {
    "duration": 3094,
    "start_time": "2022-07-02T07:00:47.525Z"
   },
   {
    "duration": 269,
    "start_time": "2022-07-02T07:00:50.625Z"
   },
   {
    "duration": 1978,
    "start_time": "2022-07-02T07:00:50.896Z"
   },
   {
    "duration": 32,
    "start_time": "2022-07-02T07:00:52.878Z"
   },
   {
    "duration": 26,
    "start_time": "2022-07-02T07:00:52.925Z"
   },
   {
    "duration": 44,
    "start_time": "2022-07-02T07:04:04.744Z"
   },
   {
    "duration": 5,
    "start_time": "2022-07-02T07:04:25.823Z"
   },
   {
    "duration": 7,
    "start_time": "2022-07-02T07:10:02.879Z"
   },
   {
    "duration": 5,
    "start_time": "2022-07-02T07:10:44.474Z"
   },
   {
    "duration": 5,
    "start_time": "2022-07-02T07:19:32.415Z"
   },
   {
    "duration": 6,
    "start_time": "2022-07-02T07:19:42.461Z"
   },
   {
    "duration": 9,
    "start_time": "2022-07-02T07:28:57.781Z"
   },
   {
    "duration": 8,
    "start_time": "2022-07-02T07:46:12.917Z"
   },
   {
    "duration": 9,
    "start_time": "2022-07-02T07:48:16.034Z"
   },
   {
    "duration": 124,
    "start_time": "2022-07-02T07:50:27.624Z"
   },
   {
    "duration": 342,
    "start_time": "2022-07-02T07:57:00.861Z"
   },
   {
    "duration": 384,
    "start_time": "2022-07-02T07:57:18.531Z"
   },
   {
    "duration": 213,
    "start_time": "2022-07-02T07:58:33.377Z"
   },
   {
    "duration": 49,
    "start_time": "2022-07-02T08:10:46.612Z"
   },
   {
    "duration": 510,
    "start_time": "2022-07-02T08:13:33.895Z"
   },
   {
    "duration": 98,
    "start_time": "2022-07-02T08:13:34.408Z"
   },
   {
    "duration": 1549,
    "start_time": "2022-07-02T08:13:34.508Z"
   },
   {
    "duration": 4,
    "start_time": "2022-07-02T08:13:36.059Z"
   },
   {
    "duration": 64,
    "start_time": "2022-07-02T08:13:36.066Z"
   },
   {
    "duration": 23,
    "start_time": "2022-07-02T08:13:36.131Z"
   },
   {
    "duration": 8,
    "start_time": "2022-07-02T08:13:36.157Z"
   },
   {
    "duration": 50,
    "start_time": "2022-07-02T08:13:36.167Z"
   },
   {
    "duration": 5,
    "start_time": "2022-07-02T08:13:36.219Z"
   },
   {
    "duration": 49,
    "start_time": "2022-07-02T08:13:36.225Z"
   },
   {
    "duration": 1423,
    "start_time": "2022-07-02T08:13:36.275Z"
   },
   {
    "duration": 1472,
    "start_time": "2022-07-02T08:13:37.700Z"
   },
   {
    "duration": 1438,
    "start_time": "2022-07-02T08:13:39.173Z"
   },
   {
    "duration": 1459,
    "start_time": "2022-07-02T08:13:40.614Z"
   },
   {
    "duration": 1443,
    "start_time": "2022-07-02T08:13:42.074Z"
   },
   {
    "duration": 1484,
    "start_time": "2022-07-02T08:13:43.519Z"
   },
   {
    "duration": 6,
    "start_time": "2022-07-02T08:13:45.005Z"
   },
   {
    "duration": 63,
    "start_time": "2022-07-02T08:13:45.012Z"
   },
   {
    "duration": 8,
    "start_time": "2022-07-02T08:13:45.077Z"
   },
   {
    "duration": 20,
    "start_time": "2022-07-02T08:13:45.087Z"
   },
   {
    "duration": 147,
    "start_time": "2022-07-02T08:13:45.109Z"
   },
   {
    "duration": 10,
    "start_time": "2022-07-02T08:13:45.261Z"
   },
   {
    "duration": 46,
    "start_time": "2022-07-02T08:13:45.272Z"
   },
   {
    "duration": 284,
    "start_time": "2022-07-02T08:13:45.325Z"
   },
   {
    "duration": 385,
    "start_time": "2022-07-02T08:13:45.610Z"
   },
   {
    "duration": 9,
    "start_time": "2022-07-02T08:13:45.997Z"
   },
   {
    "duration": 3210,
    "start_time": "2022-07-02T08:13:46.008Z"
   },
   {
    "duration": 326,
    "start_time": "2022-07-02T08:13:49.219Z"
   },
   {
    "duration": 2064,
    "start_time": "2022-07-02T08:13:49.549Z"
   },
   {
    "duration": 48,
    "start_time": "2022-07-02T08:13:51.615Z"
   },
   {
    "duration": 27,
    "start_time": "2022-07-02T08:13:51.665Z"
   },
   {
    "duration": 50,
    "start_time": "2022-07-03T08:46:55.215Z"
   },
   {
    "duration": 689,
    "start_time": "2022-07-03T08:47:00.187Z"
   },
   {
    "duration": 72,
    "start_time": "2022-07-03T08:47:05.305Z"
   },
   {
    "duration": 64,
    "start_time": "2022-07-03T08:47:08.612Z"
   },
   {
    "duration": 101,
    "start_time": "2022-07-03T08:47:35.917Z"
   },
   {
    "duration": 64,
    "start_time": "2022-07-03T08:50:26.931Z"
   },
   {
    "duration": 5,
    "start_time": "2022-07-03T09:05:49.996Z"
   },
   {
    "duration": 110,
    "start_time": "2022-07-03T09:06:09.256Z"
   },
   {
    "duration": 77,
    "start_time": "2022-07-03T09:06:15.030Z"
   },
   {
    "duration": 82,
    "start_time": "2022-07-03T09:06:21.432Z"
   },
   {
    "duration": 17,
    "start_time": "2022-07-03T09:09:21.466Z"
   },
   {
    "duration": 6,
    "start_time": "2022-07-03T09:09:23.785Z"
   },
   {
    "duration": 70,
    "start_time": "2022-07-03T09:09:32.861Z"
   },
   {
    "duration": 9,
    "start_time": "2022-07-03T09:09:34.326Z"
   },
   {
    "duration": 4,
    "start_time": "2022-07-03T09:10:37.409Z"
   },
   {
    "duration": 78,
    "start_time": "2022-07-03T09:11:18.869Z"
   },
   {
    "duration": 7,
    "start_time": "2022-07-03T09:14:43.698Z"
   },
   {
    "duration": 1670,
    "start_time": "2022-07-03T09:14:49.581Z"
   },
   {
    "duration": 1,
    "start_time": "2022-07-03T09:14:51.252Z"
   },
   {
    "duration": 1631,
    "start_time": "2022-07-03T09:14:57.310Z"
   },
   {
    "duration": 97,
    "start_time": "2022-07-03T09:15:24.156Z"
   },
   {
    "duration": 66,
    "start_time": "2022-07-03T09:15:24.989Z"
   },
   {
    "duration": 69,
    "start_time": "2022-07-03T09:15:28.019Z"
   },
   {
    "duration": 12,
    "start_time": "2022-07-03T09:15:29.184Z"
   },
   {
    "duration": 6,
    "start_time": "2022-07-03T09:15:29.452Z"
   },
   {
    "duration": 51,
    "start_time": "2022-07-03T09:15:31.060Z"
   },
   {
    "duration": 6,
    "start_time": "2022-07-03T09:15:31.679Z"
   },
   {
    "duration": 4,
    "start_time": "2022-07-03T09:15:32.810Z"
   },
   {
    "duration": 11,
    "start_time": "2022-07-03T09:18:01.164Z"
   },
   {
    "duration": 5,
    "start_time": "2022-07-03T09:18:37.794Z"
   },
   {
    "duration": 6,
    "start_time": "2022-07-03T09:18:41.382Z"
   },
   {
    "duration": 5,
    "start_time": "2022-07-03T09:18:44.797Z"
   },
   {
    "duration": 49,
    "start_time": "2022-07-03T09:18:49.577Z"
   },
   {
    "duration": 6,
    "start_time": "2022-07-03T09:18:50.977Z"
   },
   {
    "duration": 12,
    "start_time": "2022-07-03T09:18:51.606Z"
   },
   {
    "duration": 1194,
    "start_time": "2022-07-03T09:18:52.181Z"
   },
   {
    "duration": 1203,
    "start_time": "2022-07-03T09:18:57.256Z"
   },
   {
    "duration": 6,
    "start_time": "2022-07-03T09:19:00.230Z"
   },
   {
    "duration": 1263,
    "start_time": "2022-07-03T09:19:06.694Z"
   },
   {
    "duration": 1255,
    "start_time": "2022-07-03T09:19:15.978Z"
   },
   {
    "duration": 1192,
    "start_time": "2022-07-03T09:19:20.433Z"
   },
   {
    "duration": 11,
    "start_time": "2022-07-03T09:26:34.119Z"
   },
   {
    "duration": 81,
    "start_time": "2022-07-03T09:27:10.263Z"
   },
   {
    "duration": 41,
    "start_time": "2022-07-03T09:30:04.826Z"
   },
   {
    "duration": 16,
    "start_time": "2022-07-03T09:31:24.370Z"
   },
   {
    "duration": 327,
    "start_time": "2022-07-03T09:31:45.334Z"
   },
   {
    "duration": 15,
    "start_time": "2022-07-03T09:32:10.090Z"
   },
   {
    "duration": 264,
    "start_time": "2022-07-03T09:32:18.373Z"
   },
   {
    "duration": 12,
    "start_time": "2022-07-03T09:32:44.109Z"
   },
   {
    "duration": 36,
    "start_time": "2022-07-03T09:33:02.644Z"
   },
   {
    "duration": 38,
    "start_time": "2022-07-03T09:34:18.617Z"
   },
   {
    "duration": 38,
    "start_time": "2022-07-03T09:34:33.016Z"
   },
   {
    "duration": 389,
    "start_time": "2022-07-03T09:35:02.363Z"
   },
   {
    "duration": 385,
    "start_time": "2022-07-03T09:35:11.509Z"
   },
   {
    "duration": 11,
    "start_time": "2022-07-03T09:35:12.546Z"
   },
   {
    "duration": 983,
    "start_time": "2022-07-03T09:36:31.067Z"
   },
   {
    "duration": 3,
    "start_time": "2022-07-03T09:36:34.175Z"
   },
   {
    "duration": 79,
    "start_time": "2022-07-03T09:36:54.714Z"
   },
   {
    "duration": 3,
    "start_time": "2022-07-03T09:37:02.574Z"
   },
   {
    "duration": 2936,
    "start_time": "2022-07-03T09:37:03.473Z"
   },
   {
    "duration": 302,
    "start_time": "2022-07-03T09:37:07.872Z"
   },
   {
    "duration": 1606,
    "start_time": "2022-07-03T09:37:20.072Z"
   },
   {
    "duration": 1740,
    "start_time": "2022-07-03T09:41:27.774Z"
   },
   {
    "duration": 1820,
    "start_time": "2022-07-03T09:43:02.466Z"
   },
   {
    "duration": 1396,
    "start_time": "2022-07-03T09:43:49.983Z"
   },
   {
    "duration": 77,
    "start_time": "2022-07-03T09:44:56.414Z"
   },
   {
    "duration": 28,
    "start_time": "2022-07-03T09:48:02.326Z"
   },
   {
    "duration": 24,
    "start_time": "2022-07-03T09:48:04.418Z"
   },
   {
    "duration": 121,
    "start_time": "2022-07-03T09:48:21.376Z"
   },
   {
    "duration": 68,
    "start_time": "2022-07-03T09:48:22.879Z"
   },
   {
    "duration": 63,
    "start_time": "2022-07-03T09:48:25.962Z"
   },
   {
    "duration": 13,
    "start_time": "2022-07-03T09:48:26.972Z"
   },
   {
    "duration": 6,
    "start_time": "2022-07-03T09:48:27.230Z"
   },
   {
    "duration": 61,
    "start_time": "2022-07-03T09:48:28.459Z"
   },
   {
    "duration": 9,
    "start_time": "2022-07-03T09:48:29.020Z"
   },
   {
    "duration": 5,
    "start_time": "2022-07-03T09:48:29.853Z"
   },
   {
    "duration": 59,
    "start_time": "2022-07-03T09:48:30.385Z"
   },
   {
    "duration": 8,
    "start_time": "2022-07-03T09:48:30.957Z"
   },
   {
    "duration": 14,
    "start_time": "2022-07-03T09:48:31.459Z"
   },
   {
    "duration": 1391,
    "start_time": "2022-07-03T09:48:31.953Z"
   },
   {
    "duration": 1501,
    "start_time": "2022-07-03T09:48:33.346Z"
   },
   {
    "duration": 8,
    "start_time": "2022-07-03T09:48:35.791Z"
   },
   {
    "duration": 1844,
    "start_time": "2022-07-03T09:48:36.456Z"
   },
   {
    "duration": 1735,
    "start_time": "2022-07-03T09:48:38.303Z"
   },
   {
    "duration": 1898,
    "start_time": "2022-07-03T09:48:40.043Z"
   },
   {
    "duration": 7,
    "start_time": "2022-07-03T09:49:10.083Z"
   },
   {
    "duration": 1484,
    "start_time": "2022-07-03T09:49:13.901Z"
   },
   {
    "duration": 7,
    "start_time": "2022-07-03T09:49:42.778Z"
   },
   {
    "duration": 1528,
    "start_time": "2022-07-03T09:49:44.625Z"
   },
   {
    "duration": 7,
    "start_time": "2022-07-03T09:49:50.954Z"
   },
   {
    "duration": 1517,
    "start_time": "2022-07-03T09:49:52.356Z"
   },
   {
    "duration": 7,
    "start_time": "2022-07-03T09:50:02.694Z"
   },
   {
    "duration": 18,
    "start_time": "2022-07-03T09:50:05.361Z"
   },
   {
    "duration": 13,
    "start_time": "2022-07-03T09:50:10.331Z"
   },
   {
    "duration": 15,
    "start_time": "2022-07-03T09:50:11.795Z"
   },
   {
    "duration": 143,
    "start_time": "2022-07-03T09:50:24.785Z"
   },
   {
    "duration": 78,
    "start_time": "2022-07-03T09:50:27.658Z"
   },
   {
    "duration": 33,
    "start_time": "2022-07-03T09:50:32.429Z"
   },
   {
    "duration": 39,
    "start_time": "2022-07-03T09:50:34.954Z"
   },
   {
    "duration": 468,
    "start_time": "2022-07-03T09:50:44.060Z"
   },
   {
    "duration": 10,
    "start_time": "2022-07-03T09:50:44.787Z"
   },
   {
    "duration": 3,
    "start_time": "2022-07-03T09:50:48.793Z"
   },
   {
    "duration": 2821,
    "start_time": "2022-07-03T09:50:49.458Z"
   },
   {
    "duration": 305,
    "start_time": "2022-07-03T09:50:52.281Z"
   },
   {
    "duration": 1323,
    "start_time": "2022-07-03T09:50:54.892Z"
   },
   {
    "duration": 30,
    "start_time": "2022-07-03T09:51:02.782Z"
   },
   {
    "duration": 16,
    "start_time": "2022-07-03T09:53:25.264Z"
   },
   {
    "duration": 32,
    "start_time": "2022-07-03T09:53:36.032Z"
   },
   {
    "duration": 32,
    "start_time": "2022-07-03T09:53:49.978Z"
   },
   {
    "duration": 20,
    "start_time": "2022-07-03T09:55:33.676Z"
   },
   {
    "duration": 24,
    "start_time": "2022-07-03T09:55:37.374Z"
   },
   {
    "duration": 18,
    "start_time": "2022-07-03T09:55:39.867Z"
   },
   {
    "duration": 20,
    "start_time": "2022-07-03T09:55:46.965Z"
   },
   {
    "duration": 31,
    "start_time": "2022-07-03T09:56:00.294Z"
   },
   {
    "duration": 17,
    "start_time": "2022-07-03T09:56:05.723Z"
   },
   {
    "duration": 170,
    "start_time": "2022-07-03T09:59:28.281Z"
   },
   {
    "duration": 90,
    "start_time": "2022-07-03T10:02:45.801Z"
   },
   {
    "duration": 507,
    "start_time": "2022-07-03T15:44:25.294Z"
   },
   {
    "duration": 75,
    "start_time": "2022-07-03T15:44:25.803Z"
   },
   {
    "duration": 15,
    "start_time": "2022-07-03T15:44:25.880Z"
   },
   {
    "duration": 5,
    "start_time": "2022-07-03T15:44:25.896Z"
   },
   {
    "duration": 52,
    "start_time": "2022-07-03T15:44:25.927Z"
   },
   {
    "duration": 9,
    "start_time": "2022-07-03T15:44:25.980Z"
   },
   {
    "duration": 6,
    "start_time": "2022-07-03T15:44:25.990Z"
   },
   {
    "duration": 76,
    "start_time": "2022-07-03T15:44:25.998Z"
   },
   {
    "duration": 6,
    "start_time": "2022-07-03T15:44:26.075Z"
   },
   {
    "duration": 13,
    "start_time": "2022-07-03T15:44:26.082Z"
   },
   {
    "duration": 1260,
    "start_time": "2022-07-03T15:44:26.097Z"
   },
   {
    "duration": 1158,
    "start_time": "2022-07-03T15:44:27.359Z"
   },
   {
    "duration": 9,
    "start_time": "2022-07-03T15:44:28.519Z"
   },
   {
    "duration": 1219,
    "start_time": "2022-07-03T15:44:28.532Z"
   },
   {
    "duration": 5,
    "start_time": "2022-07-03T15:44:29.753Z"
   },
   {
    "duration": 1176,
    "start_time": "2022-07-03T15:44:29.759Z"
   },
   {
    "duration": 5,
    "start_time": "2022-07-03T15:44:30.937Z"
   },
   {
    "duration": 24,
    "start_time": "2022-07-03T15:44:30.944Z"
   },
   {
    "duration": 8,
    "start_time": "2022-07-03T15:44:30.970Z"
   },
   {
    "duration": 16,
    "start_time": "2022-07-03T15:44:30.980Z"
   },
   {
    "duration": 139,
    "start_time": "2022-07-03T15:44:30.997Z"
   },
   {
    "duration": 88,
    "start_time": "2022-07-03T15:44:31.138Z"
   },
   {
    "duration": 29,
    "start_time": "2022-07-03T15:44:31.228Z"
   },
   {
    "duration": 37,
    "start_time": "2022-07-03T15:44:31.258Z"
   },
   {
    "duration": 419,
    "start_time": "2022-07-03T15:44:31.297Z"
   },
   {
    "duration": 12,
    "start_time": "2022-07-03T15:44:31.718Z"
   },
   {
    "duration": 686,
    "start_time": "2022-07-03T15:44:31.731Z"
   },
   {
    "duration": 2723,
    "start_time": "2022-07-03T15:44:32.419Z"
   },
   {
    "duration": 391,
    "start_time": "2022-07-03T15:44:35.144Z"
   },
   {
    "duration": 1225,
    "start_time": "2022-07-03T15:44:35.536Z"
   },
   {
    "duration": 37,
    "start_time": "2022-07-03T15:44:36.762Z"
   },
   {
    "duration": 187,
    "start_time": "2022-07-03T15:44:36.801Z"
   },
   {
    "duration": 481,
    "start_time": "2022-07-03T16:04:35.270Z"
   },
   {
    "duration": 63,
    "start_time": "2022-07-03T16:04:35.752Z"
   },
   {
    "duration": 32,
    "start_time": "2022-07-03T16:04:35.817Z"
   },
   {
    "duration": 11,
    "start_time": "2022-07-03T16:04:35.850Z"
   },
   {
    "duration": 47,
    "start_time": "2022-07-03T16:04:35.862Z"
   },
   {
    "duration": 6,
    "start_time": "2022-07-03T16:04:35.911Z"
   },
   {
    "duration": 25,
    "start_time": "2022-07-03T16:04:35.929Z"
   },
   {
    "duration": 48,
    "start_time": "2022-07-03T16:04:35.956Z"
   },
   {
    "duration": 4,
    "start_time": "2022-07-03T16:04:36.006Z"
   },
   {
    "duration": 48,
    "start_time": "2022-07-03T16:04:36.011Z"
   },
   {
    "duration": 1318,
    "start_time": "2022-07-03T16:04:36.061Z"
   },
   {
    "duration": 1235,
    "start_time": "2022-07-03T16:04:37.382Z"
   },
   {
    "duration": 9,
    "start_time": "2022-07-03T16:04:38.619Z"
   },
   {
    "duration": 1260,
    "start_time": "2022-07-03T16:04:38.632Z"
   },
   {
    "duration": 5,
    "start_time": "2022-07-03T16:04:39.894Z"
   },
   {
    "duration": 1292,
    "start_time": "2022-07-03T16:04:39.901Z"
   },
   {
    "duration": 5,
    "start_time": "2022-07-03T16:04:41.194Z"
   },
   {
    "duration": 20,
    "start_time": "2022-07-03T16:04:41.200Z"
   },
   {
    "duration": 16,
    "start_time": "2022-07-03T16:04:41.227Z"
   },
   {
    "duration": 24,
    "start_time": "2022-07-03T16:04:41.245Z"
   },
   {
    "duration": 120,
    "start_time": "2022-07-03T16:04:41.271Z"
   },
   {
    "duration": 89,
    "start_time": "2022-07-03T16:04:41.393Z"
   },
   {
    "duration": 28,
    "start_time": "2022-07-03T16:04:41.483Z"
   },
   {
    "duration": 59,
    "start_time": "2022-07-03T16:04:41.512Z"
   },
   {
    "duration": 421,
    "start_time": "2022-07-03T16:04:41.573Z"
   },
   {
    "duration": 7,
    "start_time": "2022-07-03T16:04:41.996Z"
   },
   {
    "duration": 772,
    "start_time": "2022-07-03T16:04:42.005Z"
   },
   {
    "duration": 2954,
    "start_time": "2022-07-03T16:04:42.779Z"
   },
   {
    "duration": 390,
    "start_time": "2022-07-03T16:04:45.737Z"
   },
   {
    "duration": 1331,
    "start_time": "2022-07-03T16:04:46.129Z"
   },
   {
    "duration": 29,
    "start_time": "2022-07-03T16:04:47.461Z"
   },
   {
    "duration": 188,
    "start_time": "2022-07-03T16:04:47.491Z"
   },
   {
    "duration": 549,
    "start_time": "2022-11-26T07:45:27.363Z"
   },
   {
    "duration": 67,
    "start_time": "2022-11-26T07:45:27.914Z"
   },
   {
    "duration": 13,
    "start_time": "2022-11-26T07:45:27.983Z"
   },
   {
    "duration": 5,
    "start_time": "2022-11-26T07:45:27.997Z"
   },
   {
    "duration": 70,
    "start_time": "2022-11-26T07:45:28.004Z"
   },
   {
    "duration": 7,
    "start_time": "2022-11-26T07:45:28.076Z"
   },
   {
    "duration": 5,
    "start_time": "2022-11-26T07:45:28.085Z"
   },
   {
    "duration": 66,
    "start_time": "2022-11-26T07:45:28.092Z"
   },
   {
    "duration": 5,
    "start_time": "2022-11-26T07:45:28.160Z"
   },
   {
    "duration": 13,
    "start_time": "2022-11-26T07:45:28.166Z"
   },
   {
    "duration": 1225,
    "start_time": "2022-11-26T07:45:28.181Z"
   },
   {
    "duration": 1155,
    "start_time": "2022-11-26T07:45:29.407Z"
   },
   {
    "duration": 5,
    "start_time": "2022-11-26T07:45:30.564Z"
   },
   {
    "duration": 1140,
    "start_time": "2022-11-26T07:45:30.570Z"
   },
   {
    "duration": 5,
    "start_time": "2022-11-26T07:45:31.712Z"
   },
   {
    "duration": 1168,
    "start_time": "2022-11-26T07:45:31.719Z"
   },
   {
    "duration": 8,
    "start_time": "2022-11-26T07:45:32.889Z"
   },
   {
    "duration": 22,
    "start_time": "2022-11-26T07:45:32.899Z"
   },
   {
    "duration": 24,
    "start_time": "2022-11-26T07:45:32.923Z"
   },
   {
    "duration": 19,
    "start_time": "2022-11-26T07:45:32.949Z"
   },
   {
    "duration": 137,
    "start_time": "2022-11-26T07:45:32.970Z"
   },
   {
    "duration": 90,
    "start_time": "2022-11-26T07:45:33.108Z"
   },
   {
    "duration": 38,
    "start_time": "2022-11-26T07:45:33.200Z"
   },
   {
    "duration": 34,
    "start_time": "2022-11-26T07:45:33.240Z"
   },
   {
    "duration": 384,
    "start_time": "2022-11-26T07:45:33.276Z"
   },
   {
    "duration": 10,
    "start_time": "2022-11-26T07:45:33.662Z"
   },
   {
    "duration": 901,
    "start_time": "2022-11-26T07:45:33.676Z"
   },
   {
    "duration": 2678,
    "start_time": "2022-11-26T07:45:34.579Z"
   },
   {
    "duration": 372,
    "start_time": "2022-11-26T07:45:37.259Z"
   },
   {
    "duration": 1192,
    "start_time": "2022-11-26T07:45:37.637Z"
   },
   {
    "duration": 37,
    "start_time": "2022-11-26T07:45:38.831Z"
   },
   {
    "duration": 233,
    "start_time": "2022-11-26T07:45:38.870Z"
   },
   {
    "duration": 537,
    "start_time": "2022-11-26T07:56:10.097Z"
   },
   {
    "duration": 71,
    "start_time": "2022-11-26T07:56:10.636Z"
   },
   {
    "duration": 29,
    "start_time": "2022-11-26T07:56:10.709Z"
   },
   {
    "duration": 6,
    "start_time": "2022-11-26T07:56:10.741Z"
   },
   {
    "duration": 52,
    "start_time": "2022-11-26T07:56:10.750Z"
   },
   {
    "duration": 8,
    "start_time": "2022-11-26T07:56:10.804Z"
   },
   {
    "duration": 5,
    "start_time": "2022-11-26T07:56:10.837Z"
   },
   {
    "duration": 51,
    "start_time": "2022-11-26T07:56:10.843Z"
   },
   {
    "duration": 5,
    "start_time": "2022-11-26T07:56:10.895Z"
   },
   {
    "duration": 46,
    "start_time": "2022-11-26T07:56:10.902Z"
   },
   {
    "duration": 1232,
    "start_time": "2022-11-26T07:56:10.950Z"
   },
   {
    "duration": 1222,
    "start_time": "2022-11-26T07:56:12.183Z"
   },
   {
    "duration": 5,
    "start_time": "2022-11-26T07:56:13.407Z"
   },
   {
    "duration": 1302,
    "start_time": "2022-11-26T07:56:13.415Z"
   },
   {
    "duration": 7,
    "start_time": "2022-11-26T07:56:14.718Z"
   },
   {
    "duration": 1213,
    "start_time": "2022-11-26T07:56:14.727Z"
   },
   {
    "duration": 5,
    "start_time": "2022-11-26T07:56:15.942Z"
   },
   {
    "duration": 41,
    "start_time": "2022-11-26T07:56:15.948Z"
   },
   {
    "duration": 7,
    "start_time": "2022-11-26T07:56:15.991Z"
   },
   {
    "duration": 32,
    "start_time": "2022-11-26T07:56:15.999Z"
   },
   {
    "duration": 132,
    "start_time": "2022-11-26T07:56:16.033Z"
   },
   {
    "duration": 88,
    "start_time": "2022-11-26T07:56:16.167Z"
   },
   {
    "duration": 31,
    "start_time": "2022-11-26T07:56:16.257Z"
   },
   {
    "duration": 57,
    "start_time": "2022-11-26T07:56:16.290Z"
   },
   {
    "duration": 408,
    "start_time": "2022-11-26T07:56:16.348Z"
   },
   {
    "duration": 8,
    "start_time": "2022-11-26T07:56:16.757Z"
   },
   {
    "duration": 729,
    "start_time": "2022-11-26T07:56:16.767Z"
   },
   {
    "duration": 3009,
    "start_time": "2022-11-26T07:56:17.498Z"
   },
   {
    "duration": 408,
    "start_time": "2022-11-26T07:56:20.508Z"
   },
   {
    "duration": 1265,
    "start_time": "2022-11-26T07:56:20.918Z"
   },
   {
    "duration": 30,
    "start_time": "2022-11-26T07:56:22.185Z"
   },
   {
    "duration": 204,
    "start_time": "2022-11-26T07:56:22.218Z"
   }
  ],
  "kernelspec": {
   "display_name": "Python 3 (ipykernel)",
   "language": "python",
   "name": "python3"
  },
  "language_info": {
   "codemirror_mode": {
    "name": "ipython",
    "version": 3
   },
   "file_extension": ".py",
   "mimetype": "text/x-python",
   "name": "python",
   "nbconvert_exporter": "python",
   "pygments_lexer": "ipython3",
   "version": "3.9.5"
  },
  "toc": {
   "base_numbering": 1,
   "nav_menu": {},
   "number_sections": true,
   "sideBar": true,
   "skip_h1_title": true,
   "title_cell": "Table of Contents",
   "title_sidebar": "Contents",
   "toc_cell": false,
   "toc_position": {},
   "toc_section_display": true,
   "toc_window_display": false
  }
 },
 "nbformat": 4,
 "nbformat_minor": 2
}
